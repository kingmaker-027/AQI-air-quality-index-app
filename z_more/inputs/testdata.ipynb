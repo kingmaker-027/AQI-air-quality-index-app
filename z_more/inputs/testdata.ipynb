{
 "cells": [
  {
   "cell_type": "code",
   "execution_count": 6,
   "id": "cd9ccff3",
   "metadata": {},
   "outputs": [
    {
     "data": {
      "text/plain": [
       "(60, 9)"
      ]
     },
     "execution_count": 6,
     "metadata": {},
     "output_type": "execute_result"
    }
   ],
   "source": [
    "import pandas as pd\n",
    "import numpy as np\n",
    "df= pd.read_csv('City_day01.csv')\n",
    "# df = df[df['City']=='Delhi']\n",
    "df = df.drop(['City','NO','NOx','Benzene','Toluene','Xylene'],axis = 1)\n",
    "df =df[120:180]\n",
    "df.shape"
   ]
  },
  {
   "cell_type": "code",
   "execution_count": 7,
   "id": "14973d29",
   "metadata": {},
   "outputs": [],
   "source": [
    "df.to_csv('file2.csv', index=False)"
   ]
  },
  {
   "cell_type": "code",
   "execution_count": 8,
   "id": "c53b3909",
   "metadata": {},
   "outputs": [
    {
     "data": {
      "text/html": [
       "<div>\n",
       "<style scoped>\n",
       "    .dataframe tbody tr th:only-of-type {\n",
       "        vertical-align: middle;\n",
       "    }\n",
       "\n",
       "    .dataframe tbody tr th {\n",
       "        vertical-align: top;\n",
       "    }\n",
       "\n",
       "    .dataframe thead th {\n",
       "        text-align: right;\n",
       "    }\n",
       "</style>\n",
       "<table border=\"1\" class=\"dataframe\">\n",
       "  <thead>\n",
       "    <tr style=\"text-align: right;\">\n",
       "      <th></th>\n",
       "      <th>Date</th>\n",
       "      <th>PM2.5</th>\n",
       "      <th>PM10</th>\n",
       "      <th>NO2</th>\n",
       "      <th>NH3</th>\n",
       "      <th>CO</th>\n",
       "      <th>SO2</th>\n",
       "      <th>O3</th>\n",
       "      <th>AQI</th>\n",
       "    </tr>\n",
       "  </thead>\n",
       "  <tbody>\n",
       "    <tr>\n",
       "      <th>0</th>\n",
       "      <td>2015-03-02</td>\n",
       "      <td>60.78</td>\n",
       "      <td>141.54</td>\n",
       "      <td>18.210</td>\n",
       "      <td>15.63</td>\n",
       "      <td>9.07</td>\n",
       "      <td>29.480</td>\n",
       "      <td>34.750</td>\n",
       "      <td>189.000000</td>\n",
       "    </tr>\n",
       "    <tr>\n",
       "      <th>1</th>\n",
       "      <td>2015-03-03</td>\n",
       "      <td>91.83</td>\n",
       "      <td>141.54</td>\n",
       "      <td>28.710</td>\n",
       "      <td>15.63</td>\n",
       "      <td>12.99</td>\n",
       "      <td>39.710</td>\n",
       "      <td>38.460</td>\n",
       "      <td>408.000000</td>\n",
       "    </tr>\n",
       "    <tr>\n",
       "      <th>2</th>\n",
       "      <td>2015-03-04</td>\n",
       "      <td>93.88</td>\n",
       "      <td>141.54</td>\n",
       "      <td>29.380</td>\n",
       "      <td>15.63</td>\n",
       "      <td>18.21</td>\n",
       "      <td>62.750</td>\n",
       "      <td>46.790</td>\n",
       "      <td>383.000000</td>\n",
       "    </tr>\n",
       "    <tr>\n",
       "      <th>3</th>\n",
       "      <td>2015-03-05</td>\n",
       "      <td>173.01</td>\n",
       "      <td>141.54</td>\n",
       "      <td>42.270</td>\n",
       "      <td>15.63</td>\n",
       "      <td>48.44</td>\n",
       "      <td>78.760</td>\n",
       "      <td>59.390</td>\n",
       "      <td>780.000000</td>\n",
       "    </tr>\n",
       "    <tr>\n",
       "      <th>4</th>\n",
       "      <td>2015-03-06</td>\n",
       "      <td>139.23</td>\n",
       "      <td>141.54</td>\n",
       "      <td>29.185</td>\n",
       "      <td>15.63</td>\n",
       "      <td>25.47</td>\n",
       "      <td>54.025</td>\n",
       "      <td>64.645</td>\n",
       "      <td>583.333333</td>\n",
       "    </tr>\n",
       "  </tbody>\n",
       "</table>\n",
       "</div>"
      ],
      "text/plain": [
       "         Date   PM2.5    PM10     NO2    NH3     CO     SO2      O3  \\\n",
       "0  2015-03-02   60.78  141.54  18.210  15.63   9.07  29.480  34.750   \n",
       "1  2015-03-03   91.83  141.54  28.710  15.63  12.99  39.710  38.460   \n",
       "2  2015-03-04   93.88  141.54  29.380  15.63  18.21  62.750  46.790   \n",
       "3  2015-03-05  173.01  141.54  42.270  15.63  48.44  78.760  59.390   \n",
       "4  2015-03-06  139.23  141.54  29.185  15.63  25.47  54.025  64.645   \n",
       "\n",
       "          AQI  \n",
       "0  189.000000  \n",
       "1  408.000000  \n",
       "2  383.000000  \n",
       "3  780.000000  \n",
       "4  583.333333  "
      ]
     },
     "execution_count": 8,
     "metadata": {},
     "output_type": "execute_result"
    }
   ],
   "source": [
    "df= pd.read_csv('file1.csv')\n",
    "df.head(5)"
   ]
  },
  {
   "cell_type": "code",
   "execution_count": null,
   "id": "8a58c84d",
   "metadata": {},
   "outputs": [],
   "source": []
  }
 ],
 "metadata": {
  "kernelspec": {
   "display_name": "Python 3 (ipykernel)",
   "language": "python",
   "name": "python3"
  },
  "language_info": {
   "codemirror_mode": {
    "name": "ipython",
    "version": 3
   },
   "file_extension": ".py",
   "mimetype": "text/x-python",
   "name": "python",
   "nbconvert_exporter": "python",
   "pygments_lexer": "ipython3",
   "version": "3.9.15"
  }
 },
 "nbformat": 4,
 "nbformat_minor": 5
}
