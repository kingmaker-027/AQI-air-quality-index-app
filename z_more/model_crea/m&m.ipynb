{
 "cells": [
  {
   "cell_type": "code",
   "execution_count": 1,
   "id": "d5b2f7e0",
   "metadata": {},
   "outputs": [],
   "source": [
    "#import libraries\n",
    "import pandas as pd\n",
    "import numpy as np\n",
    "import tensorflow as tf\n",
    "\n",
    "from numpy import array , hstack\n",
    "from sklearn.preprocessing import MinMaxScaler\n",
    "from tensorflow import keras\n",
    "from keras.models import Sequential\n",
    "from keras.layers import Dense,LSTM,Activation\n",
    "from keras.callbacks import ModelCheckpoint\n",
    "from keras.losses import MeanSquaredError as mse\n",
    "from keras.metrics import RootMeanSquaredError,accuracy\n",
    "from keras.optimizers import Adam"
   ]
  },
  {
   "cell_type": "code",
   "execution_count": 2,
   "id": "1b30634b",
   "metadata": {},
   "outputs": [],
   "source": [
    "df = pd.read_csv(r\"C:\\Users\\Acer\\Desktop\\Model_creation\\dataset\\City_day01.csv\")\n",
    "df = df[df['City']=='Delhi']\n",
    "df.index= pd.to_datetime(df['Date'])\n",
    "df = df.drop(['City','Date','NO','NOx','Benzene','Toluene','Xylene'],axis = 1)"
   ]
  },
  {
   "cell_type": "code",
   "execution_count": 3,
   "id": "f4fa3819",
   "metadata": {},
   "outputs": [],
   "source": [
    "from sklearn import preprocessing\n",
    "Scaler = preprocessing.MinMaxScaler()\n",
    "for i in df.columns:\n",
    "    df[[i]] = Scaler.fit_transform(df[[i]])\n"
   ]
  },
  {
   "cell_type": "code",
   "execution_count": 4,
   "id": "bae938b6",
   "metadata": {},
   "outputs": [],
   "source": [
    "def split_sequences(sequences, n_steps_in, n_steps_out):\n",
    "        X = []\n",
    "        y = []\n",
    "        sequences = sequences.to_numpy()\n",
    "        for i in range(len(sequences)):\n",
    "            # find the end of this pattern\n",
    "            end_ix = i + n_steps_in\n",
    "            out_end_ix = end_ix + n_steps_out-1\n",
    "            # check if we are beyond the dataset\n",
    "            if out_end_ix > len(sequences):\n",
    "                break\n",
    "            # gather input and output parts of the pattern\n",
    "            seq_x, seq_y = sequences[i:end_ix, :-1], sequences[end_ix-1:out_end_ix, -1]\n",
    "            X.append(seq_x)\n",
    "            y.append(seq_y)\n",
    "        return array(X), array(y)"
   ]
  },
  {
   "cell_type": "code",
   "execution_count": 5,
   "id": "7a547738",
   "metadata": {},
   "outputs": [
    {
     "name": "stdout",
     "output_type": "stream",
     "text": [
      "X.shape (1921, 60, 7)\n",
      "y.shape (1921, 30)\n"
     ]
    }
   ],
   "source": [
    "n_steps_in, n_steps_out = 60 , 30 # choose a number of time steps #change this accordingly\n",
    "X, y = split_sequences(df, n_steps_in, n_steps_out) # covert into input/output\n",
    "print (\"X.shape\" , X.shape) \n",
    "print (\"y.shape\" , y.shape)     "
   ]
  },
  {
   "cell_type": "code",
   "execution_count": 6,
   "id": "037383ec",
   "metadata": {},
   "outputs": [
    {
     "name": "stdout",
     "output_type": "stream",
     "text": [
      "X_train (1536, 60, 7)\n",
      "y_train (1536, 30)\n",
      "X_test (385, 60, 7)\n",
      "y_test (385, 30)\n",
      "n_features= 7\n"
     ]
    }
   ],
   "source": [
    "from sklearn.model_selection import train_test_split\n",
    "X_train, X_test, y_train, y_test = train_test_split(X,y, train_size=0.8)\n",
    "\n",
    "print('X_train',X_train.shape), print('y_train',y_train.shape)\n",
    "print('X_test',X_test.shape), print('y_test',y_test.shape)\n",
    "n_features = X_train.shape[2]\n",
    "print('n_features=',n_features)"
   ]
  },
  {
   "cell_type": "code",
   "execution_count": 7,
   "id": "f9fc08f1",
   "metadata": {},
   "outputs": [
    {
     "name": "stdout",
     "output_type": "stream",
     "text": [
      "WARNING:tensorflow:Layer lstm will not use cuDNN kernels since it doesn't meet the criteria. It will use a generic GPU kernel as fallback when running on GPU.\n",
      "WARNING:tensorflow:Layer lstm_1 will not use cuDNN kernels since it doesn't meet the criteria. It will use a generic GPU kernel as fallback when running on GPU.\n",
      "Model: \"sequential\"\n",
      "_________________________________________________________________\n",
      " Layer (type)                Output Shape              Param #   \n",
      "=================================================================\n",
      " lstm (LSTM)                 (None, 60, 50)            11600     \n",
      "                                                                 \n",
      " lstm_1 (LSTM)               (None, 50)                20200     \n",
      "                                                                 \n",
      " dense (Dense)               (None, 30)                1530      \n",
      "                                                                 \n",
      " activation (Activation)     (None, 30)                0         \n",
      "                                                                 \n",
      "=================================================================\n",
      "Total params: 33,330\n",
      "Trainable params: 33,330\n",
      "Non-trainable params: 0\n",
      "_________________________________________________________________\n"
     ]
    }
   ],
   "source": [
    "# define model\n",
    "model = Sequential()\n",
    "model.add(LSTM(50, activation='relu', return_sequences=True, input_shape=(n_steps_in, n_features)))\n",
    "model.add(LSTM(50, activation='relu'))\n",
    "model.add(Dense(n_steps_out))\n",
    "model.add(Activation('linear'))\n",
    "model.summary()"
   ]
  },
  {
   "cell_type": "code",
   "execution_count": 8,
   "id": "cd759c67",
   "metadata": {},
   "outputs": [],
   "source": [
    "cp  = ModelCheckpoint('model/',save_best_only=True)\n",
    "# cp = [\n",
    "#     keras.callbacks.EarlyStopping(monitor='val_loss',\n",
    "#                                   mode='min',\n",
    "#                                   patience=1,\n",
    "#                                   verbose=1,\n",
    "#                                   restore_best_weights=True)]\n",
    "model.compile(loss=mse(), optimizer=Adam(learning_rate=0.0001), metrics=['RootMeanSquaredError'])"
   ]
  },
  {
   "cell_type": "code",
   "execution_count": 9,
   "id": "05b3baa5",
   "metadata": {
    "scrolled": false
   },
   "outputs": [
    {
     "name": "stdout",
     "output_type": "stream",
     "text": [
      "Epoch 1/55\n",
      "62/62 [==============================] - ETA: 0s - loss: 0.1791 - root_mean_squared_error: 0.4232INFO:tensorflow:Assets written to: model\\assets\n",
      "62/62 [==============================] - 31s 421ms/step - loss: 0.1791 - root_mean_squared_error: 0.4232 - val_loss: 0.1540 - val_root_mean_squared_error: 0.3924\n",
      "Epoch 2/55\n",
      "62/62 [==============================] - ETA: 0s - loss: 0.1162 - root_mean_squared_error: 0.3409INFO:tensorflow:Assets written to: model\\assets\n",
      "62/62 [==============================] - 25s 403ms/step - loss: 0.1162 - root_mean_squared_error: 0.3409 - val_loss: 0.0856 - val_root_mean_squared_error: 0.2926\n",
      "Epoch 3/55\n",
      "62/62 [==============================] - ETA: 0s - loss: 0.0640 - root_mean_squared_error: 0.2530INFO:tensorflow:Assets written to: model\\assets\n",
      "62/62 [==============================] - 25s 401ms/step - loss: 0.0640 - root_mean_squared_error: 0.2530 - val_loss: 0.0509 - val_root_mean_squared_error: 0.2257\n",
      "Epoch 4/55\n",
      "62/62 [==============================] - ETA: 0s - loss: 0.0409 - root_mean_squared_error: 0.2021INFO:tensorflow:Assets written to: model\\assets\n",
      "62/62 [==============================] - 26s 416ms/step - loss: 0.0409 - root_mean_squared_error: 0.2021 - val_loss: 0.0373 - val_root_mean_squared_error: 0.1931\n",
      "Epoch 5/55\n",
      "62/62 [==============================] - ETA: 0s - loss: 0.0319 - root_mean_squared_error: 0.1785INFO:tensorflow:Assets written to: model\\assets\n",
      "62/62 [==============================] - 25s 398ms/step - loss: 0.0319 - root_mean_squared_error: 0.1785 - val_loss: 0.0320 - val_root_mean_squared_error: 0.1788\n",
      "Epoch 6/55\n",
      "62/62 [==============================] - ETA: 0s - loss: 0.0286 - root_mean_squared_error: 0.1690INFO:tensorflow:Assets written to: model\\assets\n",
      "62/62 [==============================] - 28s 453ms/step - loss: 0.0286 - root_mean_squared_error: 0.1690 - val_loss: 0.0299 - val_root_mean_squared_error: 0.1729\n",
      "Epoch 7/55\n",
      "62/62 [==============================] - ETA: 0s - loss: 0.0272 - root_mean_squared_error: 0.1648INFO:tensorflow:Assets written to: model\\assets\n",
      "62/62 [==============================] - 28s 446ms/step - loss: 0.0272 - root_mean_squared_error: 0.1648 - val_loss: 0.0289 - val_root_mean_squared_error: 0.1699\n",
      "Epoch 8/55\n",
      "62/62 [==============================] - ETA: 0s - loss: 0.0263 - root_mean_squared_error: 0.1623INFO:tensorflow:Assets written to: model\\assets\n",
      "62/62 [==============================] - 30s 479ms/step - loss: 0.0263 - root_mean_squared_error: 0.1623 - val_loss: 0.0281 - val_root_mean_squared_error: 0.1676\n",
      "Epoch 9/55\n",
      "62/62 [==============================] - ETA: 0s - loss: 0.0257 - root_mean_squared_error: 0.1604INFO:tensorflow:Assets written to: model\\assets\n",
      "62/62 [==============================] - 27s 431ms/step - loss: 0.0257 - root_mean_squared_error: 0.1604 - val_loss: 0.0274 - val_root_mean_squared_error: 0.1657\n",
      "Epoch 10/55\n",
      "62/62 [==============================] - ETA: 0s - loss: 0.0252 - root_mean_squared_error: 0.1588INFO:tensorflow:Assets written to: model\\assets\n",
      "62/62 [==============================] - 26s 417ms/step - loss: 0.0252 - root_mean_squared_error: 0.1588 - val_loss: 0.0269 - val_root_mean_squared_error: 0.1639\n",
      "Epoch 11/55\n",
      "62/62 [==============================] - ETA: 0s - loss: 0.0247 - root_mean_squared_error: 0.1572INFO:tensorflow:Assets written to: model\\assets\n",
      "62/62 [==============================] - 26s 417ms/step - loss: 0.0247 - root_mean_squared_error: 0.1572 - val_loss: 0.0263 - val_root_mean_squared_error: 0.1621\n",
      "Epoch 12/55\n",
      "62/62 [==============================] - ETA: 0s - loss: 0.0242 - root_mean_squared_error: 0.1557INFO:tensorflow:Assets written to: model\\assets\n",
      "62/62 [==============================] - 25s 409ms/step - loss: 0.0242 - root_mean_squared_error: 0.1557 - val_loss: 0.0256 - val_root_mean_squared_error: 0.1601\n",
      "Epoch 13/55\n",
      "62/62 [==============================] - ETA: 0s - loss: 0.0238 - root_mean_squared_error: 0.1542INFO:tensorflow:Assets written to: model\\assets\n",
      "62/62 [==============================] - 26s 413ms/step - loss: 0.0238 - root_mean_squared_error: 0.1542 - val_loss: 0.0249 - val_root_mean_squared_error: 0.1579\n",
      "Epoch 14/55\n",
      "62/62 [==============================] - ETA: 0s - loss: 0.0233 - root_mean_squared_error: 0.1527INFO:tensorflow:Assets written to: model\\assets\n",
      "62/62 [==============================] - 27s 432ms/step - loss: 0.0233 - root_mean_squared_error: 0.1527 - val_loss: 0.0243 - val_root_mean_squared_error: 0.1558\n",
      "Epoch 15/55\n",
      "62/62 [==============================] - ETA: 0s - loss: 0.0228 - root_mean_squared_error: 0.1512INFO:tensorflow:Assets written to: model\\assets\n",
      "62/62 [==============================] - 27s 436ms/step - loss: 0.0228 - root_mean_squared_error: 0.1512 - val_loss: 0.0236 - val_root_mean_squared_error: 0.1535\n",
      "Epoch 16/55\n",
      "62/62 [==============================] - ETA: 0s - loss: 0.0224 - root_mean_squared_error: 0.1496INFO:tensorflow:Assets written to: model\\assets\n",
      "62/62 [==============================] - 29s 468ms/step - loss: 0.0224 - root_mean_squared_error: 0.1496 - val_loss: 0.0228 - val_root_mean_squared_error: 0.1510\n",
      "Epoch 17/55\n",
      "62/62 [==============================] - ETA: 0s - loss: 0.0219 - root_mean_squared_error: 0.1479INFO:tensorflow:Assets written to: model\\assets\n",
      "62/62 [==============================] - 26s 421ms/step - loss: 0.0219 - root_mean_squared_error: 0.1479 - val_loss: 0.0221 - val_root_mean_squared_error: 0.1488\n",
      "Epoch 18/55\n",
      "62/62 [==============================] - ETA: 0s - loss: 0.0214 - root_mean_squared_error: 0.1463INFO:tensorflow:Assets written to: model\\assets\n",
      "62/62 [==============================] - 27s 438ms/step - loss: 0.0214 - root_mean_squared_error: 0.1463 - val_loss: 0.0217 - val_root_mean_squared_error: 0.1473\n",
      "Epoch 19/55\n",
      "62/62 [==============================] - ETA: 0s - loss: 0.0211 - root_mean_squared_error: 0.1451INFO:tensorflow:Assets written to: model\\assets\n",
      "62/62 [==============================] - 26s 426ms/step - loss: 0.0211 - root_mean_squared_error: 0.1451 - val_loss: 0.0216 - val_root_mean_squared_error: 0.1468\n",
      "Epoch 20/55\n",
      "62/62 [==============================] - ETA: 0s - loss: 0.0208 - root_mean_squared_error: 0.1441INFO:tensorflow:Assets written to: model\\assets\n",
      "62/62 [==============================] - 27s 438ms/step - loss: 0.0208 - root_mean_squared_error: 0.1441 - val_loss: 0.0215 - val_root_mean_squared_error: 0.1465\n",
      "Epoch 21/55\n",
      "62/62 [==============================] - ETA: 0s - loss: 0.0205 - root_mean_squared_error: 0.1433INFO:tensorflow:Assets written to: model\\assets\n",
      "62/62 [==============================] - 27s 438ms/step - loss: 0.0205 - root_mean_squared_error: 0.1433 - val_loss: 0.0212 - val_root_mean_squared_error: 0.1456\n",
      "Epoch 22/55\n",
      "62/62 [==============================] - ETA: 0s - loss: 0.0203 - root_mean_squared_error: 0.1424INFO:tensorflow:Assets written to: model\\assets\n",
      "62/62 [==============================] - 27s 435ms/step - loss: 0.0203 - root_mean_squared_error: 0.1424 - val_loss: 0.0209 - val_root_mean_squared_error: 0.1444\n",
      "Epoch 23/55\n",
      "62/62 [==============================] - ETA: 0s - loss: 0.0200 - root_mean_squared_error: 0.1416INFO:tensorflow:Assets written to: model\\assets\n",
      "62/62 [==============================] - 27s 434ms/step - loss: 0.0200 - root_mean_squared_error: 0.1416 - val_loss: 0.0204 - val_root_mean_squared_error: 0.1430\n",
      "Epoch 24/55\n",
      "62/62 [==============================] - ETA: 0s - loss: 0.0198 - root_mean_squared_error: 0.1408INFO:tensorflow:Assets written to: model\\assets\n",
      "62/62 [==============================] - 29s 462ms/step - loss: 0.0198 - root_mean_squared_error: 0.1408 - val_loss: 0.0201 - val_root_mean_squared_error: 0.1417\n",
      "Epoch 25/55\n",
      "62/62 [==============================] - ETA: 0s - loss: 0.0196 - root_mean_squared_error: 0.1400INFO:tensorflow:Assets written to: model\\assets\n",
      "62/62 [==============================] - 27s 437ms/step - loss: 0.0196 - root_mean_squared_error: 0.1400 - val_loss: 0.0198 - val_root_mean_squared_error: 0.1407\n",
      "Epoch 26/55\n",
      "62/62 [==============================] - ETA: 0s - loss: 0.0193 - root_mean_squared_error: 0.1391INFO:tensorflow:Assets written to: model\\assets\n",
      "62/62 [==============================] - 27s 434ms/step - loss: 0.0193 - root_mean_squared_error: 0.1391 - val_loss: 0.0195 - val_root_mean_squared_error: 0.1398\n"
     ]
    },
    {
     "name": "stdout",
     "output_type": "stream",
     "text": [
      "Epoch 27/55\n",
      "62/62 [==============================] - ETA: 0s - loss: 0.0191 - root_mean_squared_error: 0.1383INFO:tensorflow:Assets written to: model\\assets\n",
      "62/62 [==============================] - 28s 448ms/step - loss: 0.0191 - root_mean_squared_error: 0.1383 - val_loss: 0.0193 - val_root_mean_squared_error: 0.1388\n",
      "Epoch 28/55\n",
      "62/62 [==============================] - ETA: 0s - loss: 0.0189 - root_mean_squared_error: 0.1375INFO:tensorflow:Assets written to: model\\assets\n",
      "62/62 [==============================] - 27s 443ms/step - loss: 0.0189 - root_mean_squared_error: 0.1375 - val_loss: 0.0190 - val_root_mean_squared_error: 0.1378\n",
      "Epoch 29/55\n",
      "62/62 [==============================] - ETA: 0s - loss: 0.0187 - root_mean_squared_error: 0.1368INFO:tensorflow:Assets written to: model\\assets\n",
      "62/62 [==============================] - 27s 444ms/step - loss: 0.0187 - root_mean_squared_error: 0.1368 - val_loss: 0.0187 - val_root_mean_squared_error: 0.1366\n",
      "Epoch 30/55\n",
      "62/62 [==============================] - ETA: 0s - loss: 0.0185 - root_mean_squared_error: 0.1359INFO:tensorflow:Assets written to: model\\assets\n",
      "62/62 [==============================] - 28s 455ms/step - loss: 0.0185 - root_mean_squared_error: 0.1359 - val_loss: 0.0183 - val_root_mean_squared_error: 0.1354\n",
      "Epoch 31/55\n",
      "62/62 [==============================] - ETA: 0s - loss: 0.0182 - root_mean_squared_error: 0.1349INFO:tensorflow:Assets written to: model\\assets\n",
      "62/62 [==============================] - 26s 423ms/step - loss: 0.0182 - root_mean_squared_error: 0.1349 - val_loss: 0.0180 - val_root_mean_squared_error: 0.1341\n",
      "Epoch 32/55\n",
      "62/62 [==============================] - ETA: 0s - loss: 0.0179 - root_mean_squared_error: 0.1339INFO:tensorflow:Assets written to: model\\assets\n",
      "62/62 [==============================] - 27s 437ms/step - loss: 0.0179 - root_mean_squared_error: 0.1339 - val_loss: 0.0177 - val_root_mean_squared_error: 0.1331\n",
      "Epoch 33/55\n",
      "62/62 [==============================] - ETA: 0s - loss: 0.0177 - root_mean_squared_error: 0.1330INFO:tensorflow:Assets written to: model\\assets\n",
      "62/62 [==============================] - 27s 430ms/step - loss: 0.0177 - root_mean_squared_error: 0.1330 - val_loss: 0.0175 - val_root_mean_squared_error: 0.1321\n",
      "Epoch 34/55\n",
      "62/62 [==============================] - ETA: 0s - loss: 0.0175 - root_mean_squared_error: 0.1322INFO:tensorflow:Assets written to: model\\assets\n",
      "62/62 [==============================] - 26s 425ms/step - loss: 0.0175 - root_mean_squared_error: 0.1322 - val_loss: 0.0173 - val_root_mean_squared_error: 0.1314\n",
      "Epoch 35/55\n",
      "62/62 [==============================] - ETA: 0s - loss: 0.0173 - root_mean_squared_error: 0.1314INFO:tensorflow:Assets written to: model\\assets\n",
      "62/62 [==============================] - 29s 463ms/step - loss: 0.0173 - root_mean_squared_error: 0.1314 - val_loss: 0.0171 - val_root_mean_squared_error: 0.1307\n",
      "Epoch 36/55\n",
      "62/62 [==============================] - ETA: 0s - loss: 0.0171 - root_mean_squared_error: 0.1307INFO:tensorflow:Assets written to: model\\assets\n",
      "62/62 [==============================] - 32s 513ms/step - loss: 0.0171 - root_mean_squared_error: 0.1307 - val_loss: 0.0169 - val_root_mean_squared_error: 0.1301\n",
      "Epoch 37/55\n",
      "62/62 [==============================] - ETA: 0s - loss: 0.0169 - root_mean_squared_error: 0.1300INFO:tensorflow:Assets written to: model\\assets\n",
      "62/62 [==============================] - 33s 523ms/step - loss: 0.0169 - root_mean_squared_error: 0.1300 - val_loss: 0.0168 - val_root_mean_squared_error: 0.1297\n",
      "Epoch 38/55\n",
      "62/62 [==============================] - ETA: 0s - loss: 0.0167 - root_mean_squared_error: 0.1293INFO:tensorflow:Assets written to: model\\assets\n",
      "62/62 [==============================] - 28s 446ms/step - loss: 0.0167 - root_mean_squared_error: 0.1293 - val_loss: 0.0167 - val_root_mean_squared_error: 0.1292\n",
      "Epoch 39/55\n",
      "62/62 [==============================] - ETA: 0s - loss: 0.0165 - root_mean_squared_error: 0.1286INFO:tensorflow:Assets written to: model\\assets\n",
      "62/62 [==============================] - 28s 447ms/step - loss: 0.0165 - root_mean_squared_error: 0.1286 - val_loss: 0.0166 - val_root_mean_squared_error: 0.1287\n",
      "Epoch 40/55\n",
      "62/62 [==============================] - ETA: 0s - loss: 0.0164 - root_mean_squared_error: 0.1280INFO:tensorflow:Assets written to: model\\assets\n",
      "62/62 [==============================] - 39s 636ms/step - loss: 0.0164 - root_mean_squared_error: 0.1280 - val_loss: 0.0164 - val_root_mean_squared_error: 0.1281\n",
      "Epoch 41/55\n",
      "62/62 [==============================] - ETA: 0s - loss: 0.0162 - root_mean_squared_error: 0.1274INFO:tensorflow:Assets written to: model\\assets\n",
      "62/62 [==============================] - 35s 567ms/step - loss: 0.0162 - root_mean_squared_error: 0.1274 - val_loss: 0.0163 - val_root_mean_squared_error: 0.1276\n",
      "Epoch 42/55\n",
      "62/62 [==============================] - ETA: 0s - loss: 0.0161 - root_mean_squared_error: 0.1268INFO:tensorflow:Assets written to: model\\assets\n",
      "62/62 [==============================] - 36s 583ms/step - loss: 0.0161 - root_mean_squared_error: 0.1268 - val_loss: 0.0162 - val_root_mean_squared_error: 0.1271\n",
      "Epoch 43/55\n",
      "62/62 [==============================] - ETA: 0s - loss: 0.0159 - root_mean_squared_error: 0.1262INFO:tensorflow:Assets written to: model\\assets\n",
      "62/62 [==============================] - 28s 450ms/step - loss: 0.0159 - root_mean_squared_error: 0.1262 - val_loss: 0.0161 - val_root_mean_squared_error: 0.1267\n",
      "Epoch 44/55\n",
      "62/62 [==============================] - ETA: 0s - loss: 0.0158 - root_mean_squared_error: 0.1256INFO:tensorflow:Assets written to: model\\assets\n",
      "62/62 [==============================] - 28s 459ms/step - loss: 0.0158 - root_mean_squared_error: 0.1256 - val_loss: 0.0159 - val_root_mean_squared_error: 0.1261\n",
      "Epoch 45/55\n",
      "62/62 [==============================] - ETA: 0s - loss: 0.0156 - root_mean_squared_error: 0.1251INFO:tensorflow:Assets written to: model\\assets\n",
      "62/62 [==============================] - 32s 516ms/step - loss: 0.0156 - root_mean_squared_error: 0.1251 - val_loss: 0.0158 - val_root_mean_squared_error: 0.1256\n",
      "Epoch 46/55\n",
      "62/62 [==============================] - ETA: 0s - loss: 0.0155 - root_mean_squared_error: 0.1245INFO:tensorflow:Assets written to: model\\assets\n",
      "62/62 [==============================] - 30s 489ms/step - loss: 0.0155 - root_mean_squared_error: 0.1245 - val_loss: 0.0156 - val_root_mean_squared_error: 0.1250\n",
      "Epoch 47/55\n",
      "62/62 [==============================] - ETA: 0s - loss: 0.0154 - root_mean_squared_error: 0.1240INFO:tensorflow:Assets written to: model\\assets\n",
      "62/62 [==============================] - 29s 464ms/step - loss: 0.0154 - root_mean_squared_error: 0.1240 - val_loss: 0.0155 - val_root_mean_squared_error: 0.1244\n",
      "Epoch 48/55\n",
      "62/62 [==============================] - ETA: 0s - loss: 0.0153 - root_mean_squared_error: 0.1235INFO:tensorflow:Assets written to: model\\assets\n",
      "62/62 [==============================] - 28s 459ms/step - loss: 0.0153 - root_mean_squared_error: 0.1235 - val_loss: 0.0153 - val_root_mean_squared_error: 0.1238\n",
      "Epoch 49/55\n",
      "62/62 [==============================] - ETA: 0s - loss: 0.0151 - root_mean_squared_error: 0.1230INFO:tensorflow:Assets written to: model\\assets\n",
      "62/62 [==============================] - 29s 462ms/step - loss: 0.0151 - root_mean_squared_error: 0.1230 - val_loss: 0.0152 - val_root_mean_squared_error: 0.1231\n",
      "Epoch 50/55\n",
      "62/62 [==============================] - ETA: 0s - loss: 0.0150 - root_mean_squared_error: 0.1224INFO:tensorflow:Assets written to: model\\assets\n",
      "62/62 [==============================] - 27s 442ms/step - loss: 0.0150 - root_mean_squared_error: 0.1224 - val_loss: 0.0150 - val_root_mean_squared_error: 0.1226\n",
      "Epoch 51/55\n",
      "62/62 [==============================] - ETA: 0s - loss: 0.0149 - root_mean_squared_error: 0.1219INFO:tensorflow:Assets written to: model\\assets\n",
      "62/62 [==============================] - 29s 465ms/step - loss: 0.0149 - root_mean_squared_error: 0.1219 - val_loss: 0.0149 - val_root_mean_squared_error: 0.1220\n",
      "Epoch 52/55\n",
      "62/62 [==============================] - ETA: 0s - loss: 0.0147 - root_mean_squared_error: 0.1214INFO:tensorflow:Assets written to: model\\assets\n",
      "62/62 [==============================] - 27s 435ms/step - loss: 0.0147 - root_mean_squared_error: 0.1214 - val_loss: 0.0147 - val_root_mean_squared_error: 0.1214\n"
     ]
    },
    {
     "name": "stdout",
     "output_type": "stream",
     "text": [
      "Epoch 53/55\n",
      "62/62 [==============================] - ETA: 0s - loss: 0.0146 - root_mean_squared_error: 0.1209INFO:tensorflow:Assets written to: model\\assets\n",
      "62/62 [==============================] - 27s 438ms/step - loss: 0.0146 - root_mean_squared_error: 0.1209 - val_loss: 0.0146 - val_root_mean_squared_error: 0.1208\n",
      "Epoch 54/55\n",
      "62/62 [==============================] - ETA: 0s - loss: 0.0145 - root_mean_squared_error: 0.1205INFO:tensorflow:Assets written to: model\\assets\n",
      "62/62 [==============================] - 29s 465ms/step - loss: 0.0145 - root_mean_squared_error: 0.1205 - val_loss: 0.0144 - val_root_mean_squared_error: 0.1200\n",
      "Epoch 55/55\n",
      "62/62 [==============================] - ETA: 0s - loss: 0.0144 - root_mean_squared_error: 0.1200INFO:tensorflow:Assets written to: model\\assets\n",
      "62/62 [==============================] - 29s 469ms/step - loss: 0.0144 - root_mean_squared_error: 0.1200 - val_loss: 0.0143 - val_root_mean_squared_error: 0.1194\n"
     ]
    }
   ],
   "source": [
    "history  = model.fit(X_train,y_train, validation_data=(X_test, y_test),batch_size=25,shuffle=False,epochs=55, callbacks=[cp])"
   ]
  },
  {
   "cell_type": "code",
   "execution_count": 1,
   "id": "b7c939d9",
   "metadata": {},
   "outputs": [
    {
     "ename": "NameError",
     "evalue": "name 'history' is not defined",
     "output_type": "error",
     "traceback": [
      "\u001b[1;31m---------------------------------------------------------------------------\u001b[0m",
      "\u001b[1;31mNameError\u001b[0m                                 Traceback (most recent call last)",
      "\u001b[1;32m~\\AppData\\Local\\Temp\\ipykernel_1900\\4049151187.py\u001b[0m in \u001b[0;36m<module>\u001b[1;34m\u001b[0m\n\u001b[0;32m      4\u001b[0m \u001b[1;31m# Add traces\u001b[0m\u001b[1;33m\u001b[0m\u001b[1;33m\u001b[0m\u001b[0m\n\u001b[0;32m      5\u001b[0m fig.add_trace(\n\u001b[1;32m----> 6\u001b[1;33m     \u001b[0mgo\u001b[0m\u001b[1;33m.\u001b[0m\u001b[0mScatter\u001b[0m\u001b[1;33m(\u001b[0m \u001b[0my\u001b[0m\u001b[1;33m=\u001b[0m\u001b[0mhistory\u001b[0m\u001b[1;33m.\u001b[0m\u001b[0mhistory\u001b[0m\u001b[1;33m[\u001b[0m\u001b[1;34m'val_loss'\u001b[0m\u001b[1;33m]\u001b[0m\u001b[1;33m,\u001b[0m \u001b[0mname\u001b[0m\u001b[1;33m=\u001b[0m\u001b[1;34m\"val_loss\"\u001b[0m\u001b[1;33m)\u001b[0m\u001b[1;33m,\u001b[0m\u001b[1;33m\u001b[0m\u001b[1;33m\u001b[0m\u001b[0m\n\u001b[0m\u001b[0;32m      7\u001b[0m     secondary_y=False,)\n\u001b[0;32m      8\u001b[0m fig.add_trace(\n",
      "\u001b[1;31mNameError\u001b[0m: name 'history' is not defined"
     ]
    }
   ],
   "source": [
    "import plotly.graph_objects as go\n",
    "from plotly.subplots import make_subplots\n",
    "fig = make_subplots()\n",
    "# Add traces\n",
    "fig.add_trace(\n",
    "    go.Scatter( y=history.history['val_loss'], name=\"val_loss\"),\n",
    "    secondary_y=False,)\n",
    "fig.add_trace(\n",
    "    go.Scatter( y=history.history['loss'], name=\"loss\"),\n",
    "    secondary_y=False,)\n",
    "# Set x-axis title\n",
    "fig.update_xaxes(title_text=\"Epoch\")\n",
    "# Set y-axis title\n",
    "fig.update_yaxes(title_text=\"Loss\")"
   ]
  },
  {
   "cell_type": "code",
   "execution_count": 12,
   "id": "d6875e47",
   "metadata": {},
   "outputs": [
    {
     "name": "stdout",
     "output_type": "stream",
     "text": [
      "WARNING:tensorflow:Layer lstm will not use cuDNN kernels since it doesn't meet the criteria. It will use a generic GPU kernel as fallback when running on GPU.\n",
      "WARNING:tensorflow:Layer lstm_1 will not use cuDNN kernels since it doesn't meet the criteria. It will use a generic GPU kernel as fallback when running on GPU.\n"
     ]
    }
   ],
   "source": [
    "from tensorflow.keras.models import load_model\n",
    "model = load_model('model/')"
   ]
  },
  {
   "cell_type": "code",
   "execution_count": 13,
   "id": "94133ded",
   "metadata": {},
   "outputs": [],
   "source": [
    "# #save model inferences\n",
    "model.save('Delhi.h5')"
   ]
  },
  {
   "cell_type": "code",
   "execution_count": 24,
   "id": "e948bbb5",
   "metadata": {},
   "outputs": [],
   "source": [
    "data = pd.read_csv(r\"C:\\Users\\Acer\\Desktop\\Model_creation\\dataset\\test.csv\")\n",
    "data.index= pd.to_datetime(data['Date'])\n",
    "data = data.drop(['Date'],axis = 1)\n"
   ]
  },
  {
   "cell_type": "code",
   "execution_count": 25,
   "id": "f1e9f46b",
   "metadata": {},
   "outputs": [],
   "source": [
    "from sklearn import preprocessing\n",
    "Scaler = preprocessing.MinMaxScaler()\n",
    "for i in data.columns:\n",
    "    data[[i]] = Scaler.fit_transform(data[[i]])\n"
   ]
  },
  {
   "cell_type": "code",
   "execution_count": 26,
   "id": "3ecd584f",
   "metadata": {},
   "outputs": [
    {
     "data": {
      "text/plain": [
       "(1, 60, 7)"
      ]
     },
     "execution_count": 26,
     "metadata": {},
     "output_type": "execute_result"
    }
   ],
   "source": [
    "test = data.drop(['AQI'],axis = 1)\n",
    "test = test.to_numpy()\n",
    "test = test.reshape(1,test.shape[0],test.shape[1])\n",
    "test.shape"
   ]
  },
  {
   "cell_type": "code",
   "execution_count": 27,
   "id": "8bfd477b",
   "metadata": {},
   "outputs": [
    {
     "name": "stdout",
     "output_type": "stream",
     "text": [
      "1/1 [==============================] - 0s 88ms/step\n"
     ]
    }
   ],
   "source": [
    "y_pred = model.predict(test)\n",
    "y_pred_inv = Scaler.inverse_transform(y_pred)\n",
    "y_pred_inv = y_pred_inv.reshape(-1,1)"
   ]
  },
  {
   "cell_type": "code",
   "execution_count": 28,
   "id": "0d9133c2",
   "metadata": {},
   "outputs": [
    {
     "data": {
      "application/vnd.plotly.v1+json": {
       "config": {
        "plotlyServerURL": "https://plot.ly"
       },
       "data": [
        {
         "hovertemplate": "variable=0<br>index=%{x}<br>value=%{y}<extra></extra>",
         "legendgroup": "0",
         "line": {
          "color": "#636efa",
          "dash": "solid"
         },
         "marker": {
          "symbol": "circle"
         },
         "mode": "lines",
         "name": "0",
         "orientation": "v",
         "showlegend": true,
         "type": "scatter",
         "x": [
          0,
          1,
          2,
          3,
          4,
          5,
          6,
          7,
          8,
          9,
          10,
          11,
          12,
          13,
          14,
          15,
          16,
          17,
          18,
          19,
          20,
          21,
          22,
          23,
          24,
          25,
          26,
          27,
          28,
          29
         ],
         "xaxis": "x",
         "y": [
          130.72727966308594,
          137.64845275878906,
          136.42984008789062,
          133.27877807617188,
          133.73751831054688,
          132.26124572753906,
          130.91888427734375,
          131.70692443847656,
          130.06997680664062,
          135.00869750976562,
          130.39703369140625,
          129.78414916992188,
          129.76768493652344,
          128.17581176757812,
          129.24342346191406,
          128.9123077392578,
          128.63442993164062,
          131.38914489746094,
          130.0874786376953,
          129.31564331054688,
          123.38574981689453,
          124.66726684570312,
          126.61424255371094,
          126.17189025878906,
          127.1507797241211,
          124.65386962890625,
          129.6840057373047,
          124.40631866455078,
          126.0276870727539,
          129.9206085205078
         ],
         "yaxis": "y"
        }
       ],
       "layout": {
        "legend": {
         "title": {
          "text": "variable"
         },
         "tracegroupgap": 0
        },
        "template": {
         "data": {
          "bar": [
           {
            "error_x": {
             "color": "#2a3f5f"
            },
            "error_y": {
             "color": "#2a3f5f"
            },
            "marker": {
             "line": {
              "color": "#E5ECF6",
              "width": 0.5
             },
             "pattern": {
              "fillmode": "overlay",
              "size": 10,
              "solidity": 0.2
             }
            },
            "type": "bar"
           }
          ],
          "barpolar": [
           {
            "marker": {
             "line": {
              "color": "#E5ECF6",
              "width": 0.5
             },
             "pattern": {
              "fillmode": "overlay",
              "size": 10,
              "solidity": 0.2
             }
            },
            "type": "barpolar"
           }
          ],
          "carpet": [
           {
            "aaxis": {
             "endlinecolor": "#2a3f5f",
             "gridcolor": "white",
             "linecolor": "white",
             "minorgridcolor": "white",
             "startlinecolor": "#2a3f5f"
            },
            "baxis": {
             "endlinecolor": "#2a3f5f",
             "gridcolor": "white",
             "linecolor": "white",
             "minorgridcolor": "white",
             "startlinecolor": "#2a3f5f"
            },
            "type": "carpet"
           }
          ],
          "choropleth": [
           {
            "colorbar": {
             "outlinewidth": 0,
             "ticks": ""
            },
            "type": "choropleth"
           }
          ],
          "contour": [
           {
            "colorbar": {
             "outlinewidth": 0,
             "ticks": ""
            },
            "colorscale": [
             [
              0,
              "#0d0887"
             ],
             [
              0.1111111111111111,
              "#46039f"
             ],
             [
              0.2222222222222222,
              "#7201a8"
             ],
             [
              0.3333333333333333,
              "#9c179e"
             ],
             [
              0.4444444444444444,
              "#bd3786"
             ],
             [
              0.5555555555555556,
              "#d8576b"
             ],
             [
              0.6666666666666666,
              "#ed7953"
             ],
             [
              0.7777777777777778,
              "#fb9f3a"
             ],
             [
              0.8888888888888888,
              "#fdca26"
             ],
             [
              1,
              "#f0f921"
             ]
            ],
            "type": "contour"
           }
          ],
          "contourcarpet": [
           {
            "colorbar": {
             "outlinewidth": 0,
             "ticks": ""
            },
            "type": "contourcarpet"
           }
          ],
          "heatmap": [
           {
            "colorbar": {
             "outlinewidth": 0,
             "ticks": ""
            },
            "colorscale": [
             [
              0,
              "#0d0887"
             ],
             [
              0.1111111111111111,
              "#46039f"
             ],
             [
              0.2222222222222222,
              "#7201a8"
             ],
             [
              0.3333333333333333,
              "#9c179e"
             ],
             [
              0.4444444444444444,
              "#bd3786"
             ],
             [
              0.5555555555555556,
              "#d8576b"
             ],
             [
              0.6666666666666666,
              "#ed7953"
             ],
             [
              0.7777777777777778,
              "#fb9f3a"
             ],
             [
              0.8888888888888888,
              "#fdca26"
             ],
             [
              1,
              "#f0f921"
             ]
            ],
            "type": "heatmap"
           }
          ],
          "heatmapgl": [
           {
            "colorbar": {
             "outlinewidth": 0,
             "ticks": ""
            },
            "colorscale": [
             [
              0,
              "#0d0887"
             ],
             [
              0.1111111111111111,
              "#46039f"
             ],
             [
              0.2222222222222222,
              "#7201a8"
             ],
             [
              0.3333333333333333,
              "#9c179e"
             ],
             [
              0.4444444444444444,
              "#bd3786"
             ],
             [
              0.5555555555555556,
              "#d8576b"
             ],
             [
              0.6666666666666666,
              "#ed7953"
             ],
             [
              0.7777777777777778,
              "#fb9f3a"
             ],
             [
              0.8888888888888888,
              "#fdca26"
             ],
             [
              1,
              "#f0f921"
             ]
            ],
            "type": "heatmapgl"
           }
          ],
          "histogram": [
           {
            "marker": {
             "pattern": {
              "fillmode": "overlay",
              "size": 10,
              "solidity": 0.2
             }
            },
            "type": "histogram"
           }
          ],
          "histogram2d": [
           {
            "colorbar": {
             "outlinewidth": 0,
             "ticks": ""
            },
            "colorscale": [
             [
              0,
              "#0d0887"
             ],
             [
              0.1111111111111111,
              "#46039f"
             ],
             [
              0.2222222222222222,
              "#7201a8"
             ],
             [
              0.3333333333333333,
              "#9c179e"
             ],
             [
              0.4444444444444444,
              "#bd3786"
             ],
             [
              0.5555555555555556,
              "#d8576b"
             ],
             [
              0.6666666666666666,
              "#ed7953"
             ],
             [
              0.7777777777777778,
              "#fb9f3a"
             ],
             [
              0.8888888888888888,
              "#fdca26"
             ],
             [
              1,
              "#f0f921"
             ]
            ],
            "type": "histogram2d"
           }
          ],
          "histogram2dcontour": [
           {
            "colorbar": {
             "outlinewidth": 0,
             "ticks": ""
            },
            "colorscale": [
             [
              0,
              "#0d0887"
             ],
             [
              0.1111111111111111,
              "#46039f"
             ],
             [
              0.2222222222222222,
              "#7201a8"
             ],
             [
              0.3333333333333333,
              "#9c179e"
             ],
             [
              0.4444444444444444,
              "#bd3786"
             ],
             [
              0.5555555555555556,
              "#d8576b"
             ],
             [
              0.6666666666666666,
              "#ed7953"
             ],
             [
              0.7777777777777778,
              "#fb9f3a"
             ],
             [
              0.8888888888888888,
              "#fdca26"
             ],
             [
              1,
              "#f0f921"
             ]
            ],
            "type": "histogram2dcontour"
           }
          ],
          "mesh3d": [
           {
            "colorbar": {
             "outlinewidth": 0,
             "ticks": ""
            },
            "type": "mesh3d"
           }
          ],
          "parcoords": [
           {
            "line": {
             "colorbar": {
              "outlinewidth": 0,
              "ticks": ""
             }
            },
            "type": "parcoords"
           }
          ],
          "pie": [
           {
            "automargin": true,
            "type": "pie"
           }
          ],
          "scatter": [
           {
            "fillpattern": {
             "fillmode": "overlay",
             "size": 10,
             "solidity": 0.2
            },
            "type": "scatter"
           }
          ],
          "scatter3d": [
           {
            "line": {
             "colorbar": {
              "outlinewidth": 0,
              "ticks": ""
             }
            },
            "marker": {
             "colorbar": {
              "outlinewidth": 0,
              "ticks": ""
             }
            },
            "type": "scatter3d"
           }
          ],
          "scattercarpet": [
           {
            "marker": {
             "colorbar": {
              "outlinewidth": 0,
              "ticks": ""
             }
            },
            "type": "scattercarpet"
           }
          ],
          "scattergeo": [
           {
            "marker": {
             "colorbar": {
              "outlinewidth": 0,
              "ticks": ""
             }
            },
            "type": "scattergeo"
           }
          ],
          "scattergl": [
           {
            "marker": {
             "colorbar": {
              "outlinewidth": 0,
              "ticks": ""
             }
            },
            "type": "scattergl"
           }
          ],
          "scattermapbox": [
           {
            "marker": {
             "colorbar": {
              "outlinewidth": 0,
              "ticks": ""
             }
            },
            "type": "scattermapbox"
           }
          ],
          "scatterpolar": [
           {
            "marker": {
             "colorbar": {
              "outlinewidth": 0,
              "ticks": ""
             }
            },
            "type": "scatterpolar"
           }
          ],
          "scatterpolargl": [
           {
            "marker": {
             "colorbar": {
              "outlinewidth": 0,
              "ticks": ""
             }
            },
            "type": "scatterpolargl"
           }
          ],
          "scatterternary": [
           {
            "marker": {
             "colorbar": {
              "outlinewidth": 0,
              "ticks": ""
             }
            },
            "type": "scatterternary"
           }
          ],
          "surface": [
           {
            "colorbar": {
             "outlinewidth": 0,
             "ticks": ""
            },
            "colorscale": [
             [
              0,
              "#0d0887"
             ],
             [
              0.1111111111111111,
              "#46039f"
             ],
             [
              0.2222222222222222,
              "#7201a8"
             ],
             [
              0.3333333333333333,
              "#9c179e"
             ],
             [
              0.4444444444444444,
              "#bd3786"
             ],
             [
              0.5555555555555556,
              "#d8576b"
             ],
             [
              0.6666666666666666,
              "#ed7953"
             ],
             [
              0.7777777777777778,
              "#fb9f3a"
             ],
             [
              0.8888888888888888,
              "#fdca26"
             ],
             [
              1,
              "#f0f921"
             ]
            ],
            "type": "surface"
           }
          ],
          "table": [
           {
            "cells": {
             "fill": {
              "color": "#EBF0F8"
             },
             "line": {
              "color": "white"
             }
            },
            "header": {
             "fill": {
              "color": "#C8D4E3"
             },
             "line": {
              "color": "white"
             }
            },
            "type": "table"
           }
          ]
         },
         "layout": {
          "annotationdefaults": {
           "arrowcolor": "#2a3f5f",
           "arrowhead": 0,
           "arrowwidth": 1
          },
          "autotypenumbers": "strict",
          "coloraxis": {
           "colorbar": {
            "outlinewidth": 0,
            "ticks": ""
           }
          },
          "colorscale": {
           "diverging": [
            [
             0,
             "#8e0152"
            ],
            [
             0.1,
             "#c51b7d"
            ],
            [
             0.2,
             "#de77ae"
            ],
            [
             0.3,
             "#f1b6da"
            ],
            [
             0.4,
             "#fde0ef"
            ],
            [
             0.5,
             "#f7f7f7"
            ],
            [
             0.6,
             "#e6f5d0"
            ],
            [
             0.7,
             "#b8e186"
            ],
            [
             0.8,
             "#7fbc41"
            ],
            [
             0.9,
             "#4d9221"
            ],
            [
             1,
             "#276419"
            ]
           ],
           "sequential": [
            [
             0,
             "#0d0887"
            ],
            [
             0.1111111111111111,
             "#46039f"
            ],
            [
             0.2222222222222222,
             "#7201a8"
            ],
            [
             0.3333333333333333,
             "#9c179e"
            ],
            [
             0.4444444444444444,
             "#bd3786"
            ],
            [
             0.5555555555555556,
             "#d8576b"
            ],
            [
             0.6666666666666666,
             "#ed7953"
            ],
            [
             0.7777777777777778,
             "#fb9f3a"
            ],
            [
             0.8888888888888888,
             "#fdca26"
            ],
            [
             1,
             "#f0f921"
            ]
           ],
           "sequentialminus": [
            [
             0,
             "#0d0887"
            ],
            [
             0.1111111111111111,
             "#46039f"
            ],
            [
             0.2222222222222222,
             "#7201a8"
            ],
            [
             0.3333333333333333,
             "#9c179e"
            ],
            [
             0.4444444444444444,
             "#bd3786"
            ],
            [
             0.5555555555555556,
             "#d8576b"
            ],
            [
             0.6666666666666666,
             "#ed7953"
            ],
            [
             0.7777777777777778,
             "#fb9f3a"
            ],
            [
             0.8888888888888888,
             "#fdca26"
            ],
            [
             1,
             "#f0f921"
            ]
           ]
          },
          "colorway": [
           "#636efa",
           "#EF553B",
           "#00cc96",
           "#ab63fa",
           "#FFA15A",
           "#19d3f3",
           "#FF6692",
           "#B6E880",
           "#FF97FF",
           "#FECB52"
          ],
          "font": {
           "color": "#2a3f5f"
          },
          "geo": {
           "bgcolor": "white",
           "lakecolor": "white",
           "landcolor": "#E5ECF6",
           "showlakes": true,
           "showland": true,
           "subunitcolor": "white"
          },
          "hoverlabel": {
           "align": "left"
          },
          "hovermode": "closest",
          "mapbox": {
           "style": "light"
          },
          "paper_bgcolor": "white",
          "plot_bgcolor": "#E5ECF6",
          "polar": {
           "angularaxis": {
            "gridcolor": "white",
            "linecolor": "white",
            "ticks": ""
           },
           "bgcolor": "#E5ECF6",
           "radialaxis": {
            "gridcolor": "white",
            "linecolor": "white",
            "ticks": ""
           }
          },
          "scene": {
           "xaxis": {
            "backgroundcolor": "#E5ECF6",
            "gridcolor": "white",
            "gridwidth": 2,
            "linecolor": "white",
            "showbackground": true,
            "ticks": "",
            "zerolinecolor": "white"
           },
           "yaxis": {
            "backgroundcolor": "#E5ECF6",
            "gridcolor": "white",
            "gridwidth": 2,
            "linecolor": "white",
            "showbackground": true,
            "ticks": "",
            "zerolinecolor": "white"
           },
           "zaxis": {
            "backgroundcolor": "#E5ECF6",
            "gridcolor": "white",
            "gridwidth": 2,
            "linecolor": "white",
            "showbackground": true,
            "ticks": "",
            "zerolinecolor": "white"
           }
          },
          "shapedefaults": {
           "line": {
            "color": "#2a3f5f"
           }
          },
          "ternary": {
           "aaxis": {
            "gridcolor": "white",
            "linecolor": "white",
            "ticks": ""
           },
           "baxis": {
            "gridcolor": "white",
            "linecolor": "white",
            "ticks": ""
           },
           "bgcolor": "#E5ECF6",
           "caxis": {
            "gridcolor": "white",
            "linecolor": "white",
            "ticks": ""
           }
          },
          "title": {
           "x": 0.05
          },
          "xaxis": {
           "automargin": true,
           "gridcolor": "white",
           "linecolor": "white",
           "ticks": "",
           "title": {
            "standoff": 15
           },
           "zerolinecolor": "white",
           "zerolinewidth": 2
          },
          "yaxis": {
           "automargin": true,
           "gridcolor": "white",
           "linecolor": "white",
           "ticks": "",
           "title": {
            "standoff": 15
           },
           "zerolinecolor": "white",
           "zerolinewidth": 2
          }
         }
        },
        "title": {
         "text": "30 day forecaste"
        },
        "xaxis": {
         "anchor": "y",
         "domain": [
          0,
          1
         ],
         "title": {
          "text": "index"
         }
        },
        "yaxis": {
         "anchor": "x",
         "domain": [
          0,
          1
         ],
         "title": {
          "text": "value"
         }
        }
       }
      },
      "text/html": [
       "<div>                            <div id=\"36ff2198-6ca5-44d1-8d6a-044fa7b40b71\" class=\"plotly-graph-div\" style=\"height:525px; width:100%;\"></div>            <script type=\"text/javascript\">                require([\"plotly\"], function(Plotly) {                    window.PLOTLYENV=window.PLOTLYENV || {};                                    if (document.getElementById(\"36ff2198-6ca5-44d1-8d6a-044fa7b40b71\")) {                    Plotly.newPlot(                        \"36ff2198-6ca5-44d1-8d6a-044fa7b40b71\",                        [{\"hovertemplate\":\"variable=0<br>index=%{x}<br>value=%{y}<extra></extra>\",\"legendgroup\":\"0\",\"line\":{\"color\":\"#636efa\",\"dash\":\"solid\"},\"marker\":{\"symbol\":\"circle\"},\"mode\":\"lines\",\"name\":\"0\",\"orientation\":\"v\",\"showlegend\":true,\"x\":[0,1,2,3,4,5,6,7,8,9,10,11,12,13,14,15,16,17,18,19,20,21,22,23,24,25,26,27,28,29],\"xaxis\":\"x\",\"y\":[130.72727966308594,137.64845275878906,136.42984008789062,133.27877807617188,133.73751831054688,132.26124572753906,130.91888427734375,131.70692443847656,130.06997680664062,135.00869750976562,130.39703369140625,129.78414916992188,129.76768493652344,128.17581176757812,129.24342346191406,128.9123077392578,128.63442993164062,131.38914489746094,130.0874786376953,129.31564331054688,123.38574981689453,124.66726684570312,126.61424255371094,126.17189025878906,127.1507797241211,124.65386962890625,129.6840057373047,124.40631866455078,126.0276870727539,129.9206085205078],\"yaxis\":\"y\",\"type\":\"scatter\"}],                        {\"template\":{\"data\":{\"histogram2dcontour\":[{\"type\":\"histogram2dcontour\",\"colorbar\":{\"outlinewidth\":0,\"ticks\":\"\"},\"colorscale\":[[0.0,\"#0d0887\"],[0.1111111111111111,\"#46039f\"],[0.2222222222222222,\"#7201a8\"],[0.3333333333333333,\"#9c179e\"],[0.4444444444444444,\"#bd3786\"],[0.5555555555555556,\"#d8576b\"],[0.6666666666666666,\"#ed7953\"],[0.7777777777777778,\"#fb9f3a\"],[0.8888888888888888,\"#fdca26\"],[1.0,\"#f0f921\"]]}],\"choropleth\":[{\"type\":\"choropleth\",\"colorbar\":{\"outlinewidth\":0,\"ticks\":\"\"}}],\"histogram2d\":[{\"type\":\"histogram2d\",\"colorbar\":{\"outlinewidth\":0,\"ticks\":\"\"},\"colorscale\":[[0.0,\"#0d0887\"],[0.1111111111111111,\"#46039f\"],[0.2222222222222222,\"#7201a8\"],[0.3333333333333333,\"#9c179e\"],[0.4444444444444444,\"#bd3786\"],[0.5555555555555556,\"#d8576b\"],[0.6666666666666666,\"#ed7953\"],[0.7777777777777778,\"#fb9f3a\"],[0.8888888888888888,\"#fdca26\"],[1.0,\"#f0f921\"]]}],\"heatmap\":[{\"type\":\"heatmap\",\"colorbar\":{\"outlinewidth\":0,\"ticks\":\"\"},\"colorscale\":[[0.0,\"#0d0887\"],[0.1111111111111111,\"#46039f\"],[0.2222222222222222,\"#7201a8\"],[0.3333333333333333,\"#9c179e\"],[0.4444444444444444,\"#bd3786\"],[0.5555555555555556,\"#d8576b\"],[0.6666666666666666,\"#ed7953\"],[0.7777777777777778,\"#fb9f3a\"],[0.8888888888888888,\"#fdca26\"],[1.0,\"#f0f921\"]]}],\"heatmapgl\":[{\"type\":\"heatmapgl\",\"colorbar\":{\"outlinewidth\":0,\"ticks\":\"\"},\"colorscale\":[[0.0,\"#0d0887\"],[0.1111111111111111,\"#46039f\"],[0.2222222222222222,\"#7201a8\"],[0.3333333333333333,\"#9c179e\"],[0.4444444444444444,\"#bd3786\"],[0.5555555555555556,\"#d8576b\"],[0.6666666666666666,\"#ed7953\"],[0.7777777777777778,\"#fb9f3a\"],[0.8888888888888888,\"#fdca26\"],[1.0,\"#f0f921\"]]}],\"contourcarpet\":[{\"type\":\"contourcarpet\",\"colorbar\":{\"outlinewidth\":0,\"ticks\":\"\"}}],\"contour\":[{\"type\":\"contour\",\"colorbar\":{\"outlinewidth\":0,\"ticks\":\"\"},\"colorscale\":[[0.0,\"#0d0887\"],[0.1111111111111111,\"#46039f\"],[0.2222222222222222,\"#7201a8\"],[0.3333333333333333,\"#9c179e\"],[0.4444444444444444,\"#bd3786\"],[0.5555555555555556,\"#d8576b\"],[0.6666666666666666,\"#ed7953\"],[0.7777777777777778,\"#fb9f3a\"],[0.8888888888888888,\"#fdca26\"],[1.0,\"#f0f921\"]]}],\"surface\":[{\"type\":\"surface\",\"colorbar\":{\"outlinewidth\":0,\"ticks\":\"\"},\"colorscale\":[[0.0,\"#0d0887\"],[0.1111111111111111,\"#46039f\"],[0.2222222222222222,\"#7201a8\"],[0.3333333333333333,\"#9c179e\"],[0.4444444444444444,\"#bd3786\"],[0.5555555555555556,\"#d8576b\"],[0.6666666666666666,\"#ed7953\"],[0.7777777777777778,\"#fb9f3a\"],[0.8888888888888888,\"#fdca26\"],[1.0,\"#f0f921\"]]}],\"mesh3d\":[{\"type\":\"mesh3d\",\"colorbar\":{\"outlinewidth\":0,\"ticks\":\"\"}}],\"scatter\":[{\"fillpattern\":{\"fillmode\":\"overlay\",\"size\":10,\"solidity\":0.2},\"type\":\"scatter\"}],\"parcoords\":[{\"type\":\"parcoords\",\"line\":{\"colorbar\":{\"outlinewidth\":0,\"ticks\":\"\"}}}],\"scatterpolargl\":[{\"type\":\"scatterpolargl\",\"marker\":{\"colorbar\":{\"outlinewidth\":0,\"ticks\":\"\"}}}],\"bar\":[{\"error_x\":{\"color\":\"#2a3f5f\"},\"error_y\":{\"color\":\"#2a3f5f\"},\"marker\":{\"line\":{\"color\":\"#E5ECF6\",\"width\":0.5},\"pattern\":{\"fillmode\":\"overlay\",\"size\":10,\"solidity\":0.2}},\"type\":\"bar\"}],\"scattergeo\":[{\"type\":\"scattergeo\",\"marker\":{\"colorbar\":{\"outlinewidth\":0,\"ticks\":\"\"}}}],\"scatterpolar\":[{\"type\":\"scatterpolar\",\"marker\":{\"colorbar\":{\"outlinewidth\":0,\"ticks\":\"\"}}}],\"histogram\":[{\"marker\":{\"pattern\":{\"fillmode\":\"overlay\",\"size\":10,\"solidity\":0.2}},\"type\":\"histogram\"}],\"scattergl\":[{\"type\":\"scattergl\",\"marker\":{\"colorbar\":{\"outlinewidth\":0,\"ticks\":\"\"}}}],\"scatter3d\":[{\"type\":\"scatter3d\",\"line\":{\"colorbar\":{\"outlinewidth\":0,\"ticks\":\"\"}},\"marker\":{\"colorbar\":{\"outlinewidth\":0,\"ticks\":\"\"}}}],\"scattermapbox\":[{\"type\":\"scattermapbox\",\"marker\":{\"colorbar\":{\"outlinewidth\":0,\"ticks\":\"\"}}}],\"scatterternary\":[{\"type\":\"scatterternary\",\"marker\":{\"colorbar\":{\"outlinewidth\":0,\"ticks\":\"\"}}}],\"scattercarpet\":[{\"type\":\"scattercarpet\",\"marker\":{\"colorbar\":{\"outlinewidth\":0,\"ticks\":\"\"}}}],\"carpet\":[{\"aaxis\":{\"endlinecolor\":\"#2a3f5f\",\"gridcolor\":\"white\",\"linecolor\":\"white\",\"minorgridcolor\":\"white\",\"startlinecolor\":\"#2a3f5f\"},\"baxis\":{\"endlinecolor\":\"#2a3f5f\",\"gridcolor\":\"white\",\"linecolor\":\"white\",\"minorgridcolor\":\"white\",\"startlinecolor\":\"#2a3f5f\"},\"type\":\"carpet\"}],\"table\":[{\"cells\":{\"fill\":{\"color\":\"#EBF0F8\"},\"line\":{\"color\":\"white\"}},\"header\":{\"fill\":{\"color\":\"#C8D4E3\"},\"line\":{\"color\":\"white\"}},\"type\":\"table\"}],\"barpolar\":[{\"marker\":{\"line\":{\"color\":\"#E5ECF6\",\"width\":0.5},\"pattern\":{\"fillmode\":\"overlay\",\"size\":10,\"solidity\":0.2}},\"type\":\"barpolar\"}],\"pie\":[{\"automargin\":true,\"type\":\"pie\"}]},\"layout\":{\"autotypenumbers\":\"strict\",\"colorway\":[\"#636efa\",\"#EF553B\",\"#00cc96\",\"#ab63fa\",\"#FFA15A\",\"#19d3f3\",\"#FF6692\",\"#B6E880\",\"#FF97FF\",\"#FECB52\"],\"font\":{\"color\":\"#2a3f5f\"},\"hovermode\":\"closest\",\"hoverlabel\":{\"align\":\"left\"},\"paper_bgcolor\":\"white\",\"plot_bgcolor\":\"#E5ECF6\",\"polar\":{\"bgcolor\":\"#E5ECF6\",\"angularaxis\":{\"gridcolor\":\"white\",\"linecolor\":\"white\",\"ticks\":\"\"},\"radialaxis\":{\"gridcolor\":\"white\",\"linecolor\":\"white\",\"ticks\":\"\"}},\"ternary\":{\"bgcolor\":\"#E5ECF6\",\"aaxis\":{\"gridcolor\":\"white\",\"linecolor\":\"white\",\"ticks\":\"\"},\"baxis\":{\"gridcolor\":\"white\",\"linecolor\":\"white\",\"ticks\":\"\"},\"caxis\":{\"gridcolor\":\"white\",\"linecolor\":\"white\",\"ticks\":\"\"}},\"coloraxis\":{\"colorbar\":{\"outlinewidth\":0,\"ticks\":\"\"}},\"colorscale\":{\"sequential\":[[0.0,\"#0d0887\"],[0.1111111111111111,\"#46039f\"],[0.2222222222222222,\"#7201a8\"],[0.3333333333333333,\"#9c179e\"],[0.4444444444444444,\"#bd3786\"],[0.5555555555555556,\"#d8576b\"],[0.6666666666666666,\"#ed7953\"],[0.7777777777777778,\"#fb9f3a\"],[0.8888888888888888,\"#fdca26\"],[1.0,\"#f0f921\"]],\"sequentialminus\":[[0.0,\"#0d0887\"],[0.1111111111111111,\"#46039f\"],[0.2222222222222222,\"#7201a8\"],[0.3333333333333333,\"#9c179e\"],[0.4444444444444444,\"#bd3786\"],[0.5555555555555556,\"#d8576b\"],[0.6666666666666666,\"#ed7953\"],[0.7777777777777778,\"#fb9f3a\"],[0.8888888888888888,\"#fdca26\"],[1.0,\"#f0f921\"]],\"diverging\":[[0,\"#8e0152\"],[0.1,\"#c51b7d\"],[0.2,\"#de77ae\"],[0.3,\"#f1b6da\"],[0.4,\"#fde0ef\"],[0.5,\"#f7f7f7\"],[0.6,\"#e6f5d0\"],[0.7,\"#b8e186\"],[0.8,\"#7fbc41\"],[0.9,\"#4d9221\"],[1,\"#276419\"]]},\"xaxis\":{\"gridcolor\":\"white\",\"linecolor\":\"white\",\"ticks\":\"\",\"title\":{\"standoff\":15},\"zerolinecolor\":\"white\",\"automargin\":true,\"zerolinewidth\":2},\"yaxis\":{\"gridcolor\":\"white\",\"linecolor\":\"white\",\"ticks\":\"\",\"title\":{\"standoff\":15},\"zerolinecolor\":\"white\",\"automargin\":true,\"zerolinewidth\":2},\"scene\":{\"xaxis\":{\"backgroundcolor\":\"#E5ECF6\",\"gridcolor\":\"white\",\"linecolor\":\"white\",\"showbackground\":true,\"ticks\":\"\",\"zerolinecolor\":\"white\",\"gridwidth\":2},\"yaxis\":{\"backgroundcolor\":\"#E5ECF6\",\"gridcolor\":\"white\",\"linecolor\":\"white\",\"showbackground\":true,\"ticks\":\"\",\"zerolinecolor\":\"white\",\"gridwidth\":2},\"zaxis\":{\"backgroundcolor\":\"#E5ECF6\",\"gridcolor\":\"white\",\"linecolor\":\"white\",\"showbackground\":true,\"ticks\":\"\",\"zerolinecolor\":\"white\",\"gridwidth\":2}},\"shapedefaults\":{\"line\":{\"color\":\"#2a3f5f\"}},\"annotationdefaults\":{\"arrowcolor\":\"#2a3f5f\",\"arrowhead\":0,\"arrowwidth\":1},\"geo\":{\"bgcolor\":\"white\",\"landcolor\":\"#E5ECF6\",\"subunitcolor\":\"white\",\"showland\":true,\"showlakes\":true,\"lakecolor\":\"white\"},\"title\":{\"x\":0.05},\"mapbox\":{\"style\":\"light\"}}},\"xaxis\":{\"anchor\":\"y\",\"domain\":[0.0,1.0],\"title\":{\"text\":\"index\"}},\"yaxis\":{\"anchor\":\"x\",\"domain\":[0.0,1.0],\"title\":{\"text\":\"value\"}},\"legend\":{\"title\":{\"text\":\"variable\"},\"tracegroupgap\":0},\"title\":{\"text\":\"30 day forecaste\"}},                        {\"responsive\": true}                    ).then(function(){\n",
       "                            \n",
       "var gd = document.getElementById('36ff2198-6ca5-44d1-8d6a-044fa7b40b71');\n",
       "var x = new MutationObserver(function (mutations, observer) {{\n",
       "        var display = window.getComputedStyle(gd).display;\n",
       "        if (!display || display === 'none') {{\n",
       "            console.log([gd, 'removed!']);\n",
       "            Plotly.purge(gd);\n",
       "            observer.disconnect();\n",
       "        }}\n",
       "}});\n",
       "\n",
       "// Listen for the removal of the full notebook cells\n",
       "var notebookContainer = gd.closest('#notebook-container');\n",
       "if (notebookContainer) {{\n",
       "    x.observe(notebookContainer, {childList: true});\n",
       "}}\n",
       "\n",
       "// Listen for the clearing of the current output cell\n",
       "var outputEl = gd.closest('.output');\n",
       "if (outputEl) {{\n",
       "    x.observe(outputEl, {childList: true});\n",
       "}}\n",
       "\n",
       "                        })                };                });            </script>        </div>"
      ]
     },
     "metadata": {},
     "output_type": "display_data"
    }
   ],
   "source": [
    "import plotly.express as px\n",
    "fig = px.line(y_pred_inv,  title='30 day forecaste')\n",
    "fig.show()"
   ]
  },
  {
   "cell_type": "code",
   "execution_count": 29,
   "id": "e59b7d1f",
   "metadata": {},
   "outputs": [
    {
     "name": "stdout",
     "output_type": "stream",
     "text": [
      "WARNING:tensorflow:Layer lstm will not use cuDNN kernels since it doesn't meet the criteria. It will use a generic GPU kernel as fallback when running on GPU.\n",
      "WARNING:tensorflow:Layer lstm_1 will not use cuDNN kernels since it doesn't meet the criteria. It will use a generic GPU kernel as fallback when running on GPU.\n"
     ]
    }
   ],
   "source": [
    "from tensorflow.keras.models import load_model\n",
    "model1 = load_model('Delhi.h5')"
   ]
  },
  {
   "cell_type": "code",
   "execution_count": 30,
   "id": "9acf4819",
   "metadata": {},
   "outputs": [
    {
     "data": {
      "text/plain": [
       "(1, 60, 7)"
      ]
     },
     "execution_count": 30,
     "metadata": {},
     "output_type": "execute_result"
    }
   ],
   "source": [
    "data = pd.read_csv(r\"C:\\Users\\Acer\\Desktop\\Model_creation\\dataset\\test.csv\")\n",
    "data.index= pd.to_datetime(data['Date'])\n",
    "data = data.drop(['Date'],axis = 1)\n",
    "from sklearn import preprocessing\n",
    "Scaler = preprocessing.MinMaxScaler()\n",
    "for i in data.columns:\n",
    "    data[[i]] = Scaler.fit_transform(data[[i]])\n",
    "test = data.drop(['AQI'],axis = 1)\n",
    "test = test.to_numpy()\n",
    "test = test.reshape(1,test.shape[0],test.shape[1])\n",
    "test.shape"
   ]
  },
  {
   "cell_type": "code",
   "execution_count": 31,
   "id": "4d53f371",
   "metadata": {},
   "outputs": [
    {
     "name": "stdout",
     "output_type": "stream",
     "text": [
      "1/1 [==============================] - 0s 455ms/step\n"
     ]
    }
   ],
   "source": [
    "y_pred = model1.predict(test)\n",
    "y_pred_inv = Scaler.inverse_transform(y_pred)\n",
    "y_pred_inv = y_pred_inv.reshape(-1,1)"
   ]
  },
  {
   "cell_type": "code",
   "execution_count": 32,
   "id": "9963aecb",
   "metadata": {},
   "outputs": [
    {
     "data": {
      "application/vnd.plotly.v1+json": {
       "config": {
        "plotlyServerURL": "https://plot.ly"
       },
       "data": [
        {
         "hovertemplate": "variable=0<br>index=%{x}<br>value=%{y}<extra></extra>",
         "legendgroup": "0",
         "line": {
          "color": "#636efa",
          "dash": "solid"
         },
         "marker": {
          "symbol": "circle"
         },
         "mode": "lines",
         "name": "0",
         "orientation": "v",
         "showlegend": true,
         "type": "scatter",
         "x": [
          0,
          1,
          2,
          3,
          4,
          5,
          6,
          7,
          8,
          9,
          10,
          11,
          12,
          13,
          14,
          15,
          16,
          17,
          18,
          19,
          20,
          21,
          22,
          23,
          24,
          25,
          26,
          27,
          28,
          29
         ],
         "xaxis": "x",
         "y": [
          130.72727966308594,
          137.64845275878906,
          136.42984008789062,
          133.27877807617188,
          133.73751831054688,
          132.26124572753906,
          130.91888427734375,
          131.70692443847656,
          130.06997680664062,
          135.00869750976562,
          130.39703369140625,
          129.78414916992188,
          129.76768493652344,
          128.17581176757812,
          129.24342346191406,
          128.9123077392578,
          128.63442993164062,
          131.38914489746094,
          130.0874786376953,
          129.31564331054688,
          123.38574981689453,
          124.66726684570312,
          126.61424255371094,
          126.17189025878906,
          127.1507797241211,
          124.65386962890625,
          129.6840057373047,
          124.40631866455078,
          126.0276870727539,
          129.9206085205078
         ],
         "yaxis": "y"
        }
       ],
       "layout": {
        "legend": {
         "title": {
          "text": "variable"
         },
         "tracegroupgap": 0
        },
        "template": {
         "data": {
          "bar": [
           {
            "error_x": {
             "color": "#2a3f5f"
            },
            "error_y": {
             "color": "#2a3f5f"
            },
            "marker": {
             "line": {
              "color": "#E5ECF6",
              "width": 0.5
             },
             "pattern": {
              "fillmode": "overlay",
              "size": 10,
              "solidity": 0.2
             }
            },
            "type": "bar"
           }
          ],
          "barpolar": [
           {
            "marker": {
             "line": {
              "color": "#E5ECF6",
              "width": 0.5
             },
             "pattern": {
              "fillmode": "overlay",
              "size": 10,
              "solidity": 0.2
             }
            },
            "type": "barpolar"
           }
          ],
          "carpet": [
           {
            "aaxis": {
             "endlinecolor": "#2a3f5f",
             "gridcolor": "white",
             "linecolor": "white",
             "minorgridcolor": "white",
             "startlinecolor": "#2a3f5f"
            },
            "baxis": {
             "endlinecolor": "#2a3f5f",
             "gridcolor": "white",
             "linecolor": "white",
             "minorgridcolor": "white",
             "startlinecolor": "#2a3f5f"
            },
            "type": "carpet"
           }
          ],
          "choropleth": [
           {
            "colorbar": {
             "outlinewidth": 0,
             "ticks": ""
            },
            "type": "choropleth"
           }
          ],
          "contour": [
           {
            "colorbar": {
             "outlinewidth": 0,
             "ticks": ""
            },
            "colorscale": [
             [
              0,
              "#0d0887"
             ],
             [
              0.1111111111111111,
              "#46039f"
             ],
             [
              0.2222222222222222,
              "#7201a8"
             ],
             [
              0.3333333333333333,
              "#9c179e"
             ],
             [
              0.4444444444444444,
              "#bd3786"
             ],
             [
              0.5555555555555556,
              "#d8576b"
             ],
             [
              0.6666666666666666,
              "#ed7953"
             ],
             [
              0.7777777777777778,
              "#fb9f3a"
             ],
             [
              0.8888888888888888,
              "#fdca26"
             ],
             [
              1,
              "#f0f921"
             ]
            ],
            "type": "contour"
           }
          ],
          "contourcarpet": [
           {
            "colorbar": {
             "outlinewidth": 0,
             "ticks": ""
            },
            "type": "contourcarpet"
           }
          ],
          "heatmap": [
           {
            "colorbar": {
             "outlinewidth": 0,
             "ticks": ""
            },
            "colorscale": [
             [
              0,
              "#0d0887"
             ],
             [
              0.1111111111111111,
              "#46039f"
             ],
             [
              0.2222222222222222,
              "#7201a8"
             ],
             [
              0.3333333333333333,
              "#9c179e"
             ],
             [
              0.4444444444444444,
              "#bd3786"
             ],
             [
              0.5555555555555556,
              "#d8576b"
             ],
             [
              0.6666666666666666,
              "#ed7953"
             ],
             [
              0.7777777777777778,
              "#fb9f3a"
             ],
             [
              0.8888888888888888,
              "#fdca26"
             ],
             [
              1,
              "#f0f921"
             ]
            ],
            "type": "heatmap"
           }
          ],
          "heatmapgl": [
           {
            "colorbar": {
             "outlinewidth": 0,
             "ticks": ""
            },
            "colorscale": [
             [
              0,
              "#0d0887"
             ],
             [
              0.1111111111111111,
              "#46039f"
             ],
             [
              0.2222222222222222,
              "#7201a8"
             ],
             [
              0.3333333333333333,
              "#9c179e"
             ],
             [
              0.4444444444444444,
              "#bd3786"
             ],
             [
              0.5555555555555556,
              "#d8576b"
             ],
             [
              0.6666666666666666,
              "#ed7953"
             ],
             [
              0.7777777777777778,
              "#fb9f3a"
             ],
             [
              0.8888888888888888,
              "#fdca26"
             ],
             [
              1,
              "#f0f921"
             ]
            ],
            "type": "heatmapgl"
           }
          ],
          "histogram": [
           {
            "marker": {
             "pattern": {
              "fillmode": "overlay",
              "size": 10,
              "solidity": 0.2
             }
            },
            "type": "histogram"
           }
          ],
          "histogram2d": [
           {
            "colorbar": {
             "outlinewidth": 0,
             "ticks": ""
            },
            "colorscale": [
             [
              0,
              "#0d0887"
             ],
             [
              0.1111111111111111,
              "#46039f"
             ],
             [
              0.2222222222222222,
              "#7201a8"
             ],
             [
              0.3333333333333333,
              "#9c179e"
             ],
             [
              0.4444444444444444,
              "#bd3786"
             ],
             [
              0.5555555555555556,
              "#d8576b"
             ],
             [
              0.6666666666666666,
              "#ed7953"
             ],
             [
              0.7777777777777778,
              "#fb9f3a"
             ],
             [
              0.8888888888888888,
              "#fdca26"
             ],
             [
              1,
              "#f0f921"
             ]
            ],
            "type": "histogram2d"
           }
          ],
          "histogram2dcontour": [
           {
            "colorbar": {
             "outlinewidth": 0,
             "ticks": ""
            },
            "colorscale": [
             [
              0,
              "#0d0887"
             ],
             [
              0.1111111111111111,
              "#46039f"
             ],
             [
              0.2222222222222222,
              "#7201a8"
             ],
             [
              0.3333333333333333,
              "#9c179e"
             ],
             [
              0.4444444444444444,
              "#bd3786"
             ],
             [
              0.5555555555555556,
              "#d8576b"
             ],
             [
              0.6666666666666666,
              "#ed7953"
             ],
             [
              0.7777777777777778,
              "#fb9f3a"
             ],
             [
              0.8888888888888888,
              "#fdca26"
             ],
             [
              1,
              "#f0f921"
             ]
            ],
            "type": "histogram2dcontour"
           }
          ],
          "mesh3d": [
           {
            "colorbar": {
             "outlinewidth": 0,
             "ticks": ""
            },
            "type": "mesh3d"
           }
          ],
          "parcoords": [
           {
            "line": {
             "colorbar": {
              "outlinewidth": 0,
              "ticks": ""
             }
            },
            "type": "parcoords"
           }
          ],
          "pie": [
           {
            "automargin": true,
            "type": "pie"
           }
          ],
          "scatter": [
           {
            "fillpattern": {
             "fillmode": "overlay",
             "size": 10,
             "solidity": 0.2
            },
            "type": "scatter"
           }
          ],
          "scatter3d": [
           {
            "line": {
             "colorbar": {
              "outlinewidth": 0,
              "ticks": ""
             }
            },
            "marker": {
             "colorbar": {
              "outlinewidth": 0,
              "ticks": ""
             }
            },
            "type": "scatter3d"
           }
          ],
          "scattercarpet": [
           {
            "marker": {
             "colorbar": {
              "outlinewidth": 0,
              "ticks": ""
             }
            },
            "type": "scattercarpet"
           }
          ],
          "scattergeo": [
           {
            "marker": {
             "colorbar": {
              "outlinewidth": 0,
              "ticks": ""
             }
            },
            "type": "scattergeo"
           }
          ],
          "scattergl": [
           {
            "marker": {
             "colorbar": {
              "outlinewidth": 0,
              "ticks": ""
             }
            },
            "type": "scattergl"
           }
          ],
          "scattermapbox": [
           {
            "marker": {
             "colorbar": {
              "outlinewidth": 0,
              "ticks": ""
             }
            },
            "type": "scattermapbox"
           }
          ],
          "scatterpolar": [
           {
            "marker": {
             "colorbar": {
              "outlinewidth": 0,
              "ticks": ""
             }
            },
            "type": "scatterpolar"
           }
          ],
          "scatterpolargl": [
           {
            "marker": {
             "colorbar": {
              "outlinewidth": 0,
              "ticks": ""
             }
            },
            "type": "scatterpolargl"
           }
          ],
          "scatterternary": [
           {
            "marker": {
             "colorbar": {
              "outlinewidth": 0,
              "ticks": ""
             }
            },
            "type": "scatterternary"
           }
          ],
          "surface": [
           {
            "colorbar": {
             "outlinewidth": 0,
             "ticks": ""
            },
            "colorscale": [
             [
              0,
              "#0d0887"
             ],
             [
              0.1111111111111111,
              "#46039f"
             ],
             [
              0.2222222222222222,
              "#7201a8"
             ],
             [
              0.3333333333333333,
              "#9c179e"
             ],
             [
              0.4444444444444444,
              "#bd3786"
             ],
             [
              0.5555555555555556,
              "#d8576b"
             ],
             [
              0.6666666666666666,
              "#ed7953"
             ],
             [
              0.7777777777777778,
              "#fb9f3a"
             ],
             [
              0.8888888888888888,
              "#fdca26"
             ],
             [
              1,
              "#f0f921"
             ]
            ],
            "type": "surface"
           }
          ],
          "table": [
           {
            "cells": {
             "fill": {
              "color": "#EBF0F8"
             },
             "line": {
              "color": "white"
             }
            },
            "header": {
             "fill": {
              "color": "#C8D4E3"
             },
             "line": {
              "color": "white"
             }
            },
            "type": "table"
           }
          ]
         },
         "layout": {
          "annotationdefaults": {
           "arrowcolor": "#2a3f5f",
           "arrowhead": 0,
           "arrowwidth": 1
          },
          "autotypenumbers": "strict",
          "coloraxis": {
           "colorbar": {
            "outlinewidth": 0,
            "ticks": ""
           }
          },
          "colorscale": {
           "diverging": [
            [
             0,
             "#8e0152"
            ],
            [
             0.1,
             "#c51b7d"
            ],
            [
             0.2,
             "#de77ae"
            ],
            [
             0.3,
             "#f1b6da"
            ],
            [
             0.4,
             "#fde0ef"
            ],
            [
             0.5,
             "#f7f7f7"
            ],
            [
             0.6,
             "#e6f5d0"
            ],
            [
             0.7,
             "#b8e186"
            ],
            [
             0.8,
             "#7fbc41"
            ],
            [
             0.9,
             "#4d9221"
            ],
            [
             1,
             "#276419"
            ]
           ],
           "sequential": [
            [
             0,
             "#0d0887"
            ],
            [
             0.1111111111111111,
             "#46039f"
            ],
            [
             0.2222222222222222,
             "#7201a8"
            ],
            [
             0.3333333333333333,
             "#9c179e"
            ],
            [
             0.4444444444444444,
             "#bd3786"
            ],
            [
             0.5555555555555556,
             "#d8576b"
            ],
            [
             0.6666666666666666,
             "#ed7953"
            ],
            [
             0.7777777777777778,
             "#fb9f3a"
            ],
            [
             0.8888888888888888,
             "#fdca26"
            ],
            [
             1,
             "#f0f921"
            ]
           ],
           "sequentialminus": [
            [
             0,
             "#0d0887"
            ],
            [
             0.1111111111111111,
             "#46039f"
            ],
            [
             0.2222222222222222,
             "#7201a8"
            ],
            [
             0.3333333333333333,
             "#9c179e"
            ],
            [
             0.4444444444444444,
             "#bd3786"
            ],
            [
             0.5555555555555556,
             "#d8576b"
            ],
            [
             0.6666666666666666,
             "#ed7953"
            ],
            [
             0.7777777777777778,
             "#fb9f3a"
            ],
            [
             0.8888888888888888,
             "#fdca26"
            ],
            [
             1,
             "#f0f921"
            ]
           ]
          },
          "colorway": [
           "#636efa",
           "#EF553B",
           "#00cc96",
           "#ab63fa",
           "#FFA15A",
           "#19d3f3",
           "#FF6692",
           "#B6E880",
           "#FF97FF",
           "#FECB52"
          ],
          "font": {
           "color": "#2a3f5f"
          },
          "geo": {
           "bgcolor": "white",
           "lakecolor": "white",
           "landcolor": "#E5ECF6",
           "showlakes": true,
           "showland": true,
           "subunitcolor": "white"
          },
          "hoverlabel": {
           "align": "left"
          },
          "hovermode": "closest",
          "mapbox": {
           "style": "light"
          },
          "paper_bgcolor": "white",
          "plot_bgcolor": "#E5ECF6",
          "polar": {
           "angularaxis": {
            "gridcolor": "white",
            "linecolor": "white",
            "ticks": ""
           },
           "bgcolor": "#E5ECF6",
           "radialaxis": {
            "gridcolor": "white",
            "linecolor": "white",
            "ticks": ""
           }
          },
          "scene": {
           "xaxis": {
            "backgroundcolor": "#E5ECF6",
            "gridcolor": "white",
            "gridwidth": 2,
            "linecolor": "white",
            "showbackground": true,
            "ticks": "",
            "zerolinecolor": "white"
           },
           "yaxis": {
            "backgroundcolor": "#E5ECF6",
            "gridcolor": "white",
            "gridwidth": 2,
            "linecolor": "white",
            "showbackground": true,
            "ticks": "",
            "zerolinecolor": "white"
           },
           "zaxis": {
            "backgroundcolor": "#E5ECF6",
            "gridcolor": "white",
            "gridwidth": 2,
            "linecolor": "white",
            "showbackground": true,
            "ticks": "",
            "zerolinecolor": "white"
           }
          },
          "shapedefaults": {
           "line": {
            "color": "#2a3f5f"
           }
          },
          "ternary": {
           "aaxis": {
            "gridcolor": "white",
            "linecolor": "white",
            "ticks": ""
           },
           "baxis": {
            "gridcolor": "white",
            "linecolor": "white",
            "ticks": ""
           },
           "bgcolor": "#E5ECF6",
           "caxis": {
            "gridcolor": "white",
            "linecolor": "white",
            "ticks": ""
           }
          },
          "title": {
           "x": 0.05
          },
          "xaxis": {
           "automargin": true,
           "gridcolor": "white",
           "linecolor": "white",
           "ticks": "",
           "title": {
            "standoff": 15
           },
           "zerolinecolor": "white",
           "zerolinewidth": 2
          },
          "yaxis": {
           "automargin": true,
           "gridcolor": "white",
           "linecolor": "white",
           "ticks": "",
           "title": {
            "standoff": 15
           },
           "zerolinecolor": "white",
           "zerolinewidth": 2
          }
         }
        },
        "title": {
         "text": "30 day forecaste"
        },
        "xaxis": {
         "anchor": "y",
         "domain": [
          0,
          1
         ],
         "title": {
          "text": "index"
         }
        },
        "yaxis": {
         "anchor": "x",
         "domain": [
          0,
          1
         ],
         "title": {
          "text": "value"
         }
        }
       }
      },
      "text/html": [
       "<div>                            <div id=\"637e4867-c424-4e85-8217-d2fd96fb86b5\" class=\"plotly-graph-div\" style=\"height:525px; width:100%;\"></div>            <script type=\"text/javascript\">                require([\"plotly\"], function(Plotly) {                    window.PLOTLYENV=window.PLOTLYENV || {};                                    if (document.getElementById(\"637e4867-c424-4e85-8217-d2fd96fb86b5\")) {                    Plotly.newPlot(                        \"637e4867-c424-4e85-8217-d2fd96fb86b5\",                        [{\"hovertemplate\":\"variable=0<br>index=%{x}<br>value=%{y}<extra></extra>\",\"legendgroup\":\"0\",\"line\":{\"color\":\"#636efa\",\"dash\":\"solid\"},\"marker\":{\"symbol\":\"circle\"},\"mode\":\"lines\",\"name\":\"0\",\"orientation\":\"v\",\"showlegend\":true,\"x\":[0,1,2,3,4,5,6,7,8,9,10,11,12,13,14,15,16,17,18,19,20,21,22,23,24,25,26,27,28,29],\"xaxis\":\"x\",\"y\":[130.72727966308594,137.64845275878906,136.42984008789062,133.27877807617188,133.73751831054688,132.26124572753906,130.91888427734375,131.70692443847656,130.06997680664062,135.00869750976562,130.39703369140625,129.78414916992188,129.76768493652344,128.17581176757812,129.24342346191406,128.9123077392578,128.63442993164062,131.38914489746094,130.0874786376953,129.31564331054688,123.38574981689453,124.66726684570312,126.61424255371094,126.17189025878906,127.1507797241211,124.65386962890625,129.6840057373047,124.40631866455078,126.0276870727539,129.9206085205078],\"yaxis\":\"y\",\"type\":\"scatter\"}],                        {\"template\":{\"data\":{\"histogram2dcontour\":[{\"type\":\"histogram2dcontour\",\"colorbar\":{\"outlinewidth\":0,\"ticks\":\"\"},\"colorscale\":[[0.0,\"#0d0887\"],[0.1111111111111111,\"#46039f\"],[0.2222222222222222,\"#7201a8\"],[0.3333333333333333,\"#9c179e\"],[0.4444444444444444,\"#bd3786\"],[0.5555555555555556,\"#d8576b\"],[0.6666666666666666,\"#ed7953\"],[0.7777777777777778,\"#fb9f3a\"],[0.8888888888888888,\"#fdca26\"],[1.0,\"#f0f921\"]]}],\"choropleth\":[{\"type\":\"choropleth\",\"colorbar\":{\"outlinewidth\":0,\"ticks\":\"\"}}],\"histogram2d\":[{\"type\":\"histogram2d\",\"colorbar\":{\"outlinewidth\":0,\"ticks\":\"\"},\"colorscale\":[[0.0,\"#0d0887\"],[0.1111111111111111,\"#46039f\"],[0.2222222222222222,\"#7201a8\"],[0.3333333333333333,\"#9c179e\"],[0.4444444444444444,\"#bd3786\"],[0.5555555555555556,\"#d8576b\"],[0.6666666666666666,\"#ed7953\"],[0.7777777777777778,\"#fb9f3a\"],[0.8888888888888888,\"#fdca26\"],[1.0,\"#f0f921\"]]}],\"heatmap\":[{\"type\":\"heatmap\",\"colorbar\":{\"outlinewidth\":0,\"ticks\":\"\"},\"colorscale\":[[0.0,\"#0d0887\"],[0.1111111111111111,\"#46039f\"],[0.2222222222222222,\"#7201a8\"],[0.3333333333333333,\"#9c179e\"],[0.4444444444444444,\"#bd3786\"],[0.5555555555555556,\"#d8576b\"],[0.6666666666666666,\"#ed7953\"],[0.7777777777777778,\"#fb9f3a\"],[0.8888888888888888,\"#fdca26\"],[1.0,\"#f0f921\"]]}],\"heatmapgl\":[{\"type\":\"heatmapgl\",\"colorbar\":{\"outlinewidth\":0,\"ticks\":\"\"},\"colorscale\":[[0.0,\"#0d0887\"],[0.1111111111111111,\"#46039f\"],[0.2222222222222222,\"#7201a8\"],[0.3333333333333333,\"#9c179e\"],[0.4444444444444444,\"#bd3786\"],[0.5555555555555556,\"#d8576b\"],[0.6666666666666666,\"#ed7953\"],[0.7777777777777778,\"#fb9f3a\"],[0.8888888888888888,\"#fdca26\"],[1.0,\"#f0f921\"]]}],\"contourcarpet\":[{\"type\":\"contourcarpet\",\"colorbar\":{\"outlinewidth\":0,\"ticks\":\"\"}}],\"contour\":[{\"type\":\"contour\",\"colorbar\":{\"outlinewidth\":0,\"ticks\":\"\"},\"colorscale\":[[0.0,\"#0d0887\"],[0.1111111111111111,\"#46039f\"],[0.2222222222222222,\"#7201a8\"],[0.3333333333333333,\"#9c179e\"],[0.4444444444444444,\"#bd3786\"],[0.5555555555555556,\"#d8576b\"],[0.6666666666666666,\"#ed7953\"],[0.7777777777777778,\"#fb9f3a\"],[0.8888888888888888,\"#fdca26\"],[1.0,\"#f0f921\"]]}],\"surface\":[{\"type\":\"surface\",\"colorbar\":{\"outlinewidth\":0,\"ticks\":\"\"},\"colorscale\":[[0.0,\"#0d0887\"],[0.1111111111111111,\"#46039f\"],[0.2222222222222222,\"#7201a8\"],[0.3333333333333333,\"#9c179e\"],[0.4444444444444444,\"#bd3786\"],[0.5555555555555556,\"#d8576b\"],[0.6666666666666666,\"#ed7953\"],[0.7777777777777778,\"#fb9f3a\"],[0.8888888888888888,\"#fdca26\"],[1.0,\"#f0f921\"]]}],\"mesh3d\":[{\"type\":\"mesh3d\",\"colorbar\":{\"outlinewidth\":0,\"ticks\":\"\"}}],\"scatter\":[{\"fillpattern\":{\"fillmode\":\"overlay\",\"size\":10,\"solidity\":0.2},\"type\":\"scatter\"}],\"parcoords\":[{\"type\":\"parcoords\",\"line\":{\"colorbar\":{\"outlinewidth\":0,\"ticks\":\"\"}}}],\"scatterpolargl\":[{\"type\":\"scatterpolargl\",\"marker\":{\"colorbar\":{\"outlinewidth\":0,\"ticks\":\"\"}}}],\"bar\":[{\"error_x\":{\"color\":\"#2a3f5f\"},\"error_y\":{\"color\":\"#2a3f5f\"},\"marker\":{\"line\":{\"color\":\"#E5ECF6\",\"width\":0.5},\"pattern\":{\"fillmode\":\"overlay\",\"size\":10,\"solidity\":0.2}},\"type\":\"bar\"}],\"scattergeo\":[{\"type\":\"scattergeo\",\"marker\":{\"colorbar\":{\"outlinewidth\":0,\"ticks\":\"\"}}}],\"scatterpolar\":[{\"type\":\"scatterpolar\",\"marker\":{\"colorbar\":{\"outlinewidth\":0,\"ticks\":\"\"}}}],\"histogram\":[{\"marker\":{\"pattern\":{\"fillmode\":\"overlay\",\"size\":10,\"solidity\":0.2}},\"type\":\"histogram\"}],\"scattergl\":[{\"type\":\"scattergl\",\"marker\":{\"colorbar\":{\"outlinewidth\":0,\"ticks\":\"\"}}}],\"scatter3d\":[{\"type\":\"scatter3d\",\"line\":{\"colorbar\":{\"outlinewidth\":0,\"ticks\":\"\"}},\"marker\":{\"colorbar\":{\"outlinewidth\":0,\"ticks\":\"\"}}}],\"scattermapbox\":[{\"type\":\"scattermapbox\",\"marker\":{\"colorbar\":{\"outlinewidth\":0,\"ticks\":\"\"}}}],\"scatterternary\":[{\"type\":\"scatterternary\",\"marker\":{\"colorbar\":{\"outlinewidth\":0,\"ticks\":\"\"}}}],\"scattercarpet\":[{\"type\":\"scattercarpet\",\"marker\":{\"colorbar\":{\"outlinewidth\":0,\"ticks\":\"\"}}}],\"carpet\":[{\"aaxis\":{\"endlinecolor\":\"#2a3f5f\",\"gridcolor\":\"white\",\"linecolor\":\"white\",\"minorgridcolor\":\"white\",\"startlinecolor\":\"#2a3f5f\"},\"baxis\":{\"endlinecolor\":\"#2a3f5f\",\"gridcolor\":\"white\",\"linecolor\":\"white\",\"minorgridcolor\":\"white\",\"startlinecolor\":\"#2a3f5f\"},\"type\":\"carpet\"}],\"table\":[{\"cells\":{\"fill\":{\"color\":\"#EBF0F8\"},\"line\":{\"color\":\"white\"}},\"header\":{\"fill\":{\"color\":\"#C8D4E3\"},\"line\":{\"color\":\"white\"}},\"type\":\"table\"}],\"barpolar\":[{\"marker\":{\"line\":{\"color\":\"#E5ECF6\",\"width\":0.5},\"pattern\":{\"fillmode\":\"overlay\",\"size\":10,\"solidity\":0.2}},\"type\":\"barpolar\"}],\"pie\":[{\"automargin\":true,\"type\":\"pie\"}]},\"layout\":{\"autotypenumbers\":\"strict\",\"colorway\":[\"#636efa\",\"#EF553B\",\"#00cc96\",\"#ab63fa\",\"#FFA15A\",\"#19d3f3\",\"#FF6692\",\"#B6E880\",\"#FF97FF\",\"#FECB52\"],\"font\":{\"color\":\"#2a3f5f\"},\"hovermode\":\"closest\",\"hoverlabel\":{\"align\":\"left\"},\"paper_bgcolor\":\"white\",\"plot_bgcolor\":\"#E5ECF6\",\"polar\":{\"bgcolor\":\"#E5ECF6\",\"angularaxis\":{\"gridcolor\":\"white\",\"linecolor\":\"white\",\"ticks\":\"\"},\"radialaxis\":{\"gridcolor\":\"white\",\"linecolor\":\"white\",\"ticks\":\"\"}},\"ternary\":{\"bgcolor\":\"#E5ECF6\",\"aaxis\":{\"gridcolor\":\"white\",\"linecolor\":\"white\",\"ticks\":\"\"},\"baxis\":{\"gridcolor\":\"white\",\"linecolor\":\"white\",\"ticks\":\"\"},\"caxis\":{\"gridcolor\":\"white\",\"linecolor\":\"white\",\"ticks\":\"\"}},\"coloraxis\":{\"colorbar\":{\"outlinewidth\":0,\"ticks\":\"\"}},\"colorscale\":{\"sequential\":[[0.0,\"#0d0887\"],[0.1111111111111111,\"#46039f\"],[0.2222222222222222,\"#7201a8\"],[0.3333333333333333,\"#9c179e\"],[0.4444444444444444,\"#bd3786\"],[0.5555555555555556,\"#d8576b\"],[0.6666666666666666,\"#ed7953\"],[0.7777777777777778,\"#fb9f3a\"],[0.8888888888888888,\"#fdca26\"],[1.0,\"#f0f921\"]],\"sequentialminus\":[[0.0,\"#0d0887\"],[0.1111111111111111,\"#46039f\"],[0.2222222222222222,\"#7201a8\"],[0.3333333333333333,\"#9c179e\"],[0.4444444444444444,\"#bd3786\"],[0.5555555555555556,\"#d8576b\"],[0.6666666666666666,\"#ed7953\"],[0.7777777777777778,\"#fb9f3a\"],[0.8888888888888888,\"#fdca26\"],[1.0,\"#f0f921\"]],\"diverging\":[[0,\"#8e0152\"],[0.1,\"#c51b7d\"],[0.2,\"#de77ae\"],[0.3,\"#f1b6da\"],[0.4,\"#fde0ef\"],[0.5,\"#f7f7f7\"],[0.6,\"#e6f5d0\"],[0.7,\"#b8e186\"],[0.8,\"#7fbc41\"],[0.9,\"#4d9221\"],[1,\"#276419\"]]},\"xaxis\":{\"gridcolor\":\"white\",\"linecolor\":\"white\",\"ticks\":\"\",\"title\":{\"standoff\":15},\"zerolinecolor\":\"white\",\"automargin\":true,\"zerolinewidth\":2},\"yaxis\":{\"gridcolor\":\"white\",\"linecolor\":\"white\",\"ticks\":\"\",\"title\":{\"standoff\":15},\"zerolinecolor\":\"white\",\"automargin\":true,\"zerolinewidth\":2},\"scene\":{\"xaxis\":{\"backgroundcolor\":\"#E5ECF6\",\"gridcolor\":\"white\",\"linecolor\":\"white\",\"showbackground\":true,\"ticks\":\"\",\"zerolinecolor\":\"white\",\"gridwidth\":2},\"yaxis\":{\"backgroundcolor\":\"#E5ECF6\",\"gridcolor\":\"white\",\"linecolor\":\"white\",\"showbackground\":true,\"ticks\":\"\",\"zerolinecolor\":\"white\",\"gridwidth\":2},\"zaxis\":{\"backgroundcolor\":\"#E5ECF6\",\"gridcolor\":\"white\",\"linecolor\":\"white\",\"showbackground\":true,\"ticks\":\"\",\"zerolinecolor\":\"white\",\"gridwidth\":2}},\"shapedefaults\":{\"line\":{\"color\":\"#2a3f5f\"}},\"annotationdefaults\":{\"arrowcolor\":\"#2a3f5f\",\"arrowhead\":0,\"arrowwidth\":1},\"geo\":{\"bgcolor\":\"white\",\"landcolor\":\"#E5ECF6\",\"subunitcolor\":\"white\",\"showland\":true,\"showlakes\":true,\"lakecolor\":\"white\"},\"title\":{\"x\":0.05},\"mapbox\":{\"style\":\"light\"}}},\"xaxis\":{\"anchor\":\"y\",\"domain\":[0.0,1.0],\"title\":{\"text\":\"index\"}},\"yaxis\":{\"anchor\":\"x\",\"domain\":[0.0,1.0],\"title\":{\"text\":\"value\"}},\"legend\":{\"title\":{\"text\":\"variable\"},\"tracegroupgap\":0},\"title\":{\"text\":\"30 day forecaste\"}},                        {\"responsive\": true}                    ).then(function(){\n",
       "                            \n",
       "var gd = document.getElementById('637e4867-c424-4e85-8217-d2fd96fb86b5');\n",
       "var x = new MutationObserver(function (mutations, observer) {{\n",
       "        var display = window.getComputedStyle(gd).display;\n",
       "        if (!display || display === 'none') {{\n",
       "            console.log([gd, 'removed!']);\n",
       "            Plotly.purge(gd);\n",
       "            observer.disconnect();\n",
       "        }}\n",
       "}});\n",
       "\n",
       "// Listen for the removal of the full notebook cells\n",
       "var notebookContainer = gd.closest('#notebook-container');\n",
       "if (notebookContainer) {{\n",
       "    x.observe(notebookContainer, {childList: true});\n",
       "}}\n",
       "\n",
       "// Listen for the clearing of the current output cell\n",
       "var outputEl = gd.closest('.output');\n",
       "if (outputEl) {{\n",
       "    x.observe(outputEl, {childList: true});\n",
       "}}\n",
       "\n",
       "                        })                };                });            </script>        </div>"
      ]
     },
     "metadata": {},
     "output_type": "display_data"
    }
   ],
   "source": [
    "import plotly.express as px\n",
    "fig = px.line(y_pred_inv,  title='30 day forecaste')\n",
    "fig.show()"
   ]
  },
  {
   "cell_type": "code",
   "execution_count": null,
   "id": "b9700c3c",
   "metadata": {},
   "outputs": [],
   "source": []
  },
  {
   "cell_type": "code",
   "execution_count": null,
   "id": "6141e4e3",
   "metadata": {},
   "outputs": [],
   "source": []
  }
 ],
 "metadata": {
  "kernelspec": {
   "display_name": "Python 3 (ipykernel)",
   "language": "python",
   "name": "python3"
  },
  "language_info": {
   "codemirror_mode": {
    "name": "ipython",
    "version": 3
   },
   "file_extension": ".py",
   "mimetype": "text/x-python",
   "name": "python",
   "nbconvert_exporter": "python",
   "pygments_lexer": "ipython3",
   "version": "3.9.15"
  }
 },
 "nbformat": 4,
 "nbformat_minor": 5
}
