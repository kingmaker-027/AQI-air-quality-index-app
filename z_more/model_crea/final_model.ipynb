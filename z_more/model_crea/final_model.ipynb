{
 "cells": [
  {
   "cell_type": "code",
   "execution_count": 1,
   "id": "d5b2f7e0",
   "metadata": {},
   "outputs": [],
   "source": [
    "#import libraries\n",
    "import pandas as pd\n",
    "import numpy as np\n",
    "import tensorflow as tf\n",
    "\n",
    "from numpy import array , hstack\n",
    "from sklearn.preprocessing import MinMaxScaler\n",
    "from tensorflow import keras\n",
    "from keras.models import Sequential\n",
    "from keras.layers import Dense,LSTM,Activation\n",
    "from keras.callbacks import ModelCheckpoint\n",
    "from keras.losses import MeanSquaredError as mse\n",
    "from keras.metrics import RootMeanSquaredError,accuracy\n",
    "from keras.optimizers import Adam"
   ]
  },
  {
   "cell_type": "code",
   "execution_count": 2,
   "id": "1b30634b",
   "metadata": {},
   "outputs": [],
   "source": [
    "df = pd.read_csv(r\"C:\\Users\\Acer\\Desktop\\Model_creation\\dataset\\City_day01.csv\")\n",
    "df = df[df['City']=='Delhi']\n",
    "df.index= pd.to_datetime(df['Date'])\n",
    "df = df.drop(['City','Date','NO','NOx','Benzene','Toluene','Xylene'],axis = 1)"
   ]
  },
  {
   "cell_type": "code",
   "execution_count": 3,
   "id": "f4fa3819",
   "metadata": {},
   "outputs": [],
   "source": [
    "from sklearn import preprocessing\n",
    "Scaler = preprocessing.MinMaxScaler()\n",
    "for i in df.columns:\n",
    "    df[[i]] = Scaler.fit_transform(df[[i]])\n"
   ]
  },
  {
   "cell_type": "code",
   "execution_count": 4,
   "id": "bae938b6",
   "metadata": {},
   "outputs": [],
   "source": [
    "def split_sequences(sequences, n_steps_in, n_steps_out):\n",
    "        X = []\n",
    "        y = []\n",
    "        sequences = sequences.to_numpy()\n",
    "        for i in range(len(sequences)):\n",
    "            # find the end of this pattern\n",
    "            end_ix = i + n_steps_in\n",
    "            out_end_ix = end_ix + n_steps_out-1\n",
    "            # check if we are beyond the dataset\n",
    "            if out_end_ix > len(sequences):\n",
    "                break\n",
    "            # gather input and output parts of the pattern\n",
    "            seq_x, seq_y = sequences[i:end_ix, :-1], sequences[end_ix-1:out_end_ix, -1]\n",
    "            X.append(seq_x)\n",
    "            y.append(seq_y)\n",
    "        return array(X), array(y)"
   ]
  },
  {
   "cell_type": "code",
   "execution_count": 5,
   "id": "7a547738",
   "metadata": {},
   "outputs": [
    {
     "name": "stdout",
     "output_type": "stream",
     "text": [
      "X.shape (1921, 60, 7)\n",
      "y.shape (1921, 30)\n"
     ]
    }
   ],
   "source": [
    "n_steps_in, n_steps_out = 60 , 30 # choose a number of time steps #change this accordingly\n",
    "X, y = split_sequences(df, n_steps_in, n_steps_out) # covert into input/output\n",
    "print (\"X.shape\" , X.shape) \n",
    "print (\"y.shape\" , y.shape)     "
   ]
  },
  {
   "cell_type": "code",
   "execution_count": 6,
   "id": "037383ec",
   "metadata": {},
   "outputs": [
    {
     "name": "stdout",
     "output_type": "stream",
     "text": [
      "X_train (1536, 60, 7)\n",
      "y_train (1536, 30)\n",
      "X_test (385, 60, 7)\n",
      "y_test (385, 30)\n",
      "n_features= 7\n"
     ]
    }
   ],
   "source": [
    "from sklearn.model_selection import train_test_split\n",
    "X_train, X_test, y_train, y_test = train_test_split(X,y, train_size=0.8)\n",
    "\n",
    "print('X_train',X_train.shape), print('y_train',y_train.shape)\n",
    "print('X_test',X_test.shape), print('y_test',y_test.shape)\n",
    "n_features = X_train.shape[2]\n",
    "print('n_features=',n_features)"
   ]
  },
  {
   "cell_type": "code",
   "execution_count": 7,
   "id": "f9fc08f1",
   "metadata": {},
   "outputs": [
    {
     "name": "stdout",
     "output_type": "stream",
     "text": [
      "WARNING:tensorflow:Layer lstm will not use cuDNN kernels since it doesn't meet the criteria. It will use a generic GPU kernel as fallback when running on GPU.\n",
      "WARNING:tensorflow:Layer lstm_1 will not use cuDNN kernels since it doesn't meet the criteria. It will use a generic GPU kernel as fallback when running on GPU.\n",
      "Model: \"sequential\"\n",
      "_________________________________________________________________\n",
      " Layer (type)                Output Shape              Param #   \n",
      "=================================================================\n",
      " lstm (LSTM)                 (None, 60, 50)            11600     \n",
      "                                                                 \n",
      " lstm_1 (LSTM)               (None, 50)                20200     \n",
      "                                                                 \n",
      " dense (Dense)               (None, 30)                1530      \n",
      "                                                                 \n",
      " activation (Activation)     (None, 30)                0         \n",
      "                                                                 \n",
      "=================================================================\n",
      "Total params: 33,330\n",
      "Trainable params: 33,330\n",
      "Non-trainable params: 0\n",
      "_________________________________________________________________\n"
     ]
    }
   ],
   "source": [
    "# define model\n",
    "model = Sequential()\n",
    "model.add(LSTM(50, activation='relu', return_sequences=True, input_shape=(n_steps_in, n_features)))\n",
    "model.add(LSTM(50, activation='relu'))\n",
    "model.add(Dense(n_steps_out))\n",
    "model.add(Activation('linear'))\n",
    "model.summary()"
   ]
  },
  {
   "cell_type": "code",
   "execution_count": 8,
   "id": "cd759c67",
   "metadata": {},
   "outputs": [],
   "source": [
    "cp  = ModelCheckpoint('model/',save_best_only=True)\n",
    "# cp = [\n",
    "#     keras.callbacks.EarlyStopping(monitor='val_loss',\n",
    "#                                   mode='min',\n",
    "#                                   patience=1,\n",
    "#                                   verbose=1,\n",
    "#                                   restore_best_weights=True)]\n",
    "model.compile(loss=mse(), optimizer=Adam(learning_rate=0.0001), metrics=['RootMeanSquaredError'])"
   ]
  },
  {
   "cell_type": "code",
   "execution_count": 9,
   "id": "05b3baa5",
   "metadata": {
    "scrolled": false
   },
   "outputs": [
    {
     "name": "stdout",
     "output_type": "stream",
     "text": [
      "Epoch 1/55\n",
      "62/62 [==============================] - ETA: 0s - loss: 0.1778 - root_mean_squared_error: 0.4217INFO:tensorflow:Assets written to: model\\assets\n",
      "62/62 [==============================] - 30s 406ms/step - loss: 0.1778 - root_mean_squared_error: 0.4217 - val_loss: 0.1690 - val_root_mean_squared_error: 0.4111\n",
      "Epoch 2/55\n",
      "62/62 [==============================] - ETA: 0s - loss: 0.1221 - root_mean_squared_error: 0.3494INFO:tensorflow:Assets written to: model\\assets\n",
      "62/62 [==============================] - 25s 396ms/step - loss: 0.1221 - root_mean_squared_error: 0.3494 - val_loss: 0.0767 - val_root_mean_squared_error: 0.2769\n",
      "Epoch 3/55\n",
      "62/62 [==============================] - ETA: 0s - loss: 0.0569 - root_mean_squared_error: 0.2386INFO:tensorflow:Assets written to: model\\assets\n",
      "62/62 [==============================] - 23s 368ms/step - loss: 0.0569 - root_mean_squared_error: 0.2386 - val_loss: 0.0410 - val_root_mean_squared_error: 0.2026\n",
      "Epoch 4/55\n",
      "62/62 [==============================] - ETA: 0s - loss: 0.0354 - root_mean_squared_error: 0.1882INFO:tensorflow:Assets written to: model\\assets\n",
      "62/62 [==============================] - 24s 393ms/step - loss: 0.0354 - root_mean_squared_error: 0.1882 - val_loss: 0.0303 - val_root_mean_squared_error: 0.1740\n",
      "Epoch 5/55\n",
      "62/62 [==============================] - ETA: 0s - loss: 0.0301 - root_mean_squared_error: 0.1734INFO:tensorflow:Assets written to: model\\assets\n",
      "62/62 [==============================] - 24s 385ms/step - loss: 0.0301 - root_mean_squared_error: 0.1734 - val_loss: 0.0281 - val_root_mean_squared_error: 0.1678\n",
      "Epoch 6/55\n",
      "62/62 [==============================] - ETA: 0s - loss: 0.0284 - root_mean_squared_error: 0.1686INFO:tensorflow:Assets written to: model\\assets\n",
      "62/62 [==============================] - 24s 382ms/step - loss: 0.0284 - root_mean_squared_error: 0.1686 - val_loss: 0.0271 - val_root_mean_squared_error: 0.1646\n",
      "Epoch 7/55\n",
      "62/62 [==============================] - ETA: 0s - loss: 0.0275 - root_mean_squared_error: 0.1658INFO:tensorflow:Assets written to: model\\assets\n",
      "62/62 [==============================] - 23s 375ms/step - loss: 0.0275 - root_mean_squared_error: 0.1658 - val_loss: 0.0264 - val_root_mean_squared_error: 0.1624\n",
      "Epoch 8/55\n",
      "62/62 [==============================] - ETA: 0s - loss: 0.0268 - root_mean_squared_error: 0.1638INFO:tensorflow:Assets written to: model\\assets\n",
      "62/62 [==============================] - 23s 365ms/step - loss: 0.0268 - root_mean_squared_error: 0.1638 - val_loss: 0.0258 - val_root_mean_squared_error: 0.1605\n",
      "Epoch 9/55\n",
      "62/62 [==============================] - ETA: 0s - loss: 0.0262 - root_mean_squared_error: 0.1620INFO:tensorflow:Assets written to: model\\assets\n",
      "62/62 [==============================] - 24s 381ms/step - loss: 0.0262 - root_mean_squared_error: 0.1620 - val_loss: 0.0252 - val_root_mean_squared_error: 0.1588\n",
      "Epoch 10/55\n",
      "62/62 [==============================] - ETA: 0s - loss: 0.0258 - root_mean_squared_error: 0.1605INFO:tensorflow:Assets written to: model\\assets\n",
      "62/62 [==============================] - 24s 391ms/step - loss: 0.0258 - root_mean_squared_error: 0.1605 - val_loss: 0.0248 - val_root_mean_squared_error: 0.1573\n",
      "Epoch 11/55\n",
      "62/62 [==============================] - ETA: 0s - loss: 0.0254 - root_mean_squared_error: 0.1592INFO:tensorflow:Assets written to: model\\assets\n",
      "62/62 [==============================] - 23s 366ms/step - loss: 0.0254 - root_mean_squared_error: 0.1592 - val_loss: 0.0244 - val_root_mean_squared_error: 0.1561\n",
      "Epoch 12/55\n",
      "62/62 [==============================] - ETA: 0s - loss: 0.0250 - root_mean_squared_error: 0.1580INFO:tensorflow:Assets written to: model\\assets\n",
      "62/62 [==============================] - 25s 410ms/step - loss: 0.0250 - root_mean_squared_error: 0.1580 - val_loss: 0.0239 - val_root_mean_squared_error: 0.1545\n",
      "Epoch 13/55\n",
      "62/62 [==============================] - ETA: 0s - loss: 0.0246 - root_mean_squared_error: 0.1567INFO:tensorflow:Assets written to: model\\assets\n",
      "62/62 [==============================] - 23s 376ms/step - loss: 0.0246 - root_mean_squared_error: 0.1567 - val_loss: 0.0234 - val_root_mean_squared_error: 0.1531\n",
      "Epoch 14/55\n",
      "62/62 [==============================] - ETA: 0s - loss: 0.0242 - root_mean_squared_error: 0.1554INFO:tensorflow:Assets written to: model\\assets\n",
      "62/62 [==============================] - 24s 390ms/step - loss: 0.0242 - root_mean_squared_error: 0.1554 - val_loss: 0.0230 - val_root_mean_squared_error: 0.1516\n",
      "Epoch 15/55\n",
      "62/62 [==============================] - ETA: 0s - loss: 0.0237 - root_mean_squared_error: 0.1539INFO:tensorflow:Assets written to: model\\assets\n",
      "62/62 [==============================] - 23s 368ms/step - loss: 0.0237 - root_mean_squared_error: 0.1539 - val_loss: 0.0225 - val_root_mean_squared_error: 0.1499\n",
      "Epoch 16/55\n",
      "62/62 [==============================] - ETA: 0s - loss: 0.0231 - root_mean_squared_error: 0.1521INFO:tensorflow:Assets written to: model\\assets\n",
      "62/62 [==============================] - 23s 365ms/step - loss: 0.0231 - root_mean_squared_error: 0.1521 - val_loss: 0.0219 - val_root_mean_squared_error: 0.1478\n",
      "Epoch 17/55\n",
      "62/62 [==============================] - ETA: 0s - loss: 0.0224 - root_mean_squared_error: 0.1497INFO:tensorflow:Assets written to: model\\assets\n",
      "62/62 [==============================] - 24s 388ms/step - loss: 0.0224 - root_mean_squared_error: 0.1497 - val_loss: 0.0212 - val_root_mean_squared_error: 0.1457\n",
      "Epoch 18/55\n",
      "62/62 [==============================] - ETA: 0s - loss: 0.0214 - root_mean_squared_error: 0.1464INFO:tensorflow:Assets written to: model\\assets\n",
      "62/62 [==============================] - 24s 381ms/step - loss: 0.0214 - root_mean_squared_error: 0.1464 - val_loss: 0.0210 - val_root_mean_squared_error: 0.1448\n",
      "Epoch 19/55\n",
      "62/62 [==============================] - ETA: 0s - loss: 0.0205 - root_mean_squared_error: 0.1431INFO:tensorflow:Assets written to: model\\assets\n",
      "62/62 [==============================] - 23s 375ms/step - loss: 0.0205 - root_mean_squared_error: 0.1431 - val_loss: 0.0202 - val_root_mean_squared_error: 0.1420\n",
      "Epoch 20/55\n",
      "62/62 [==============================] - ETA: 0s - loss: 0.0200 - root_mean_squared_error: 0.1413INFO:tensorflow:Assets written to: model\\assets\n",
      "62/62 [==============================] - 23s 378ms/step - loss: 0.0200 - root_mean_squared_error: 0.1413 - val_loss: 0.0198 - val_root_mean_squared_error: 0.1408\n",
      "Epoch 21/55\n",
      "62/62 [==============================] - ETA: 0s - loss: 0.0195 - root_mean_squared_error: 0.1396INFO:tensorflow:Assets written to: model\\assets\n",
      "62/62 [==============================] - 24s 383ms/step - loss: 0.0195 - root_mean_squared_error: 0.1396 - val_loss: 0.0192 - val_root_mean_squared_error: 0.1384\n",
      "Epoch 22/55\n",
      "62/62 [==============================] - ETA: 0s - loss: 0.0190 - root_mean_squared_error: 0.1378INFO:tensorflow:Assets written to: model\\assets\n",
      "62/62 [==============================] - 24s 380ms/step - loss: 0.0190 - root_mean_squared_error: 0.1378 - val_loss: 0.0187 - val_root_mean_squared_error: 0.1369\n",
      "Epoch 23/55\n",
      "62/62 [==============================] - ETA: 0s - loss: 0.0186 - root_mean_squared_error: 0.1364INFO:tensorflow:Assets written to: model\\assets\n",
      "62/62 [==============================] - 24s 380ms/step - loss: 0.0186 - root_mean_squared_error: 0.1364 - val_loss: 0.0185 - val_root_mean_squared_error: 0.1359\n",
      "Epoch 24/55\n",
      "62/62 [==============================] - ETA: 0s - loss: 0.0183 - root_mean_squared_error: 0.1354INFO:tensorflow:Assets written to: model\\assets\n",
      "62/62 [==============================] - 23s 377ms/step - loss: 0.0183 - root_mean_squared_error: 0.1354 - val_loss: 0.0182 - val_root_mean_squared_error: 0.1349\n",
      "Epoch 25/55\n",
      "62/62 [==============================] - ETA: 0s - loss: 0.0181 - root_mean_squared_error: 0.1344INFO:tensorflow:Assets written to: model\\assets\n",
      "62/62 [==============================] - 24s 393ms/step - loss: 0.0181 - root_mean_squared_error: 0.1344 - val_loss: 0.0180 - val_root_mean_squared_error: 0.1343\n",
      "Epoch 26/55\n",
      "62/62 [==============================] - ETA: 0s - loss: 0.0178 - root_mean_squared_error: 0.1335INFO:tensorflow:Assets written to: model\\assets\n",
      "62/62 [==============================] - 23s 372ms/step - loss: 0.0178 - root_mean_squared_error: 0.1335 - val_loss: 0.0179 - val_root_mean_squared_error: 0.1338\n"
     ]
    },
    {
     "name": "stdout",
     "output_type": "stream",
     "text": [
      "Epoch 27/55\n",
      "62/62 [==============================] - ETA: 0s - loss: 0.0176 - root_mean_squared_error: 0.1328INFO:tensorflow:Assets written to: model\\assets\n",
      "62/62 [==============================] - 23s 375ms/step - loss: 0.0176 - root_mean_squared_error: 0.1328 - val_loss: 0.0177 - val_root_mean_squared_error: 0.1332\n",
      "Epoch 28/55\n",
      "62/62 [==============================] - ETA: 0s - loss: 0.0174 - root_mean_squared_error: 0.1320INFO:tensorflow:Assets written to: model\\assets\n",
      "62/62 [==============================] - 25s 396ms/step - loss: 0.0174 - root_mean_squared_error: 0.1320 - val_loss: 0.0176 - val_root_mean_squared_error: 0.1327\n",
      "Epoch 29/55\n",
      "62/62 [==============================] - ETA: 0s - loss: 0.0173 - root_mean_squared_error: 0.1314INFO:tensorflow:Assets written to: model\\assets\n",
      "62/62 [==============================] - 23s 366ms/step - loss: 0.0173 - root_mean_squared_error: 0.1314 - val_loss: 0.0175 - val_root_mean_squared_error: 0.1323\n",
      "Epoch 30/55\n",
      "62/62 [==============================] - ETA: 0s - loss: 0.0171 - root_mean_squared_error: 0.1309INFO:tensorflow:Assets written to: model\\assets\n",
      "62/62 [==============================] - 23s 378ms/step - loss: 0.0171 - root_mean_squared_error: 0.1309 - val_loss: 0.0174 - val_root_mean_squared_error: 0.1317\n",
      "Epoch 31/55\n",
      "62/62 [==============================] - ETA: 0s - loss: 0.0170 - root_mean_squared_error: 0.1303INFO:tensorflow:Assets written to: model\\assets\n",
      "62/62 [==============================] - 23s 372ms/step - loss: 0.0170 - root_mean_squared_error: 0.1303 - val_loss: 0.0172 - val_root_mean_squared_error: 0.1313\n",
      "Epoch 32/55\n",
      "62/62 [==============================] - ETA: 0s - loss: 0.0168 - root_mean_squared_error: 0.1298INFO:tensorflow:Assets written to: model\\assets\n",
      "62/62 [==============================] - 23s 376ms/step - loss: 0.0168 - root_mean_squared_error: 0.1298 - val_loss: 0.0171 - val_root_mean_squared_error: 0.1309\n",
      "Epoch 33/55\n",
      "62/62 [==============================] - ETA: 0s - loss: 0.0167 - root_mean_squared_error: 0.1293INFO:tensorflow:Assets written to: model\\assets\n",
      "62/62 [==============================] - 23s 371ms/step - loss: 0.0167 - root_mean_squared_error: 0.1293 - val_loss: 0.0170 - val_root_mean_squared_error: 0.1305\n",
      "Epoch 34/55\n",
      "62/62 [==============================] - ETA: 0s - loss: 0.0166 - root_mean_squared_error: 0.1288INFO:tensorflow:Assets written to: model\\assets\n",
      "62/62 [==============================] - 24s 380ms/step - loss: 0.0166 - root_mean_squared_error: 0.1288 - val_loss: 0.0169 - val_root_mean_squared_error: 0.1301\n",
      "Epoch 35/55\n",
      "62/62 [==============================] - ETA: 0s - loss: 0.0165 - root_mean_squared_error: 0.1283INFO:tensorflow:Assets written to: model\\assets\n",
      "62/62 [==============================] - 23s 374ms/step - loss: 0.0165 - root_mean_squared_error: 0.1283 - val_loss: 0.0168 - val_root_mean_squared_error: 0.1297\n",
      "Epoch 36/55\n",
      "62/62 [==============================] - ETA: 0s - loss: 0.0164 - root_mean_squared_error: 0.1279INFO:tensorflow:Assets written to: model\\assets\n",
      "62/62 [==============================] - 23s 378ms/step - loss: 0.0164 - root_mean_squared_error: 0.1279 - val_loss: 0.0168 - val_root_mean_squared_error: 0.1295\n",
      "Epoch 37/55\n",
      "62/62 [==============================] - ETA: 0s - loss: 0.0162 - root_mean_squared_error: 0.1275INFO:tensorflow:Assets written to: model\\assets\n",
      "62/62 [==============================] - 23s 370ms/step - loss: 0.0162 - root_mean_squared_error: 0.1275 - val_loss: 0.0167 - val_root_mean_squared_error: 0.1294\n",
      "Epoch 38/55\n",
      "62/62 [==============================] - ETA: 0s - loss: 0.0161 - root_mean_squared_error: 0.1271INFO:tensorflow:Assets written to: model\\assets\n",
      "62/62 [==============================] - 23s 376ms/step - loss: 0.0161 - root_mean_squared_error: 0.1271 - val_loss: 0.0166 - val_root_mean_squared_error: 0.1290\n",
      "Epoch 39/55\n",
      "62/62 [==============================] - ETA: 0s - loss: 0.0160 - root_mean_squared_error: 0.1266INFO:tensorflow:Assets written to: model\\assets\n",
      "62/62 [==============================] - 23s 377ms/step - loss: 0.0160 - root_mean_squared_error: 0.1266 - val_loss: 0.0165 - val_root_mean_squared_error: 0.1286\n",
      "Epoch 40/55\n",
      "62/62 [==============================] - ETA: 0s - loss: 0.0159 - root_mean_squared_error: 0.1262INFO:tensorflow:Assets written to: model\\assets\n",
      "62/62 [==============================] - 23s 374ms/step - loss: 0.0159 - root_mean_squared_error: 0.1262 - val_loss: 0.0164 - val_root_mean_squared_error: 0.1282\n",
      "Epoch 41/55\n",
      "62/62 [==============================] - ETA: 0s - loss: 0.0158 - root_mean_squared_error: 0.1258INFO:tensorflow:Assets written to: model\\assets\n",
      "62/62 [==============================] - 23s 370ms/step - loss: 0.0158 - root_mean_squared_error: 0.1258 - val_loss: 0.0164 - val_root_mean_squared_error: 0.1279\n",
      "Epoch 42/55\n",
      "62/62 [==============================] - ETA: 0s - loss: 0.0157 - root_mean_squared_error: 0.1254INFO:tensorflow:Assets written to: model\\assets\n",
      "62/62 [==============================] - 23s 376ms/step - loss: 0.0157 - root_mean_squared_error: 0.1254 - val_loss: 0.0163 - val_root_mean_squared_error: 0.1278\n",
      "Epoch 43/55\n",
      "62/62 [==============================] - ETA: 0s - loss: 0.0156 - root_mean_squared_error: 0.1249INFO:tensorflow:Assets written to: model\\assets\n",
      "62/62 [==============================] - 24s 380ms/step - loss: 0.0156 - root_mean_squared_error: 0.1249 - val_loss: 0.0163 - val_root_mean_squared_error: 0.1277\n",
      "Epoch 44/55\n",
      "62/62 [==============================] - ETA: 0s - loss: 0.0155 - root_mean_squared_error: 0.1245INFO:tensorflow:Assets written to: model\\assets\n",
      "62/62 [==============================] - 23s 368ms/step - loss: 0.0155 - root_mean_squared_error: 0.1245 - val_loss: 0.0163 - val_root_mean_squared_error: 0.1275\n",
      "Epoch 45/55\n",
      "62/62 [==============================] - ETA: 0s - loss: 0.0154 - root_mean_squared_error: 0.1242INFO:tensorflow:Assets written to: model\\assets\n",
      "62/62 [==============================] - 23s 375ms/step - loss: 0.0154 - root_mean_squared_error: 0.1242 - val_loss: 0.0161 - val_root_mean_squared_error: 0.1271\n",
      "Epoch 46/55\n",
      "62/62 [==============================] - ETA: 0s - loss: 0.0153 - root_mean_squared_error: 0.1238INFO:tensorflow:Assets written to: model\\assets\n",
      "62/62 [==============================] - 23s 374ms/step - loss: 0.0153 - root_mean_squared_error: 0.1238 - val_loss: 0.0160 - val_root_mean_squared_error: 0.1267\n",
      "Epoch 47/55\n",
      "62/62 [==============================] - ETA: 0s - loss: 0.0152 - root_mean_squared_error: 0.1235INFO:tensorflow:Assets written to: model\\assets\n",
      "62/62 [==============================] - 23s 374ms/step - loss: 0.0152 - root_mean_squared_error: 0.1235 - val_loss: 0.0159 - val_root_mean_squared_error: 0.1261\n",
      "Epoch 48/55\n",
      "62/62 [==============================] - ETA: 0s - loss: 0.0152 - root_mean_squared_error: 0.1231INFO:tensorflow:Assets written to: model\\assets\n",
      "62/62 [==============================] - 23s 375ms/step - loss: 0.0152 - root_mean_squared_error: 0.1231 - val_loss: 0.0158 - val_root_mean_squared_error: 0.1256\n",
      "Epoch 49/55\n",
      "62/62 [==============================] - ETA: 0s - loss: 0.0151 - root_mean_squared_error: 0.1229INFO:tensorflow:Assets written to: model\\assets\n",
      "62/62 [==============================] - 25s 408ms/step - loss: 0.0151 - root_mean_squared_error: 0.1229 - val_loss: 0.0157 - val_root_mean_squared_error: 0.1252\n",
      "Epoch 50/55\n",
      "62/62 [==============================] - ETA: 0s - loss: 0.0150 - root_mean_squared_error: 0.1226INFO:tensorflow:Assets written to: model\\assets\n",
      "62/62 [==============================] - 23s 378ms/step - loss: 0.0150 - root_mean_squared_error: 0.1226 - val_loss: 0.0156 - val_root_mean_squared_error: 0.1249\n",
      "Epoch 51/55\n",
      "62/62 [==============================] - ETA: 0s - loss: 0.0150 - root_mean_squared_error: 0.1224INFO:tensorflow:Assets written to: model\\assets\n",
      "62/62 [==============================] - 23s 366ms/step - loss: 0.0150 - root_mean_squared_error: 0.1224 - val_loss: 0.0155 - val_root_mean_squared_error: 0.1244\n",
      "Epoch 52/55\n",
      "62/62 [==============================] - ETA: 0s - loss: 0.0149 - root_mean_squared_error: 0.1221INFO:tensorflow:Assets written to: model\\assets\n",
      "62/62 [==============================] - 23s 367ms/step - loss: 0.0149 - root_mean_squared_error: 0.1221 - val_loss: 0.0154 - val_root_mean_squared_error: 0.1240\n"
     ]
    },
    {
     "name": "stdout",
     "output_type": "stream",
     "text": [
      "Epoch 53/55\n",
      "62/62 [==============================] - ETA: 0s - loss: 0.0148 - root_mean_squared_error: 0.1219INFO:tensorflow:Assets written to: model\\assets\n",
      "62/62 [==============================] - 23s 365ms/step - loss: 0.0148 - root_mean_squared_error: 0.1219 - val_loss: 0.0153 - val_root_mean_squared_error: 0.1235\n",
      "Epoch 54/55\n",
      "62/62 [==============================] - ETA: 0s - loss: 0.0148 - root_mean_squared_error: 0.1216INFO:tensorflow:Assets written to: model\\assets\n",
      "62/62 [==============================] - 24s 389ms/step - loss: 0.0148 - root_mean_squared_error: 0.1216 - val_loss: 0.0152 - val_root_mean_squared_error: 0.1232\n",
      "Epoch 55/55\n",
      "62/62 [==============================] - ETA: 0s - loss: 0.0147 - root_mean_squared_error: 0.1214INFO:tensorflow:Assets written to: model\\assets\n",
      "62/62 [==============================] - 25s 398ms/step - loss: 0.0147 - root_mean_squared_error: 0.1214 - val_loss: 0.0151 - val_root_mean_squared_error: 0.1229\n"
     ]
    }
   ],
   "source": [
    "history  = model.fit(X_train,y_train, validation_data=(X_test, y_test),batch_size=25,shuffle=False,epochs=55, callbacks=[cp])"
   ]
  },
  {
   "cell_type": "code",
   "execution_count": 25,
   "id": "b7c939d9",
   "metadata": {},
   "outputs": [
    {
     "data": {
      "application/vnd.plotly.v1+json": {
       "config": {
        "plotlyServerURL": "https://plot.ly"
       },
       "data": [
        {
         "name": "val_loss",
         "type": "scatter",
         "xaxis": "x",
         "y": [
          0.16896353662014008,
          0.07668637484312057,
          0.04103054478764534,
          0.03027452901005745,
          0.02814057655632496,
          0.027095278725028038,
          0.02636163868010044,
          0.025759605690836906,
          0.02520817145705223,
          0.024754660204052925,
          0.024354256689548492,
          0.023879891261458397,
          0.02344471774995327,
          0.022982466965913773,
          0.022458791732788086,
          0.021856512874364853,
          0.02122541144490242,
          0.020953577011823654,
          0.020154455676674843,
          0.01981988176703453,
          0.019161274656653404,
          0.018743207678198814,
          0.01846730336546898,
          0.01820220611989498,
          0.018024010583758354,
          0.017905183136463165,
          0.017741845920681953,
          0.017618536949157715,
          0.01751251518726349,
          0.017352646216750145,
          0.01723151095211506,
          0.01713315211236477,
          0.017025021836161613,
          0.016921278089284897,
          0.016819706186652184,
          0.016761478036642075,
          0.016734495759010315,
          0.01663030870258808,
          0.0165305957198143,
          0.016435259953141212,
          0.01636713743209839,
          0.016332091763615608,
          0.016309093683958054,
          0.016252556815743446,
          0.01614329405128956,
          0.01604810729622841,
          0.015902427956461906,
          0.015770619735121727,
          0.01568423956632614,
          0.015601320192217827,
          0.015472615137696266,
          0.015368254855275154,
          0.015261220745742321,
          0.01516649965196848,
          0.015092458575963974
         ],
         "yaxis": "y"
        },
        {
         "name": "loss",
         "type": "scatter",
         "xaxis": "x",
         "y": [
          0.17778998613357544,
          0.12210030108690262,
          0.056930676102638245,
          0.03540418669581413,
          0.03005681000649929,
          0.028438130393624306,
          0.02750551886856556,
          0.02681618370115757,
          0.026235306635499,
          0.02575124055147171,
          0.025350376963615417,
          0.02496914006769657,
          0.024562103673815727,
          0.024152694270014763,
          0.023696428164839745,
          0.023144925013184547,
          0.022422008216381073,
          0.021443752571940422,
          0.020489735528826714,
          0.019962752237915993,
          0.019481556490063667,
          0.018976643681526184,
          0.018615955486893654,
          0.018339483067393303,
          0.018056010827422142,
          0.017825914546847343,
          0.017622867599129677,
          0.017435958608984947,
          0.017268378287553787,
          0.017125308513641357,
          0.016975004225969315,
          0.016839606687426567,
          0.016711676493287086,
          0.016589684411883354,
          0.016471674665808678,
          0.016352612525224686,
          0.016247404739260674,
          0.01614651270210743,
          0.016038604080677032,
          0.015930628404021263,
          0.01581796444952488,
          0.015714531764388084,
          0.015610636211931705,
          0.015510644763708115,
          0.015415807254612446,
          0.015326264314353466,
          0.015244751237332821,
          0.015163160860538483,
          0.015092458575963974,
          0.01502970326691866,
          0.014971355907619,
          0.014905889518558979,
          0.014848948456346989,
          0.014788665808737278,
          0.014734831638634205
         ],
         "yaxis": "y"
        }
       ],
       "layout": {
        "template": {
         "data": {
          "bar": [
           {
            "error_x": {
             "color": "#2a3f5f"
            },
            "error_y": {
             "color": "#2a3f5f"
            },
            "marker": {
             "line": {
              "color": "#E5ECF6",
              "width": 0.5
             },
             "pattern": {
              "fillmode": "overlay",
              "size": 10,
              "solidity": 0.2
             }
            },
            "type": "bar"
           }
          ],
          "barpolar": [
           {
            "marker": {
             "line": {
              "color": "#E5ECF6",
              "width": 0.5
             },
             "pattern": {
              "fillmode": "overlay",
              "size": 10,
              "solidity": 0.2
             }
            },
            "type": "barpolar"
           }
          ],
          "carpet": [
           {
            "aaxis": {
             "endlinecolor": "#2a3f5f",
             "gridcolor": "white",
             "linecolor": "white",
             "minorgridcolor": "white",
             "startlinecolor": "#2a3f5f"
            },
            "baxis": {
             "endlinecolor": "#2a3f5f",
             "gridcolor": "white",
             "linecolor": "white",
             "minorgridcolor": "white",
             "startlinecolor": "#2a3f5f"
            },
            "type": "carpet"
           }
          ],
          "choropleth": [
           {
            "colorbar": {
             "outlinewidth": 0,
             "ticks": ""
            },
            "type": "choropleth"
           }
          ],
          "contour": [
           {
            "colorbar": {
             "outlinewidth": 0,
             "ticks": ""
            },
            "colorscale": [
             [
              0,
              "#0d0887"
             ],
             [
              0.1111111111111111,
              "#46039f"
             ],
             [
              0.2222222222222222,
              "#7201a8"
             ],
             [
              0.3333333333333333,
              "#9c179e"
             ],
             [
              0.4444444444444444,
              "#bd3786"
             ],
             [
              0.5555555555555556,
              "#d8576b"
             ],
             [
              0.6666666666666666,
              "#ed7953"
             ],
             [
              0.7777777777777778,
              "#fb9f3a"
             ],
             [
              0.8888888888888888,
              "#fdca26"
             ],
             [
              1,
              "#f0f921"
             ]
            ],
            "type": "contour"
           }
          ],
          "contourcarpet": [
           {
            "colorbar": {
             "outlinewidth": 0,
             "ticks": ""
            },
            "type": "contourcarpet"
           }
          ],
          "heatmap": [
           {
            "colorbar": {
             "outlinewidth": 0,
             "ticks": ""
            },
            "colorscale": [
             [
              0,
              "#0d0887"
             ],
             [
              0.1111111111111111,
              "#46039f"
             ],
             [
              0.2222222222222222,
              "#7201a8"
             ],
             [
              0.3333333333333333,
              "#9c179e"
             ],
             [
              0.4444444444444444,
              "#bd3786"
             ],
             [
              0.5555555555555556,
              "#d8576b"
             ],
             [
              0.6666666666666666,
              "#ed7953"
             ],
             [
              0.7777777777777778,
              "#fb9f3a"
             ],
             [
              0.8888888888888888,
              "#fdca26"
             ],
             [
              1,
              "#f0f921"
             ]
            ],
            "type": "heatmap"
           }
          ],
          "heatmapgl": [
           {
            "colorbar": {
             "outlinewidth": 0,
             "ticks": ""
            },
            "colorscale": [
             [
              0,
              "#0d0887"
             ],
             [
              0.1111111111111111,
              "#46039f"
             ],
             [
              0.2222222222222222,
              "#7201a8"
             ],
             [
              0.3333333333333333,
              "#9c179e"
             ],
             [
              0.4444444444444444,
              "#bd3786"
             ],
             [
              0.5555555555555556,
              "#d8576b"
             ],
             [
              0.6666666666666666,
              "#ed7953"
             ],
             [
              0.7777777777777778,
              "#fb9f3a"
             ],
             [
              0.8888888888888888,
              "#fdca26"
             ],
             [
              1,
              "#f0f921"
             ]
            ],
            "type": "heatmapgl"
           }
          ],
          "histogram": [
           {
            "marker": {
             "pattern": {
              "fillmode": "overlay",
              "size": 10,
              "solidity": 0.2
             }
            },
            "type": "histogram"
           }
          ],
          "histogram2d": [
           {
            "colorbar": {
             "outlinewidth": 0,
             "ticks": ""
            },
            "colorscale": [
             [
              0,
              "#0d0887"
             ],
             [
              0.1111111111111111,
              "#46039f"
             ],
             [
              0.2222222222222222,
              "#7201a8"
             ],
             [
              0.3333333333333333,
              "#9c179e"
             ],
             [
              0.4444444444444444,
              "#bd3786"
             ],
             [
              0.5555555555555556,
              "#d8576b"
             ],
             [
              0.6666666666666666,
              "#ed7953"
             ],
             [
              0.7777777777777778,
              "#fb9f3a"
             ],
             [
              0.8888888888888888,
              "#fdca26"
             ],
             [
              1,
              "#f0f921"
             ]
            ],
            "type": "histogram2d"
           }
          ],
          "histogram2dcontour": [
           {
            "colorbar": {
             "outlinewidth": 0,
             "ticks": ""
            },
            "colorscale": [
             [
              0,
              "#0d0887"
             ],
             [
              0.1111111111111111,
              "#46039f"
             ],
             [
              0.2222222222222222,
              "#7201a8"
             ],
             [
              0.3333333333333333,
              "#9c179e"
             ],
             [
              0.4444444444444444,
              "#bd3786"
             ],
             [
              0.5555555555555556,
              "#d8576b"
             ],
             [
              0.6666666666666666,
              "#ed7953"
             ],
             [
              0.7777777777777778,
              "#fb9f3a"
             ],
             [
              0.8888888888888888,
              "#fdca26"
             ],
             [
              1,
              "#f0f921"
             ]
            ],
            "type": "histogram2dcontour"
           }
          ],
          "mesh3d": [
           {
            "colorbar": {
             "outlinewidth": 0,
             "ticks": ""
            },
            "type": "mesh3d"
           }
          ],
          "parcoords": [
           {
            "line": {
             "colorbar": {
              "outlinewidth": 0,
              "ticks": ""
             }
            },
            "type": "parcoords"
           }
          ],
          "pie": [
           {
            "automargin": true,
            "type": "pie"
           }
          ],
          "scatter": [
           {
            "fillpattern": {
             "fillmode": "overlay",
             "size": 10,
             "solidity": 0.2
            },
            "type": "scatter"
           }
          ],
          "scatter3d": [
           {
            "line": {
             "colorbar": {
              "outlinewidth": 0,
              "ticks": ""
             }
            },
            "marker": {
             "colorbar": {
              "outlinewidth": 0,
              "ticks": ""
             }
            },
            "type": "scatter3d"
           }
          ],
          "scattercarpet": [
           {
            "marker": {
             "colorbar": {
              "outlinewidth": 0,
              "ticks": ""
             }
            },
            "type": "scattercarpet"
           }
          ],
          "scattergeo": [
           {
            "marker": {
             "colorbar": {
              "outlinewidth": 0,
              "ticks": ""
             }
            },
            "type": "scattergeo"
           }
          ],
          "scattergl": [
           {
            "marker": {
             "colorbar": {
              "outlinewidth": 0,
              "ticks": ""
             }
            },
            "type": "scattergl"
           }
          ],
          "scattermapbox": [
           {
            "marker": {
             "colorbar": {
              "outlinewidth": 0,
              "ticks": ""
             }
            },
            "type": "scattermapbox"
           }
          ],
          "scatterpolar": [
           {
            "marker": {
             "colorbar": {
              "outlinewidth": 0,
              "ticks": ""
             }
            },
            "type": "scatterpolar"
           }
          ],
          "scatterpolargl": [
           {
            "marker": {
             "colorbar": {
              "outlinewidth": 0,
              "ticks": ""
             }
            },
            "type": "scatterpolargl"
           }
          ],
          "scatterternary": [
           {
            "marker": {
             "colorbar": {
              "outlinewidth": 0,
              "ticks": ""
             }
            },
            "type": "scatterternary"
           }
          ],
          "surface": [
           {
            "colorbar": {
             "outlinewidth": 0,
             "ticks": ""
            },
            "colorscale": [
             [
              0,
              "#0d0887"
             ],
             [
              0.1111111111111111,
              "#46039f"
             ],
             [
              0.2222222222222222,
              "#7201a8"
             ],
             [
              0.3333333333333333,
              "#9c179e"
             ],
             [
              0.4444444444444444,
              "#bd3786"
             ],
             [
              0.5555555555555556,
              "#d8576b"
             ],
             [
              0.6666666666666666,
              "#ed7953"
             ],
             [
              0.7777777777777778,
              "#fb9f3a"
             ],
             [
              0.8888888888888888,
              "#fdca26"
             ],
             [
              1,
              "#f0f921"
             ]
            ],
            "type": "surface"
           }
          ],
          "table": [
           {
            "cells": {
             "fill": {
              "color": "#EBF0F8"
             },
             "line": {
              "color": "white"
             }
            },
            "header": {
             "fill": {
              "color": "#C8D4E3"
             },
             "line": {
              "color": "white"
             }
            },
            "type": "table"
           }
          ]
         },
         "layout": {
          "annotationdefaults": {
           "arrowcolor": "#2a3f5f",
           "arrowhead": 0,
           "arrowwidth": 1
          },
          "autotypenumbers": "strict",
          "coloraxis": {
           "colorbar": {
            "outlinewidth": 0,
            "ticks": ""
           }
          },
          "colorscale": {
           "diverging": [
            [
             0,
             "#8e0152"
            ],
            [
             0.1,
             "#c51b7d"
            ],
            [
             0.2,
             "#de77ae"
            ],
            [
             0.3,
             "#f1b6da"
            ],
            [
             0.4,
             "#fde0ef"
            ],
            [
             0.5,
             "#f7f7f7"
            ],
            [
             0.6,
             "#e6f5d0"
            ],
            [
             0.7,
             "#b8e186"
            ],
            [
             0.8,
             "#7fbc41"
            ],
            [
             0.9,
             "#4d9221"
            ],
            [
             1,
             "#276419"
            ]
           ],
           "sequential": [
            [
             0,
             "#0d0887"
            ],
            [
             0.1111111111111111,
             "#46039f"
            ],
            [
             0.2222222222222222,
             "#7201a8"
            ],
            [
             0.3333333333333333,
             "#9c179e"
            ],
            [
             0.4444444444444444,
             "#bd3786"
            ],
            [
             0.5555555555555556,
             "#d8576b"
            ],
            [
             0.6666666666666666,
             "#ed7953"
            ],
            [
             0.7777777777777778,
             "#fb9f3a"
            ],
            [
             0.8888888888888888,
             "#fdca26"
            ],
            [
             1,
             "#f0f921"
            ]
           ],
           "sequentialminus": [
            [
             0,
             "#0d0887"
            ],
            [
             0.1111111111111111,
             "#46039f"
            ],
            [
             0.2222222222222222,
             "#7201a8"
            ],
            [
             0.3333333333333333,
             "#9c179e"
            ],
            [
             0.4444444444444444,
             "#bd3786"
            ],
            [
             0.5555555555555556,
             "#d8576b"
            ],
            [
             0.6666666666666666,
             "#ed7953"
            ],
            [
             0.7777777777777778,
             "#fb9f3a"
            ],
            [
             0.8888888888888888,
             "#fdca26"
            ],
            [
             1,
             "#f0f921"
            ]
           ]
          },
          "colorway": [
           "#636efa",
           "#EF553B",
           "#00cc96",
           "#ab63fa",
           "#FFA15A",
           "#19d3f3",
           "#FF6692",
           "#B6E880",
           "#FF97FF",
           "#FECB52"
          ],
          "font": {
           "color": "#2a3f5f"
          },
          "geo": {
           "bgcolor": "white",
           "lakecolor": "white",
           "landcolor": "#E5ECF6",
           "showlakes": true,
           "showland": true,
           "subunitcolor": "white"
          },
          "hoverlabel": {
           "align": "left"
          },
          "hovermode": "closest",
          "mapbox": {
           "style": "light"
          },
          "paper_bgcolor": "white",
          "plot_bgcolor": "#E5ECF6",
          "polar": {
           "angularaxis": {
            "gridcolor": "white",
            "linecolor": "white",
            "ticks": ""
           },
           "bgcolor": "#E5ECF6",
           "radialaxis": {
            "gridcolor": "white",
            "linecolor": "white",
            "ticks": ""
           }
          },
          "scene": {
           "xaxis": {
            "backgroundcolor": "#E5ECF6",
            "gridcolor": "white",
            "gridwidth": 2,
            "linecolor": "white",
            "showbackground": true,
            "ticks": "",
            "zerolinecolor": "white"
           },
           "yaxis": {
            "backgroundcolor": "#E5ECF6",
            "gridcolor": "white",
            "gridwidth": 2,
            "linecolor": "white",
            "showbackground": true,
            "ticks": "",
            "zerolinecolor": "white"
           },
           "zaxis": {
            "backgroundcolor": "#E5ECF6",
            "gridcolor": "white",
            "gridwidth": 2,
            "linecolor": "white",
            "showbackground": true,
            "ticks": "",
            "zerolinecolor": "white"
           }
          },
          "shapedefaults": {
           "line": {
            "color": "#2a3f5f"
           }
          },
          "ternary": {
           "aaxis": {
            "gridcolor": "white",
            "linecolor": "white",
            "ticks": ""
           },
           "baxis": {
            "gridcolor": "white",
            "linecolor": "white",
            "ticks": ""
           },
           "bgcolor": "#E5ECF6",
           "caxis": {
            "gridcolor": "white",
            "linecolor": "white",
            "ticks": ""
           }
          },
          "title": {
           "x": 0.05
          },
          "xaxis": {
           "automargin": true,
           "gridcolor": "white",
           "linecolor": "white",
           "ticks": "",
           "title": {
            "standoff": 15
           },
           "zerolinecolor": "white",
           "zerolinewidth": 2
          },
          "yaxis": {
           "automargin": true,
           "gridcolor": "white",
           "linecolor": "white",
           "ticks": "",
           "title": {
            "standoff": 15
           },
           "zerolinecolor": "white",
           "zerolinewidth": 2
          }
         }
        },
        "xaxis": {
         "anchor": "y",
         "domain": [
          0,
          1
         ],
         "title": {
          "text": "Epoch"
         }
        },
        "yaxis": {
         "anchor": "x",
         "domain": [
          0,
          1
         ],
         "title": {
          "text": "Loss"
         }
        }
       }
      },
      "text/html": [
       "<div>                            <div id=\"fc4c2eed-cafe-4e5d-a9c1-ddb65e269917\" class=\"plotly-graph-div\" style=\"height:525px; width:100%;\"></div>            <script type=\"text/javascript\">                require([\"plotly\"], function(Plotly) {                    window.PLOTLYENV=window.PLOTLYENV || {};                                    if (document.getElementById(\"fc4c2eed-cafe-4e5d-a9c1-ddb65e269917\")) {                    Plotly.newPlot(                        \"fc4c2eed-cafe-4e5d-a9c1-ddb65e269917\",                        [{\"name\":\"val_loss\",\"y\":[0.16896353662014008,0.07668637484312057,0.04103054478764534,0.03027452901005745,0.02814057655632496,0.027095278725028038,0.02636163868010044,0.025759605690836906,0.02520817145705223,0.024754660204052925,0.024354256689548492,0.023879891261458397,0.02344471774995327,0.022982466965913773,0.022458791732788086,0.021856512874364853,0.02122541144490242,0.020953577011823654,0.020154455676674843,0.01981988176703453,0.019161274656653404,0.018743207678198814,0.01846730336546898,0.01820220611989498,0.018024010583758354,0.017905183136463165,0.017741845920681953,0.017618536949157715,0.01751251518726349,0.017352646216750145,0.01723151095211506,0.01713315211236477,0.017025021836161613,0.016921278089284897,0.016819706186652184,0.016761478036642075,0.016734495759010315,0.01663030870258808,0.0165305957198143,0.016435259953141212,0.01636713743209839,0.016332091763615608,0.016309093683958054,0.016252556815743446,0.01614329405128956,0.01604810729622841,0.015902427956461906,0.015770619735121727,0.01568423956632614,0.015601320192217827,0.015472615137696266,0.015368254855275154,0.015261220745742321,0.01516649965196848,0.015092458575963974],\"type\":\"scatter\",\"xaxis\":\"x\",\"yaxis\":\"y\"},{\"name\":\"loss\",\"y\":[0.17778998613357544,0.12210030108690262,0.056930676102638245,0.03540418669581413,0.03005681000649929,0.028438130393624306,0.02750551886856556,0.02681618370115757,0.026235306635499,0.02575124055147171,0.025350376963615417,0.02496914006769657,0.024562103673815727,0.024152694270014763,0.023696428164839745,0.023144925013184547,0.022422008216381073,0.021443752571940422,0.020489735528826714,0.019962752237915993,0.019481556490063667,0.018976643681526184,0.018615955486893654,0.018339483067393303,0.018056010827422142,0.017825914546847343,0.017622867599129677,0.017435958608984947,0.017268378287553787,0.017125308513641357,0.016975004225969315,0.016839606687426567,0.016711676493287086,0.016589684411883354,0.016471674665808678,0.016352612525224686,0.016247404739260674,0.01614651270210743,0.016038604080677032,0.015930628404021263,0.01581796444952488,0.015714531764388084,0.015610636211931705,0.015510644763708115,0.015415807254612446,0.015326264314353466,0.015244751237332821,0.015163160860538483,0.015092458575963974,0.01502970326691866,0.014971355907619,0.014905889518558979,0.014848948456346989,0.014788665808737278,0.014734831638634205],\"type\":\"scatter\",\"xaxis\":\"x\",\"yaxis\":\"y\"}],                        {\"template\":{\"data\":{\"histogram2dcontour\":[{\"type\":\"histogram2dcontour\",\"colorbar\":{\"outlinewidth\":0,\"ticks\":\"\"},\"colorscale\":[[0.0,\"#0d0887\"],[0.1111111111111111,\"#46039f\"],[0.2222222222222222,\"#7201a8\"],[0.3333333333333333,\"#9c179e\"],[0.4444444444444444,\"#bd3786\"],[0.5555555555555556,\"#d8576b\"],[0.6666666666666666,\"#ed7953\"],[0.7777777777777778,\"#fb9f3a\"],[0.8888888888888888,\"#fdca26\"],[1.0,\"#f0f921\"]]}],\"choropleth\":[{\"type\":\"choropleth\",\"colorbar\":{\"outlinewidth\":0,\"ticks\":\"\"}}],\"histogram2d\":[{\"type\":\"histogram2d\",\"colorbar\":{\"outlinewidth\":0,\"ticks\":\"\"},\"colorscale\":[[0.0,\"#0d0887\"],[0.1111111111111111,\"#46039f\"],[0.2222222222222222,\"#7201a8\"],[0.3333333333333333,\"#9c179e\"],[0.4444444444444444,\"#bd3786\"],[0.5555555555555556,\"#d8576b\"],[0.6666666666666666,\"#ed7953\"],[0.7777777777777778,\"#fb9f3a\"],[0.8888888888888888,\"#fdca26\"],[1.0,\"#f0f921\"]]}],\"heatmap\":[{\"type\":\"heatmap\",\"colorbar\":{\"outlinewidth\":0,\"ticks\":\"\"},\"colorscale\":[[0.0,\"#0d0887\"],[0.1111111111111111,\"#46039f\"],[0.2222222222222222,\"#7201a8\"],[0.3333333333333333,\"#9c179e\"],[0.4444444444444444,\"#bd3786\"],[0.5555555555555556,\"#d8576b\"],[0.6666666666666666,\"#ed7953\"],[0.7777777777777778,\"#fb9f3a\"],[0.8888888888888888,\"#fdca26\"],[1.0,\"#f0f921\"]]}],\"heatmapgl\":[{\"type\":\"heatmapgl\",\"colorbar\":{\"outlinewidth\":0,\"ticks\":\"\"},\"colorscale\":[[0.0,\"#0d0887\"],[0.1111111111111111,\"#46039f\"],[0.2222222222222222,\"#7201a8\"],[0.3333333333333333,\"#9c179e\"],[0.4444444444444444,\"#bd3786\"],[0.5555555555555556,\"#d8576b\"],[0.6666666666666666,\"#ed7953\"],[0.7777777777777778,\"#fb9f3a\"],[0.8888888888888888,\"#fdca26\"],[1.0,\"#f0f921\"]]}],\"contourcarpet\":[{\"type\":\"contourcarpet\",\"colorbar\":{\"outlinewidth\":0,\"ticks\":\"\"}}],\"contour\":[{\"type\":\"contour\",\"colorbar\":{\"outlinewidth\":0,\"ticks\":\"\"},\"colorscale\":[[0.0,\"#0d0887\"],[0.1111111111111111,\"#46039f\"],[0.2222222222222222,\"#7201a8\"],[0.3333333333333333,\"#9c179e\"],[0.4444444444444444,\"#bd3786\"],[0.5555555555555556,\"#d8576b\"],[0.6666666666666666,\"#ed7953\"],[0.7777777777777778,\"#fb9f3a\"],[0.8888888888888888,\"#fdca26\"],[1.0,\"#f0f921\"]]}],\"surface\":[{\"type\":\"surface\",\"colorbar\":{\"outlinewidth\":0,\"ticks\":\"\"},\"colorscale\":[[0.0,\"#0d0887\"],[0.1111111111111111,\"#46039f\"],[0.2222222222222222,\"#7201a8\"],[0.3333333333333333,\"#9c179e\"],[0.4444444444444444,\"#bd3786\"],[0.5555555555555556,\"#d8576b\"],[0.6666666666666666,\"#ed7953\"],[0.7777777777777778,\"#fb9f3a\"],[0.8888888888888888,\"#fdca26\"],[1.0,\"#f0f921\"]]}],\"mesh3d\":[{\"type\":\"mesh3d\",\"colorbar\":{\"outlinewidth\":0,\"ticks\":\"\"}}],\"scatter\":[{\"fillpattern\":{\"fillmode\":\"overlay\",\"size\":10,\"solidity\":0.2},\"type\":\"scatter\"}],\"parcoords\":[{\"type\":\"parcoords\",\"line\":{\"colorbar\":{\"outlinewidth\":0,\"ticks\":\"\"}}}],\"scatterpolargl\":[{\"type\":\"scatterpolargl\",\"marker\":{\"colorbar\":{\"outlinewidth\":0,\"ticks\":\"\"}}}],\"bar\":[{\"error_x\":{\"color\":\"#2a3f5f\"},\"error_y\":{\"color\":\"#2a3f5f\"},\"marker\":{\"line\":{\"color\":\"#E5ECF6\",\"width\":0.5},\"pattern\":{\"fillmode\":\"overlay\",\"size\":10,\"solidity\":0.2}},\"type\":\"bar\"}],\"scattergeo\":[{\"type\":\"scattergeo\",\"marker\":{\"colorbar\":{\"outlinewidth\":0,\"ticks\":\"\"}}}],\"scatterpolar\":[{\"type\":\"scatterpolar\",\"marker\":{\"colorbar\":{\"outlinewidth\":0,\"ticks\":\"\"}}}],\"histogram\":[{\"marker\":{\"pattern\":{\"fillmode\":\"overlay\",\"size\":10,\"solidity\":0.2}},\"type\":\"histogram\"}],\"scattergl\":[{\"type\":\"scattergl\",\"marker\":{\"colorbar\":{\"outlinewidth\":0,\"ticks\":\"\"}}}],\"scatter3d\":[{\"type\":\"scatter3d\",\"line\":{\"colorbar\":{\"outlinewidth\":0,\"ticks\":\"\"}},\"marker\":{\"colorbar\":{\"outlinewidth\":0,\"ticks\":\"\"}}}],\"scattermapbox\":[{\"type\":\"scattermapbox\",\"marker\":{\"colorbar\":{\"outlinewidth\":0,\"ticks\":\"\"}}}],\"scatterternary\":[{\"type\":\"scatterternary\",\"marker\":{\"colorbar\":{\"outlinewidth\":0,\"ticks\":\"\"}}}],\"scattercarpet\":[{\"type\":\"scattercarpet\",\"marker\":{\"colorbar\":{\"outlinewidth\":0,\"ticks\":\"\"}}}],\"carpet\":[{\"aaxis\":{\"endlinecolor\":\"#2a3f5f\",\"gridcolor\":\"white\",\"linecolor\":\"white\",\"minorgridcolor\":\"white\",\"startlinecolor\":\"#2a3f5f\"},\"baxis\":{\"endlinecolor\":\"#2a3f5f\",\"gridcolor\":\"white\",\"linecolor\":\"white\",\"minorgridcolor\":\"white\",\"startlinecolor\":\"#2a3f5f\"},\"type\":\"carpet\"}],\"table\":[{\"cells\":{\"fill\":{\"color\":\"#EBF0F8\"},\"line\":{\"color\":\"white\"}},\"header\":{\"fill\":{\"color\":\"#C8D4E3\"},\"line\":{\"color\":\"white\"}},\"type\":\"table\"}],\"barpolar\":[{\"marker\":{\"line\":{\"color\":\"#E5ECF6\",\"width\":0.5},\"pattern\":{\"fillmode\":\"overlay\",\"size\":10,\"solidity\":0.2}},\"type\":\"barpolar\"}],\"pie\":[{\"automargin\":true,\"type\":\"pie\"}]},\"layout\":{\"autotypenumbers\":\"strict\",\"colorway\":[\"#636efa\",\"#EF553B\",\"#00cc96\",\"#ab63fa\",\"#FFA15A\",\"#19d3f3\",\"#FF6692\",\"#B6E880\",\"#FF97FF\",\"#FECB52\"],\"font\":{\"color\":\"#2a3f5f\"},\"hovermode\":\"closest\",\"hoverlabel\":{\"align\":\"left\"},\"paper_bgcolor\":\"white\",\"plot_bgcolor\":\"#E5ECF6\",\"polar\":{\"bgcolor\":\"#E5ECF6\",\"angularaxis\":{\"gridcolor\":\"white\",\"linecolor\":\"white\",\"ticks\":\"\"},\"radialaxis\":{\"gridcolor\":\"white\",\"linecolor\":\"white\",\"ticks\":\"\"}},\"ternary\":{\"bgcolor\":\"#E5ECF6\",\"aaxis\":{\"gridcolor\":\"white\",\"linecolor\":\"white\",\"ticks\":\"\"},\"baxis\":{\"gridcolor\":\"white\",\"linecolor\":\"white\",\"ticks\":\"\"},\"caxis\":{\"gridcolor\":\"white\",\"linecolor\":\"white\",\"ticks\":\"\"}},\"coloraxis\":{\"colorbar\":{\"outlinewidth\":0,\"ticks\":\"\"}},\"colorscale\":{\"sequential\":[[0.0,\"#0d0887\"],[0.1111111111111111,\"#46039f\"],[0.2222222222222222,\"#7201a8\"],[0.3333333333333333,\"#9c179e\"],[0.4444444444444444,\"#bd3786\"],[0.5555555555555556,\"#d8576b\"],[0.6666666666666666,\"#ed7953\"],[0.7777777777777778,\"#fb9f3a\"],[0.8888888888888888,\"#fdca26\"],[1.0,\"#f0f921\"]],\"sequentialminus\":[[0.0,\"#0d0887\"],[0.1111111111111111,\"#46039f\"],[0.2222222222222222,\"#7201a8\"],[0.3333333333333333,\"#9c179e\"],[0.4444444444444444,\"#bd3786\"],[0.5555555555555556,\"#d8576b\"],[0.6666666666666666,\"#ed7953\"],[0.7777777777777778,\"#fb9f3a\"],[0.8888888888888888,\"#fdca26\"],[1.0,\"#f0f921\"]],\"diverging\":[[0,\"#8e0152\"],[0.1,\"#c51b7d\"],[0.2,\"#de77ae\"],[0.3,\"#f1b6da\"],[0.4,\"#fde0ef\"],[0.5,\"#f7f7f7\"],[0.6,\"#e6f5d0\"],[0.7,\"#b8e186\"],[0.8,\"#7fbc41\"],[0.9,\"#4d9221\"],[1,\"#276419\"]]},\"xaxis\":{\"gridcolor\":\"white\",\"linecolor\":\"white\",\"ticks\":\"\",\"title\":{\"standoff\":15},\"zerolinecolor\":\"white\",\"automargin\":true,\"zerolinewidth\":2},\"yaxis\":{\"gridcolor\":\"white\",\"linecolor\":\"white\",\"ticks\":\"\",\"title\":{\"standoff\":15},\"zerolinecolor\":\"white\",\"automargin\":true,\"zerolinewidth\":2},\"scene\":{\"xaxis\":{\"backgroundcolor\":\"#E5ECF6\",\"gridcolor\":\"white\",\"linecolor\":\"white\",\"showbackground\":true,\"ticks\":\"\",\"zerolinecolor\":\"white\",\"gridwidth\":2},\"yaxis\":{\"backgroundcolor\":\"#E5ECF6\",\"gridcolor\":\"white\",\"linecolor\":\"white\",\"showbackground\":true,\"ticks\":\"\",\"zerolinecolor\":\"white\",\"gridwidth\":2},\"zaxis\":{\"backgroundcolor\":\"#E5ECF6\",\"gridcolor\":\"white\",\"linecolor\":\"white\",\"showbackground\":true,\"ticks\":\"\",\"zerolinecolor\":\"white\",\"gridwidth\":2}},\"shapedefaults\":{\"line\":{\"color\":\"#2a3f5f\"}},\"annotationdefaults\":{\"arrowcolor\":\"#2a3f5f\",\"arrowhead\":0,\"arrowwidth\":1},\"geo\":{\"bgcolor\":\"white\",\"landcolor\":\"#E5ECF6\",\"subunitcolor\":\"white\",\"showland\":true,\"showlakes\":true,\"lakecolor\":\"white\"},\"title\":{\"x\":0.05},\"mapbox\":{\"style\":\"light\"}}},\"xaxis\":{\"anchor\":\"y\",\"domain\":[0.0,1.0],\"title\":{\"text\":\"Epoch\"}},\"yaxis\":{\"anchor\":\"x\",\"domain\":[0.0,1.0],\"title\":{\"text\":\"Loss\"}}},                        {\"responsive\": true}                    ).then(function(){\n",
       "                            \n",
       "var gd = document.getElementById('fc4c2eed-cafe-4e5d-a9c1-ddb65e269917');\n",
       "var x = new MutationObserver(function (mutations, observer) {{\n",
       "        var display = window.getComputedStyle(gd).display;\n",
       "        if (!display || display === 'none') {{\n",
       "            console.log([gd, 'removed!']);\n",
       "            Plotly.purge(gd);\n",
       "            observer.disconnect();\n",
       "        }}\n",
       "}});\n",
       "\n",
       "// Listen for the removal of the full notebook cells\n",
       "var notebookContainer = gd.closest('#notebook-container');\n",
       "if (notebookContainer) {{\n",
       "    x.observe(notebookContainer, {childList: true});\n",
       "}}\n",
       "\n",
       "// Listen for the clearing of the current output cell\n",
       "var outputEl = gd.closest('.output');\n",
       "if (outputEl) {{\n",
       "    x.observe(outputEl, {childList: true});\n",
       "}}\n",
       "\n",
       "                        })                };                });            </script>        </div>"
      ]
     },
     "metadata": {},
     "output_type": "display_data"
    }
   ],
   "source": [
    "import plotly.graph_objects as go\n",
    "from plotly.subplots import make_subplots\n",
    "fig = make_subplots()\n",
    "# Add traces\n",
    "fig.add_trace(\n",
    "    go.Scatter( y=history.history['val_loss'], name=\"val_loss\"),\n",
    "    secondary_y=False,)\n",
    "fig.add_trace(\n",
    "    go.Scatter( y=history.history['loss'], name=\"loss\"),\n",
    "    secondary_y=False,)\n",
    "# Set x-axis title\n",
    "fig.update_xaxes(title_text=\"Epoch\")\n",
    "# Set y-axis title\n",
    "fig.update_yaxes(title_text=\"Loss\")"
   ]
  },
  {
   "cell_type": "code",
   "execution_count": 11,
   "id": "d6875e47",
   "metadata": {},
   "outputs": [
    {
     "name": "stdout",
     "output_type": "stream",
     "text": [
      "WARNING:tensorflow:Layer lstm will not use cuDNN kernels since it doesn't meet the criteria. It will use a generic GPU kernel as fallback when running on GPU.\n",
      "WARNING:tensorflow:Layer lstm_1 will not use cuDNN kernels since it doesn't meet the criteria. It will use a generic GPU kernel as fallback when running on GPU.\n"
     ]
    }
   ],
   "source": [
    "from tensorflow.keras.models import load_model\n",
    "model = load_model('model/')"
   ]
  },
  {
   "cell_type": "code",
   "execution_count": 31,
   "id": "bc9ac5e0",
   "metadata": {},
   "outputs": [
    {
     "name": "stdout",
     "output_type": "stream",
     "text": [
      "13/13 [==============================] - 1s 43ms/step\n"
     ]
    }
   ],
   "source": [
    "y_pred = model.predict(X_test)\n"
   ]
  },
  {
   "cell_type": "code",
   "execution_count": 32,
   "id": "6f71bc9c",
   "metadata": {},
   "outputs": [
    {
     "data": {
      "text/plain": [
       "array([[0.48968512, 0.45769358, 0.4690565 , ..., 0.3790646 , 0.36007485,\n",
       "        0.3709895 ],\n",
       "       [0.2715493 , 0.28351295, 0.24590875, ..., 0.25154057, 0.22434202,\n",
       "        0.24590077],\n",
       "       [0.13215859, 0.12242521, 0.14670864, ..., 0.19554892, 0.19411351,\n",
       "        0.22524577],\n",
       "       ...,\n",
       "       [0.77274305, 0.72642   , 0.7404776 , ..., 0.6218023 , 0.6255355 ,\n",
       "        0.65248895],\n",
       "       [0.59572977, 0.60409176, 0.59991497, ..., 0.52098054, 0.5180478 ,\n",
       "        0.51062113],\n",
       "       [0.4848452 , 0.50447804, 0.5003765 , ..., 0.470565  , 0.46460423,\n",
       "        0.4461439 ]], dtype=float32)"
      ]
     },
     "execution_count": 32,
     "metadata": {},
     "output_type": "execute_result"
    }
   ],
   "source": [
    "y_pred"
   ]
  },
  {
   "cell_type": "code",
   "execution_count": 33,
   "id": "507cf75b",
   "metadata": {},
   "outputs": [],
   "source": [
    "# Calculate MAE and RMSE\n",
    "def evaluate_prediction(predictions, actual):\n",
    "    errors = predictions - actual\n",
    "    mse = np.square(errors).mean()\n",
    "    rmse = np.sqrt(mse)\n",
    "    mae = np.abs(errors).mean()\n",
    "    print('Mean Absolute Error: {:.2f}'.format(mae))\n",
    "    print('Root Mean Square Error: {:.2f}'.format(rmse))\n"
   ]
  },
  {
   "cell_type": "code",
   "execution_count": 34,
   "id": "bc7ef57a",
   "metadata": {},
   "outputs": [
    {
     "name": "stdout",
     "output_type": "stream",
     "text": [
      "Mean Absolute Error: 0.10\n",
      "Root Mean Square Error: 0.12\n"
     ]
    }
   ],
   "source": [
    "evaluate_prediction(y_pred, y_test)"
   ]
  },
  {
   "cell_type": "code",
   "execution_count": 12,
   "id": "94133ded",
   "metadata": {},
   "outputs": [],
   "source": [
    "# #save model inferences\n",
    "model.save('Delhi.h5')"
   ]
  },
  {
   "cell_type": "code",
   "execution_count": 13,
   "id": "e948bbb5",
   "metadata": {},
   "outputs": [],
   "source": [
    "data = pd.read_csv(r\"C:\\Users\\Acer\\Desktop\\Model_creation\\dataset\\test.csv\")\n",
    "data.index= pd.to_datetime(data['Date'])\n",
    "data = data.drop(['Date'],axis = 1)\n"
   ]
  },
  {
   "cell_type": "code",
   "execution_count": 14,
   "id": "f1e9f46b",
   "metadata": {},
   "outputs": [],
   "source": [
    "from sklearn import preprocessing\n",
    "Scaler = preprocessing.MinMaxScaler()\n",
    "for i in data.columns:\n",
    "    data[[i]] = Scaler.fit_transform(data[[i]])\n"
   ]
  },
  {
   "cell_type": "code",
   "execution_count": 15,
   "id": "3ecd584f",
   "metadata": {},
   "outputs": [
    {
     "data": {
      "text/plain": [
       "(1, 60, 7)"
      ]
     },
     "execution_count": 15,
     "metadata": {},
     "output_type": "execute_result"
    }
   ],
   "source": [
    "test = data.drop(['AQI'],axis = 1)\n",
    "test = test.to_numpy()\n",
    "test = test.reshape(1,test.shape[0],test.shape[1])\n",
    "test.shape"
   ]
  },
  {
   "cell_type": "code",
   "execution_count": 16,
   "id": "8bfd477b",
   "metadata": {},
   "outputs": [
    {
     "name": "stdout",
     "output_type": "stream",
     "text": [
      "1/1 [==============================] - 1s 729ms/step\n"
     ]
    }
   ],
   "source": [
    "y_pred = model.predict(test)\n",
    "y_pred_inv = Scaler.inverse_transform(y_pred)\n",
    "y_pred_inv = y_pred_inv.reshape(-1,1)"
   ]
  },
  {
   "cell_type": "code",
   "execution_count": 17,
   "id": "0d9133c2",
   "metadata": {},
   "outputs": [
    {
     "data": {
      "application/vnd.plotly.v1+json": {
       "config": {
        "plotlyServerURL": "https://plot.ly"
       },
       "data": [
        {
         "hovertemplate": "variable=0<br>index=%{x}<br>value=%{y}<extra></extra>",
         "legendgroup": "0",
         "line": {
          "color": "#636efa",
          "dash": "solid"
         },
         "marker": {
          "symbol": "circle"
         },
         "mode": "lines",
         "name": "0",
         "orientation": "v",
         "showlegend": true,
         "type": "scatter",
         "x": [
          0,
          1,
          2,
          3,
          4,
          5,
          6,
          7,
          8,
          9,
          10,
          11,
          12,
          13,
          14,
          15,
          16,
          17,
          18,
          19,
          20,
          21,
          22,
          23,
          24,
          25,
          26,
          27,
          28,
          29
         ],
         "xaxis": "x",
         "y": [
          122.33738708496094,
          130.28890991210938,
          133.78741455078125,
          130.4356231689453,
          133.98175048828125,
          138.43115234375,
          135.9780731201172,
          135.4498748779297,
          130.79043579101562,
          133.27061462402344,
          129.6622772216797,
          134.54739379882812,
          132.54092407226562,
          124.5710220336914,
          128.58154296875,
          121.53618621826172,
          129.505859375,
          137.18898010253906,
          129.98330688476562,
          136.29168701171875,
          125.29044342041016,
          132.36038208007812,
          129.6943359375,
          134.0901641845703,
          127.77484130859375,
          129.2442626953125,
          139.26991271972656,
          138.09646606445312,
          132.26318359375,
          134.70912170410156
         ],
         "yaxis": "y"
        }
       ],
       "layout": {
        "legend": {
         "title": {
          "text": "variable"
         },
         "tracegroupgap": 0
        },
        "template": {
         "data": {
          "bar": [
           {
            "error_x": {
             "color": "#2a3f5f"
            },
            "error_y": {
             "color": "#2a3f5f"
            },
            "marker": {
             "line": {
              "color": "#E5ECF6",
              "width": 0.5
             },
             "pattern": {
              "fillmode": "overlay",
              "size": 10,
              "solidity": 0.2
             }
            },
            "type": "bar"
           }
          ],
          "barpolar": [
           {
            "marker": {
             "line": {
              "color": "#E5ECF6",
              "width": 0.5
             },
             "pattern": {
              "fillmode": "overlay",
              "size": 10,
              "solidity": 0.2
             }
            },
            "type": "barpolar"
           }
          ],
          "carpet": [
           {
            "aaxis": {
             "endlinecolor": "#2a3f5f",
             "gridcolor": "white",
             "linecolor": "white",
             "minorgridcolor": "white",
             "startlinecolor": "#2a3f5f"
            },
            "baxis": {
             "endlinecolor": "#2a3f5f",
             "gridcolor": "white",
             "linecolor": "white",
             "minorgridcolor": "white",
             "startlinecolor": "#2a3f5f"
            },
            "type": "carpet"
           }
          ],
          "choropleth": [
           {
            "colorbar": {
             "outlinewidth": 0,
             "ticks": ""
            },
            "type": "choropleth"
           }
          ],
          "contour": [
           {
            "colorbar": {
             "outlinewidth": 0,
             "ticks": ""
            },
            "colorscale": [
             [
              0,
              "#0d0887"
             ],
             [
              0.1111111111111111,
              "#46039f"
             ],
             [
              0.2222222222222222,
              "#7201a8"
             ],
             [
              0.3333333333333333,
              "#9c179e"
             ],
             [
              0.4444444444444444,
              "#bd3786"
             ],
             [
              0.5555555555555556,
              "#d8576b"
             ],
             [
              0.6666666666666666,
              "#ed7953"
             ],
             [
              0.7777777777777778,
              "#fb9f3a"
             ],
             [
              0.8888888888888888,
              "#fdca26"
             ],
             [
              1,
              "#f0f921"
             ]
            ],
            "type": "contour"
           }
          ],
          "contourcarpet": [
           {
            "colorbar": {
             "outlinewidth": 0,
             "ticks": ""
            },
            "type": "contourcarpet"
           }
          ],
          "heatmap": [
           {
            "colorbar": {
             "outlinewidth": 0,
             "ticks": ""
            },
            "colorscale": [
             [
              0,
              "#0d0887"
             ],
             [
              0.1111111111111111,
              "#46039f"
             ],
             [
              0.2222222222222222,
              "#7201a8"
             ],
             [
              0.3333333333333333,
              "#9c179e"
             ],
             [
              0.4444444444444444,
              "#bd3786"
             ],
             [
              0.5555555555555556,
              "#d8576b"
             ],
             [
              0.6666666666666666,
              "#ed7953"
             ],
             [
              0.7777777777777778,
              "#fb9f3a"
             ],
             [
              0.8888888888888888,
              "#fdca26"
             ],
             [
              1,
              "#f0f921"
             ]
            ],
            "type": "heatmap"
           }
          ],
          "heatmapgl": [
           {
            "colorbar": {
             "outlinewidth": 0,
             "ticks": ""
            },
            "colorscale": [
             [
              0,
              "#0d0887"
             ],
             [
              0.1111111111111111,
              "#46039f"
             ],
             [
              0.2222222222222222,
              "#7201a8"
             ],
             [
              0.3333333333333333,
              "#9c179e"
             ],
             [
              0.4444444444444444,
              "#bd3786"
             ],
             [
              0.5555555555555556,
              "#d8576b"
             ],
             [
              0.6666666666666666,
              "#ed7953"
             ],
             [
              0.7777777777777778,
              "#fb9f3a"
             ],
             [
              0.8888888888888888,
              "#fdca26"
             ],
             [
              1,
              "#f0f921"
             ]
            ],
            "type": "heatmapgl"
           }
          ],
          "histogram": [
           {
            "marker": {
             "pattern": {
              "fillmode": "overlay",
              "size": 10,
              "solidity": 0.2
             }
            },
            "type": "histogram"
           }
          ],
          "histogram2d": [
           {
            "colorbar": {
             "outlinewidth": 0,
             "ticks": ""
            },
            "colorscale": [
             [
              0,
              "#0d0887"
             ],
             [
              0.1111111111111111,
              "#46039f"
             ],
             [
              0.2222222222222222,
              "#7201a8"
             ],
             [
              0.3333333333333333,
              "#9c179e"
             ],
             [
              0.4444444444444444,
              "#bd3786"
             ],
             [
              0.5555555555555556,
              "#d8576b"
             ],
             [
              0.6666666666666666,
              "#ed7953"
             ],
             [
              0.7777777777777778,
              "#fb9f3a"
             ],
             [
              0.8888888888888888,
              "#fdca26"
             ],
             [
              1,
              "#f0f921"
             ]
            ],
            "type": "histogram2d"
           }
          ],
          "histogram2dcontour": [
           {
            "colorbar": {
             "outlinewidth": 0,
             "ticks": ""
            },
            "colorscale": [
             [
              0,
              "#0d0887"
             ],
             [
              0.1111111111111111,
              "#46039f"
             ],
             [
              0.2222222222222222,
              "#7201a8"
             ],
             [
              0.3333333333333333,
              "#9c179e"
             ],
             [
              0.4444444444444444,
              "#bd3786"
             ],
             [
              0.5555555555555556,
              "#d8576b"
             ],
             [
              0.6666666666666666,
              "#ed7953"
             ],
             [
              0.7777777777777778,
              "#fb9f3a"
             ],
             [
              0.8888888888888888,
              "#fdca26"
             ],
             [
              1,
              "#f0f921"
             ]
            ],
            "type": "histogram2dcontour"
           }
          ],
          "mesh3d": [
           {
            "colorbar": {
             "outlinewidth": 0,
             "ticks": ""
            },
            "type": "mesh3d"
           }
          ],
          "parcoords": [
           {
            "line": {
             "colorbar": {
              "outlinewidth": 0,
              "ticks": ""
             }
            },
            "type": "parcoords"
           }
          ],
          "pie": [
           {
            "automargin": true,
            "type": "pie"
           }
          ],
          "scatter": [
           {
            "fillpattern": {
             "fillmode": "overlay",
             "size": 10,
             "solidity": 0.2
            },
            "type": "scatter"
           }
          ],
          "scatter3d": [
           {
            "line": {
             "colorbar": {
              "outlinewidth": 0,
              "ticks": ""
             }
            },
            "marker": {
             "colorbar": {
              "outlinewidth": 0,
              "ticks": ""
             }
            },
            "type": "scatter3d"
           }
          ],
          "scattercarpet": [
           {
            "marker": {
             "colorbar": {
              "outlinewidth": 0,
              "ticks": ""
             }
            },
            "type": "scattercarpet"
           }
          ],
          "scattergeo": [
           {
            "marker": {
             "colorbar": {
              "outlinewidth": 0,
              "ticks": ""
             }
            },
            "type": "scattergeo"
           }
          ],
          "scattergl": [
           {
            "marker": {
             "colorbar": {
              "outlinewidth": 0,
              "ticks": ""
             }
            },
            "type": "scattergl"
           }
          ],
          "scattermapbox": [
           {
            "marker": {
             "colorbar": {
              "outlinewidth": 0,
              "ticks": ""
             }
            },
            "type": "scattermapbox"
           }
          ],
          "scatterpolar": [
           {
            "marker": {
             "colorbar": {
              "outlinewidth": 0,
              "ticks": ""
             }
            },
            "type": "scatterpolar"
           }
          ],
          "scatterpolargl": [
           {
            "marker": {
             "colorbar": {
              "outlinewidth": 0,
              "ticks": ""
             }
            },
            "type": "scatterpolargl"
           }
          ],
          "scatterternary": [
           {
            "marker": {
             "colorbar": {
              "outlinewidth": 0,
              "ticks": ""
             }
            },
            "type": "scatterternary"
           }
          ],
          "surface": [
           {
            "colorbar": {
             "outlinewidth": 0,
             "ticks": ""
            },
            "colorscale": [
             [
              0,
              "#0d0887"
             ],
             [
              0.1111111111111111,
              "#46039f"
             ],
             [
              0.2222222222222222,
              "#7201a8"
             ],
             [
              0.3333333333333333,
              "#9c179e"
             ],
             [
              0.4444444444444444,
              "#bd3786"
             ],
             [
              0.5555555555555556,
              "#d8576b"
             ],
             [
              0.6666666666666666,
              "#ed7953"
             ],
             [
              0.7777777777777778,
              "#fb9f3a"
             ],
             [
              0.8888888888888888,
              "#fdca26"
             ],
             [
              1,
              "#f0f921"
             ]
            ],
            "type": "surface"
           }
          ],
          "table": [
           {
            "cells": {
             "fill": {
              "color": "#EBF0F8"
             },
             "line": {
              "color": "white"
             }
            },
            "header": {
             "fill": {
              "color": "#C8D4E3"
             },
             "line": {
              "color": "white"
             }
            },
            "type": "table"
           }
          ]
         },
         "layout": {
          "annotationdefaults": {
           "arrowcolor": "#2a3f5f",
           "arrowhead": 0,
           "arrowwidth": 1
          },
          "autotypenumbers": "strict",
          "coloraxis": {
           "colorbar": {
            "outlinewidth": 0,
            "ticks": ""
           }
          },
          "colorscale": {
           "diverging": [
            [
             0,
             "#8e0152"
            ],
            [
             0.1,
             "#c51b7d"
            ],
            [
             0.2,
             "#de77ae"
            ],
            [
             0.3,
             "#f1b6da"
            ],
            [
             0.4,
             "#fde0ef"
            ],
            [
             0.5,
             "#f7f7f7"
            ],
            [
             0.6,
             "#e6f5d0"
            ],
            [
             0.7,
             "#b8e186"
            ],
            [
             0.8,
             "#7fbc41"
            ],
            [
             0.9,
             "#4d9221"
            ],
            [
             1,
             "#276419"
            ]
           ],
           "sequential": [
            [
             0,
             "#0d0887"
            ],
            [
             0.1111111111111111,
             "#46039f"
            ],
            [
             0.2222222222222222,
             "#7201a8"
            ],
            [
             0.3333333333333333,
             "#9c179e"
            ],
            [
             0.4444444444444444,
             "#bd3786"
            ],
            [
             0.5555555555555556,
             "#d8576b"
            ],
            [
             0.6666666666666666,
             "#ed7953"
            ],
            [
             0.7777777777777778,
             "#fb9f3a"
            ],
            [
             0.8888888888888888,
             "#fdca26"
            ],
            [
             1,
             "#f0f921"
            ]
           ],
           "sequentialminus": [
            [
             0,
             "#0d0887"
            ],
            [
             0.1111111111111111,
             "#46039f"
            ],
            [
             0.2222222222222222,
             "#7201a8"
            ],
            [
             0.3333333333333333,
             "#9c179e"
            ],
            [
             0.4444444444444444,
             "#bd3786"
            ],
            [
             0.5555555555555556,
             "#d8576b"
            ],
            [
             0.6666666666666666,
             "#ed7953"
            ],
            [
             0.7777777777777778,
             "#fb9f3a"
            ],
            [
             0.8888888888888888,
             "#fdca26"
            ],
            [
             1,
             "#f0f921"
            ]
           ]
          },
          "colorway": [
           "#636efa",
           "#EF553B",
           "#00cc96",
           "#ab63fa",
           "#FFA15A",
           "#19d3f3",
           "#FF6692",
           "#B6E880",
           "#FF97FF",
           "#FECB52"
          ],
          "font": {
           "color": "#2a3f5f"
          },
          "geo": {
           "bgcolor": "white",
           "lakecolor": "white",
           "landcolor": "#E5ECF6",
           "showlakes": true,
           "showland": true,
           "subunitcolor": "white"
          },
          "hoverlabel": {
           "align": "left"
          },
          "hovermode": "closest",
          "mapbox": {
           "style": "light"
          },
          "paper_bgcolor": "white",
          "plot_bgcolor": "#E5ECF6",
          "polar": {
           "angularaxis": {
            "gridcolor": "white",
            "linecolor": "white",
            "ticks": ""
           },
           "bgcolor": "#E5ECF6",
           "radialaxis": {
            "gridcolor": "white",
            "linecolor": "white",
            "ticks": ""
           }
          },
          "scene": {
           "xaxis": {
            "backgroundcolor": "#E5ECF6",
            "gridcolor": "white",
            "gridwidth": 2,
            "linecolor": "white",
            "showbackground": true,
            "ticks": "",
            "zerolinecolor": "white"
           },
           "yaxis": {
            "backgroundcolor": "#E5ECF6",
            "gridcolor": "white",
            "gridwidth": 2,
            "linecolor": "white",
            "showbackground": true,
            "ticks": "",
            "zerolinecolor": "white"
           },
           "zaxis": {
            "backgroundcolor": "#E5ECF6",
            "gridcolor": "white",
            "gridwidth": 2,
            "linecolor": "white",
            "showbackground": true,
            "ticks": "",
            "zerolinecolor": "white"
           }
          },
          "shapedefaults": {
           "line": {
            "color": "#2a3f5f"
           }
          },
          "ternary": {
           "aaxis": {
            "gridcolor": "white",
            "linecolor": "white",
            "ticks": ""
           },
           "baxis": {
            "gridcolor": "white",
            "linecolor": "white",
            "ticks": ""
           },
           "bgcolor": "#E5ECF6",
           "caxis": {
            "gridcolor": "white",
            "linecolor": "white",
            "ticks": ""
           }
          },
          "title": {
           "x": 0.05
          },
          "xaxis": {
           "automargin": true,
           "gridcolor": "white",
           "linecolor": "white",
           "ticks": "",
           "title": {
            "standoff": 15
           },
           "zerolinecolor": "white",
           "zerolinewidth": 2
          },
          "yaxis": {
           "automargin": true,
           "gridcolor": "white",
           "linecolor": "white",
           "ticks": "",
           "title": {
            "standoff": 15
           },
           "zerolinecolor": "white",
           "zerolinewidth": 2
          }
         }
        },
        "title": {
         "text": "30 day forecaste"
        },
        "xaxis": {
         "anchor": "y",
         "domain": [
          0,
          1
         ],
         "title": {
          "text": "index"
         }
        },
        "yaxis": {
         "anchor": "x",
         "domain": [
          0,
          1
         ],
         "title": {
          "text": "value"
         }
        }
       }
      },
      "text/html": [
       "<div>                            <div id=\"a098d54d-c10a-455e-bd61-6892f53103e1\" class=\"plotly-graph-div\" style=\"height:525px; width:100%;\"></div>            <script type=\"text/javascript\">                require([\"plotly\"], function(Plotly) {                    window.PLOTLYENV=window.PLOTLYENV || {};                                    if (document.getElementById(\"a098d54d-c10a-455e-bd61-6892f53103e1\")) {                    Plotly.newPlot(                        \"a098d54d-c10a-455e-bd61-6892f53103e1\",                        [{\"hovertemplate\":\"variable=0<br>index=%{x}<br>value=%{y}<extra></extra>\",\"legendgroup\":\"0\",\"line\":{\"color\":\"#636efa\",\"dash\":\"solid\"},\"marker\":{\"symbol\":\"circle\"},\"mode\":\"lines\",\"name\":\"0\",\"orientation\":\"v\",\"showlegend\":true,\"x\":[0,1,2,3,4,5,6,7,8,9,10,11,12,13,14,15,16,17,18,19,20,21,22,23,24,25,26,27,28,29],\"xaxis\":\"x\",\"y\":[122.33738708496094,130.28890991210938,133.78741455078125,130.4356231689453,133.98175048828125,138.43115234375,135.9780731201172,135.4498748779297,130.79043579101562,133.27061462402344,129.6622772216797,134.54739379882812,132.54092407226562,124.5710220336914,128.58154296875,121.53618621826172,129.505859375,137.18898010253906,129.98330688476562,136.29168701171875,125.29044342041016,132.36038208007812,129.6943359375,134.0901641845703,127.77484130859375,129.2442626953125,139.26991271972656,138.09646606445312,132.26318359375,134.70912170410156],\"yaxis\":\"y\",\"type\":\"scatter\"}],                        {\"template\":{\"data\":{\"histogram2dcontour\":[{\"type\":\"histogram2dcontour\",\"colorbar\":{\"outlinewidth\":0,\"ticks\":\"\"},\"colorscale\":[[0.0,\"#0d0887\"],[0.1111111111111111,\"#46039f\"],[0.2222222222222222,\"#7201a8\"],[0.3333333333333333,\"#9c179e\"],[0.4444444444444444,\"#bd3786\"],[0.5555555555555556,\"#d8576b\"],[0.6666666666666666,\"#ed7953\"],[0.7777777777777778,\"#fb9f3a\"],[0.8888888888888888,\"#fdca26\"],[1.0,\"#f0f921\"]]}],\"choropleth\":[{\"type\":\"choropleth\",\"colorbar\":{\"outlinewidth\":0,\"ticks\":\"\"}}],\"histogram2d\":[{\"type\":\"histogram2d\",\"colorbar\":{\"outlinewidth\":0,\"ticks\":\"\"},\"colorscale\":[[0.0,\"#0d0887\"],[0.1111111111111111,\"#46039f\"],[0.2222222222222222,\"#7201a8\"],[0.3333333333333333,\"#9c179e\"],[0.4444444444444444,\"#bd3786\"],[0.5555555555555556,\"#d8576b\"],[0.6666666666666666,\"#ed7953\"],[0.7777777777777778,\"#fb9f3a\"],[0.8888888888888888,\"#fdca26\"],[1.0,\"#f0f921\"]]}],\"heatmap\":[{\"type\":\"heatmap\",\"colorbar\":{\"outlinewidth\":0,\"ticks\":\"\"},\"colorscale\":[[0.0,\"#0d0887\"],[0.1111111111111111,\"#46039f\"],[0.2222222222222222,\"#7201a8\"],[0.3333333333333333,\"#9c179e\"],[0.4444444444444444,\"#bd3786\"],[0.5555555555555556,\"#d8576b\"],[0.6666666666666666,\"#ed7953\"],[0.7777777777777778,\"#fb9f3a\"],[0.8888888888888888,\"#fdca26\"],[1.0,\"#f0f921\"]]}],\"heatmapgl\":[{\"type\":\"heatmapgl\",\"colorbar\":{\"outlinewidth\":0,\"ticks\":\"\"},\"colorscale\":[[0.0,\"#0d0887\"],[0.1111111111111111,\"#46039f\"],[0.2222222222222222,\"#7201a8\"],[0.3333333333333333,\"#9c179e\"],[0.4444444444444444,\"#bd3786\"],[0.5555555555555556,\"#d8576b\"],[0.6666666666666666,\"#ed7953\"],[0.7777777777777778,\"#fb9f3a\"],[0.8888888888888888,\"#fdca26\"],[1.0,\"#f0f921\"]]}],\"contourcarpet\":[{\"type\":\"contourcarpet\",\"colorbar\":{\"outlinewidth\":0,\"ticks\":\"\"}}],\"contour\":[{\"type\":\"contour\",\"colorbar\":{\"outlinewidth\":0,\"ticks\":\"\"},\"colorscale\":[[0.0,\"#0d0887\"],[0.1111111111111111,\"#46039f\"],[0.2222222222222222,\"#7201a8\"],[0.3333333333333333,\"#9c179e\"],[0.4444444444444444,\"#bd3786\"],[0.5555555555555556,\"#d8576b\"],[0.6666666666666666,\"#ed7953\"],[0.7777777777777778,\"#fb9f3a\"],[0.8888888888888888,\"#fdca26\"],[1.0,\"#f0f921\"]]}],\"surface\":[{\"type\":\"surface\",\"colorbar\":{\"outlinewidth\":0,\"ticks\":\"\"},\"colorscale\":[[0.0,\"#0d0887\"],[0.1111111111111111,\"#46039f\"],[0.2222222222222222,\"#7201a8\"],[0.3333333333333333,\"#9c179e\"],[0.4444444444444444,\"#bd3786\"],[0.5555555555555556,\"#d8576b\"],[0.6666666666666666,\"#ed7953\"],[0.7777777777777778,\"#fb9f3a\"],[0.8888888888888888,\"#fdca26\"],[1.0,\"#f0f921\"]]}],\"mesh3d\":[{\"type\":\"mesh3d\",\"colorbar\":{\"outlinewidth\":0,\"ticks\":\"\"}}],\"scatter\":[{\"fillpattern\":{\"fillmode\":\"overlay\",\"size\":10,\"solidity\":0.2},\"type\":\"scatter\"}],\"parcoords\":[{\"type\":\"parcoords\",\"line\":{\"colorbar\":{\"outlinewidth\":0,\"ticks\":\"\"}}}],\"scatterpolargl\":[{\"type\":\"scatterpolargl\",\"marker\":{\"colorbar\":{\"outlinewidth\":0,\"ticks\":\"\"}}}],\"bar\":[{\"error_x\":{\"color\":\"#2a3f5f\"},\"error_y\":{\"color\":\"#2a3f5f\"},\"marker\":{\"line\":{\"color\":\"#E5ECF6\",\"width\":0.5},\"pattern\":{\"fillmode\":\"overlay\",\"size\":10,\"solidity\":0.2}},\"type\":\"bar\"}],\"scattergeo\":[{\"type\":\"scattergeo\",\"marker\":{\"colorbar\":{\"outlinewidth\":0,\"ticks\":\"\"}}}],\"scatterpolar\":[{\"type\":\"scatterpolar\",\"marker\":{\"colorbar\":{\"outlinewidth\":0,\"ticks\":\"\"}}}],\"histogram\":[{\"marker\":{\"pattern\":{\"fillmode\":\"overlay\",\"size\":10,\"solidity\":0.2}},\"type\":\"histogram\"}],\"scattergl\":[{\"type\":\"scattergl\",\"marker\":{\"colorbar\":{\"outlinewidth\":0,\"ticks\":\"\"}}}],\"scatter3d\":[{\"type\":\"scatter3d\",\"line\":{\"colorbar\":{\"outlinewidth\":0,\"ticks\":\"\"}},\"marker\":{\"colorbar\":{\"outlinewidth\":0,\"ticks\":\"\"}}}],\"scattermapbox\":[{\"type\":\"scattermapbox\",\"marker\":{\"colorbar\":{\"outlinewidth\":0,\"ticks\":\"\"}}}],\"scatterternary\":[{\"type\":\"scatterternary\",\"marker\":{\"colorbar\":{\"outlinewidth\":0,\"ticks\":\"\"}}}],\"scattercarpet\":[{\"type\":\"scattercarpet\",\"marker\":{\"colorbar\":{\"outlinewidth\":0,\"ticks\":\"\"}}}],\"carpet\":[{\"aaxis\":{\"endlinecolor\":\"#2a3f5f\",\"gridcolor\":\"white\",\"linecolor\":\"white\",\"minorgridcolor\":\"white\",\"startlinecolor\":\"#2a3f5f\"},\"baxis\":{\"endlinecolor\":\"#2a3f5f\",\"gridcolor\":\"white\",\"linecolor\":\"white\",\"minorgridcolor\":\"white\",\"startlinecolor\":\"#2a3f5f\"},\"type\":\"carpet\"}],\"table\":[{\"cells\":{\"fill\":{\"color\":\"#EBF0F8\"},\"line\":{\"color\":\"white\"}},\"header\":{\"fill\":{\"color\":\"#C8D4E3\"},\"line\":{\"color\":\"white\"}},\"type\":\"table\"}],\"barpolar\":[{\"marker\":{\"line\":{\"color\":\"#E5ECF6\",\"width\":0.5},\"pattern\":{\"fillmode\":\"overlay\",\"size\":10,\"solidity\":0.2}},\"type\":\"barpolar\"}],\"pie\":[{\"automargin\":true,\"type\":\"pie\"}]},\"layout\":{\"autotypenumbers\":\"strict\",\"colorway\":[\"#636efa\",\"#EF553B\",\"#00cc96\",\"#ab63fa\",\"#FFA15A\",\"#19d3f3\",\"#FF6692\",\"#B6E880\",\"#FF97FF\",\"#FECB52\"],\"font\":{\"color\":\"#2a3f5f\"},\"hovermode\":\"closest\",\"hoverlabel\":{\"align\":\"left\"},\"paper_bgcolor\":\"white\",\"plot_bgcolor\":\"#E5ECF6\",\"polar\":{\"bgcolor\":\"#E5ECF6\",\"angularaxis\":{\"gridcolor\":\"white\",\"linecolor\":\"white\",\"ticks\":\"\"},\"radialaxis\":{\"gridcolor\":\"white\",\"linecolor\":\"white\",\"ticks\":\"\"}},\"ternary\":{\"bgcolor\":\"#E5ECF6\",\"aaxis\":{\"gridcolor\":\"white\",\"linecolor\":\"white\",\"ticks\":\"\"},\"baxis\":{\"gridcolor\":\"white\",\"linecolor\":\"white\",\"ticks\":\"\"},\"caxis\":{\"gridcolor\":\"white\",\"linecolor\":\"white\",\"ticks\":\"\"}},\"coloraxis\":{\"colorbar\":{\"outlinewidth\":0,\"ticks\":\"\"}},\"colorscale\":{\"sequential\":[[0.0,\"#0d0887\"],[0.1111111111111111,\"#46039f\"],[0.2222222222222222,\"#7201a8\"],[0.3333333333333333,\"#9c179e\"],[0.4444444444444444,\"#bd3786\"],[0.5555555555555556,\"#d8576b\"],[0.6666666666666666,\"#ed7953\"],[0.7777777777777778,\"#fb9f3a\"],[0.8888888888888888,\"#fdca26\"],[1.0,\"#f0f921\"]],\"sequentialminus\":[[0.0,\"#0d0887\"],[0.1111111111111111,\"#46039f\"],[0.2222222222222222,\"#7201a8\"],[0.3333333333333333,\"#9c179e\"],[0.4444444444444444,\"#bd3786\"],[0.5555555555555556,\"#d8576b\"],[0.6666666666666666,\"#ed7953\"],[0.7777777777777778,\"#fb9f3a\"],[0.8888888888888888,\"#fdca26\"],[1.0,\"#f0f921\"]],\"diverging\":[[0,\"#8e0152\"],[0.1,\"#c51b7d\"],[0.2,\"#de77ae\"],[0.3,\"#f1b6da\"],[0.4,\"#fde0ef\"],[0.5,\"#f7f7f7\"],[0.6,\"#e6f5d0\"],[0.7,\"#b8e186\"],[0.8,\"#7fbc41\"],[0.9,\"#4d9221\"],[1,\"#276419\"]]},\"xaxis\":{\"gridcolor\":\"white\",\"linecolor\":\"white\",\"ticks\":\"\",\"title\":{\"standoff\":15},\"zerolinecolor\":\"white\",\"automargin\":true,\"zerolinewidth\":2},\"yaxis\":{\"gridcolor\":\"white\",\"linecolor\":\"white\",\"ticks\":\"\",\"title\":{\"standoff\":15},\"zerolinecolor\":\"white\",\"automargin\":true,\"zerolinewidth\":2},\"scene\":{\"xaxis\":{\"backgroundcolor\":\"#E5ECF6\",\"gridcolor\":\"white\",\"linecolor\":\"white\",\"showbackground\":true,\"ticks\":\"\",\"zerolinecolor\":\"white\",\"gridwidth\":2},\"yaxis\":{\"backgroundcolor\":\"#E5ECF6\",\"gridcolor\":\"white\",\"linecolor\":\"white\",\"showbackground\":true,\"ticks\":\"\",\"zerolinecolor\":\"white\",\"gridwidth\":2},\"zaxis\":{\"backgroundcolor\":\"#E5ECF6\",\"gridcolor\":\"white\",\"linecolor\":\"white\",\"showbackground\":true,\"ticks\":\"\",\"zerolinecolor\":\"white\",\"gridwidth\":2}},\"shapedefaults\":{\"line\":{\"color\":\"#2a3f5f\"}},\"annotationdefaults\":{\"arrowcolor\":\"#2a3f5f\",\"arrowhead\":0,\"arrowwidth\":1},\"geo\":{\"bgcolor\":\"white\",\"landcolor\":\"#E5ECF6\",\"subunitcolor\":\"white\",\"showland\":true,\"showlakes\":true,\"lakecolor\":\"white\"},\"title\":{\"x\":0.05},\"mapbox\":{\"style\":\"light\"}}},\"xaxis\":{\"anchor\":\"y\",\"domain\":[0.0,1.0],\"title\":{\"text\":\"index\"}},\"yaxis\":{\"anchor\":\"x\",\"domain\":[0.0,1.0],\"title\":{\"text\":\"value\"}},\"legend\":{\"title\":{\"text\":\"variable\"},\"tracegroupgap\":0},\"title\":{\"text\":\"30 day forecaste\"}},                        {\"responsive\": true}                    ).then(function(){\n",
       "                            \n",
       "var gd = document.getElementById('a098d54d-c10a-455e-bd61-6892f53103e1');\n",
       "var x = new MutationObserver(function (mutations, observer) {{\n",
       "        var display = window.getComputedStyle(gd).display;\n",
       "        if (!display || display === 'none') {{\n",
       "            console.log([gd, 'removed!']);\n",
       "            Plotly.purge(gd);\n",
       "            observer.disconnect();\n",
       "        }}\n",
       "}});\n",
       "\n",
       "// Listen for the removal of the full notebook cells\n",
       "var notebookContainer = gd.closest('#notebook-container');\n",
       "if (notebookContainer) {{\n",
       "    x.observe(notebookContainer, {childList: true});\n",
       "}}\n",
       "\n",
       "// Listen for the clearing of the current output cell\n",
       "var outputEl = gd.closest('.output');\n",
       "if (outputEl) {{\n",
       "    x.observe(outputEl, {childList: true});\n",
       "}}\n",
       "\n",
       "                        })                };                });            </script>        </div>"
      ]
     },
     "metadata": {},
     "output_type": "display_data"
    }
   ],
   "source": [
    "import plotly.express as px\n",
    "fig = px.line(y_pred_inv,  title='30 day forecaste')\n",
    "fig.show()"
   ]
  }
 ],
 "metadata": {
  "kernelspec": {
   "display_name": "Python 3 (ipykernel)",
   "language": "python",
   "name": "python3"
  },
  "language_info": {
   "codemirror_mode": {
    "name": "ipython",
    "version": 3
   },
   "file_extension": ".py",
   "mimetype": "text/x-python",
   "name": "python",
   "nbconvert_exporter": "python",
   "pygments_lexer": "ipython3",
   "version": "3.9.15"
  }
 },
 "nbformat": 4,
 "nbformat_minor": 5
}
